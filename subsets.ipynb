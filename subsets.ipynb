{
 "cells": [
  {
   "cell_type": "code",
   "execution_count": 6,
   "metadata": {},
   "outputs": [],
   "source": [
    "using IterTools"
   ]
  },
  {
   "cell_type": "code",
   "execution_count": 17,
   "metadata": {},
   "outputs": [],
   "source": [
    "number_of_species = 28\n",
    "possible_elements = [ k+1 for k in 0:27];\n"
   ]
  },
  {
   "cell_type": "code",
   "execution_count": 18,
   "metadata": {},
   "outputs": [
    {
     "name": "stdout",
     "output_type": "stream",
     "text": [
      "268435456\n"
     ]
    }
   ],
   "source": [
    "tmp = IterTools.subsets(possible_elements)\n",
    "println(length(tmp))"
   ]
  },
  {
   "cell_type": "code",
   "execution_count": 19,
   "metadata": {},
   "outputs": [
    {
     "ename": "InterruptException",
     "evalue": "InterruptException:",
     "output_type": "error",
     "traceback": [
      "InterruptException:",
      "",
      "Stacktrace:",
      " [1] argtail(::Int64, ::LinearIndices{1,Tuple{Base.OneTo{Int64}}}, ::Vararg{Any,N} where N) at ./essentials.jl:172",
      " [2] tail at ./essentials.jl:173 [inlined]",
      " [3] iterate(::Base.LogicalIndex{Int64,Array{Bool,1}}, ::Tuple{Int64,LinearIndices{1,Tuple{Base.OneTo{Int64}}}}) at ./multidimensional.jl:518",
      " [4] iterate at ./multidimensional.jl:507 [inlined]",
      " [5] macro expansion at ./cartesian.jl:62 [inlined]",
      " [6] macro expansion at ./multidimensional.jl:613 [inlined]",
      " [7] _unsafe_getindex!(::Array{Int64,1}, ::Array{Int64,1}, ::Base.LogicalIndex{Int64,Array{Bool,1}}) at ./multidimensional.jl:609",
      " [8] iterate(::IterTools.Subsets{Array{Int64,1}}, ::Array{Bool,1}) at ./multidimensional.jl:603",
      " [9] iterate at ./generator.jl:44 [inlined]",
      " [10] collect_to! at ./array.jl:656 [inlined]",
      " [11] collect_to_with_first!(::Array{Array{Int64,1},1}, ::Array{Int64,1}, ::Base.Generator{IterTools.Subsets{Array{Int64,1}},getfield(Main, Symbol(\"##15#16\"))}, ::Array{Bool,1}) at ./array.jl:643",
      " [12] collect(::Base.Generator{IterTools.Subsets{Array{Int64,1}},getfield(Main, Symbol(\"##15#16\"))}) at ./array.jl:624",
      " [13] top-level scope at In[19]:1"
     ]
    }
   ],
   "source": [
    "kt = [i for in in  tmp]"
   ]
  },
  {
   "cell_type": "code",
   "execution_count": 20,
   "metadata": {},
   "outputs": [
    {
     "ename": "UndefVarError",
     "evalue": "UndefVarError: kt not defined",
     "output_type": "error",
     "traceback": [
      "UndefVarError: kt not defined",
      "",
      "Stacktrace:",
      " [1] top-level scope at In[20]:1"
     ]
    }
   ],
   "source": [
    "length(kt)"
   ]
  },
  {
   "cell_type": "code",
   "execution_count": 15,
   "metadata": {},
   "outputs": [
    {
     "ename": "MethodError",
     "evalue": "MethodError: no method matching getindex(::IterTools.Subsets{Array{Int64,1}}, ::Int64)",
     "output_type": "error",
     "traceback": [
      "MethodError: no method matching getindex(::IterTools.Subsets{Array{Int64,1}}, ::Int64)",
      "",
      "Stacktrace:",
      " [1] top-level scope at In[15]:1"
     ]
    }
   ],
   "source": [
    "tmp[12]"
   ]
  },
  {
   "cell_type": "code",
   "execution_count": null,
   "metadata": {},
   "outputs": [],
   "source": []
  }
 ],
 "metadata": {
  "kernelspec": {
   "display_name": "Julia 1.0.0",
   "language": "julia",
   "name": "julia-1.0"
  },
  "language_info": {
   "file_extension": ".jl",
   "mimetype": "application/julia",
   "name": "julia",
   "version": "1.0.0"
  }
 },
 "nbformat": 4,
 "nbformat_minor": 2
}
