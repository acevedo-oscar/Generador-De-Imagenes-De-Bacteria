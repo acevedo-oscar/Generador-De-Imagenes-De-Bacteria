{
 "cells": [
  {
   "cell_type": "code",
   "execution_count": 1,
   "metadata": {},
   "outputs": [],
   "source": [
    "from  SyntheticMicro import *\n",
    "import numpy as np\n",
    "from numpy import ndarray as Tensor\n",
    "from scipy.integrate import solve_ivp\n",
    "\n",
    "import matplotlib.pyplot as plt\n",
    "%matplotlib inline"
   ]
  },
  {
   "cell_type": "code",
   "execution_count": 2,
   "metadata": {},
   "outputs": [],
   "source": [
    "mu : float = 1.0\n",
    "interspec : float= 0.6\n",
    "nodes_number : int= 28\n",
    "interaction_probability :float = 1\n",
    "\n",
    "#np.random.seed(12)\n",
    "\n",
    "# Step 1\n",
    "\n",
    "A_matrix : Tensor = ER_Eco_Net_Matrix(nodes_number, interaction_probability, interspec )\n",
    "\n",
    "\n",
    "# Step 2\n",
    "\n",
    "# This matrix will be \"broadcasted\" to all Ax columns\n",
    "r_matrix : Tensor = np.random.uniform(0,1, nodes_number)\n",
    "\n",
    "#Step 3\n"
   ]
  },
  {
   "cell_type": "code",
   "execution_count": 3,
   "metadata": {},
   "outputs": [],
   "source": [
    "\n",
    "def SystemDynamics(  time , input_values ):\n",
    "    \"\"\"\n",
    "    dx/dt = diag(x)[Ax+r]\n",
    "    \"\"\"\n",
    "    A_m = A_matrix\n",
    "    r_m = r_matrix\n",
    "    diag_m = Diagonal_Matrix( np.array(input_values))\n",
    "\n",
    "    left_product = np.matmul(A_m, np.array(input_values) ) + r_m\n",
    "\n",
    "    dx =  np.matmul(diag_m,left_product.T).flatten()\n",
    "\n",
    "    return dx.tolist()[0]\n"
   ]
  },
  {
   "cell_type": "code",
   "execution_count": 14,
   "metadata": {},
   "outputs": [
    {
     "name": "stdout",
     "output_type": "stream",
     "text": [
      "Required step size is less than spacing between numbers.\n"
     ]
    }
   ],
   "source": [
    "initial_cond = Get_Random_Composition(nodes_number )\n",
    "\n",
    "T : int = 600\n",
    "\n",
    "sol_flag : int = 0\n",
    "    \n",
    "while sol_flag == 0:\n",
    "    solution1 = solve_ivp(SystemDynamics, (0,T), initial_cond, rtol = 1e-6, method='RK45'    )\n",
    "    \n",
    "    if solution1.status != -1:\n",
    "        sol_flag = 1\n",
    "\n"
   ]
  },
  {
   "cell_type": "code",
   "execution_count": 15,
   "metadata": {},
   "outputs": [
    {
     "name": "stdout",
     "output_type": "stream",
     "text": [
      "Required step size is less than spacing between numbers.\n"
     ]
    }
   ],
   "source": [
    "print(solution1.message)"
   ]
  },
  {
   "cell_type": "code",
   "execution_count": null,
   "metadata": {},
   "outputs": [],
   "source": []
  }
 ],
 "metadata": {
  "kernelspec": {
   "display_name": "Python 3",
   "language": "python",
   "name": "python3"
  },
  "language_info": {
   "codemirror_mode": {
    "name": "ipython",
    "version": 3
   },
   "file_extension": ".py",
   "mimetype": "text/x-python",
   "name": "python",
   "nbconvert_exporter": "python",
   "pygments_lexer": "ipython3",
   "version": "3.6.5"
  }
 },
 "nbformat": 4,
 "nbformat_minor": 2
}
