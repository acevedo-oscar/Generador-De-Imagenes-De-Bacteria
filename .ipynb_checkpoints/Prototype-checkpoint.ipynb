{
 "cells": [
  {
   "cell_type": "code",
   "execution_count": 1,
   "metadata": {},
   "outputs": [],
   "source": [
    "from  SyntheticMicro import *\n",
    "import numpy as np\n",
    "from numpy import ndarray as Tensor\n",
    "from scipy.integrate import solve_ivp\n",
    "\n",
    "import matplotlib.pyplot as plt\n",
    "%matplotlib inline"
   ]
  },
  {
   "cell_type": "markdown",
   "metadata": {},
   "source": [
    "## Model definition"
   ]
  },
  {
   "cell_type": "code",
   "execution_count": 2,
   "metadata": {},
   "outputs": [],
   "source": [
    "mu : float = 0.0\n",
    "interspec : float= 0.6\n",
    "nodes_number : int= 28\n",
    "interaction_probability :float = 1\n",
    "#np.random.seed(12)\n",
    "\n",
    "A_matrix : Tensor = ER_Eco_Net_Matrix(nodes_number, interaction_probability, interspec )\n",
    "# This matrix will be \"broadcasted\" to all Ax columns\n",
    "r_matrix : Tensor = np.random.uniform(0,1, nodes_number)"
   ]
  },
  {
   "cell_type": "code",
   "execution_count": 3,
   "metadata": {},
   "outputs": [],
   "source": [
    "\n",
    "def SystemDynamics(  time , input_values ):\n",
    "    \"\"\"\n",
    "    dx/dt = diag(x)[Ax+r]\n",
    "    \"\"\"\n",
    "    A_m = A_matrix\n",
    "    r_m = r_matrix\n",
    "    diag_m = Diagonal_Matrix( np.array(input_values))\n",
    "\n",
    "    left_product = np.matmul(A_m, np.array(input_values) ) + r_m\n",
    "\n",
    "    dx =  np.matmul(diag_m,left_product.T).flatten()\n",
    "\n",
    "    return dx.tolist()[0]\n",
    "\n",
    "def GetFinalState(eq_solution):\n",
    "    return eq_solution.y[:, -1].tolist()\n",
    "\n",
    "\n",
    "def GetImageMatrix(species_number:int,T:int) -> Tensor:\n",
    "    sol_flag :int = 0 \n",
    "    states_container = []\n",
    "    for k in range(species_number):\n",
    "        while sol_flag == 0:\n",
    "            initial_cond_ivp = Get_Random_Composition(species_number )\n",
    "            ivp_sol = solve_ivp(SystemDynamics, (0,T), initial_cond_ivp, method='RK45')\n",
    "            if ivp_sol.status != -1:\n",
    "                sol_flag = 1\n",
    "        sol_flag  = 0\n",
    "        states_container.append(GetFinalState(ivp_sol))\n",
    "\n",
    "    return np.array(states_container)\n"
   ]
  },
  {
   "cell_type": "markdown",
   "metadata": {},
   "source": [
    "# Parameters test\n",
    "\n",
    "## Initial Conditions"
   ]
  },
  {
   "cell_type": "code",
   "execution_count": 4,
   "metadata": {},
   "outputs": [
    {
     "data": {
      "text/plain": [
       "[0.19916321598424236,\n",
       " 0.5472750279138687,\n",
       " 0.0,\n",
       " 0.0,\n",
       " 0.0,\n",
       " 0.0,\n",
       " 0.0,\n",
       " 0.02436305516372983,\n",
       " 0.5630481019564374,\n",
       " 0.0,\n",
       " 0.0,\n",
       " 0.0,\n",
       " 0.0,\n",
       " 0.42569566232462996,\n",
       " 0.0,\n",
       " 0.7888483997469424,\n",
       " 0.6194482437072704,\n",
       " 0.9889204112586529,\n",
       " 0.0,\n",
       " 0.8879940782899371,\n",
       " 0.3299506904894183,\n",
       " 0.0,\n",
       " 0.0,\n",
       " 0.0,\n",
       " 0.3438942678788527,\n",
       " 0.03925112388028762,\n",
       " 0.391432526646296,\n",
       " 0.10629375562451282]"
      ]
     },
     "execution_count": 4,
     "metadata": {},
     "output_type": "execute_result"
    }
   ],
   "source": [
    "Get_Random_Composition(nodes_number )"
   ]
  },
  {
   "cell_type": "code",
   "execution_count": 5,
   "metadata": {},
   "outputs": [
    {
     "data": {
      "text/plain": [
       "matrix([[-1.        , -0.19963023, -0.0713983 ],\n",
       "        [-0.15651319, -1.        , -0.31058215],\n",
       "        [-0.20827908, -1.27677562, -1.        ]])"
      ]
     },
     "execution_count": 5,
     "metadata": {},
     "output_type": "execute_result"
    }
   ],
   "source": [
    "ER_Eco_Net_Matrix(3, interaction_probability, interspec ) "
   ]
  },
  {
   "cell_type": "code",
   "execution_count": 6,
   "metadata": {},
   "outputs": [
    {
     "data": {
      "text/plain": [
       "array([0.70575879, 0.19824696, 0.71750184])"
      ]
     },
     "execution_count": 6,
     "metadata": {},
     "output_type": "execute_result"
    }
   ],
   "source": [
    "np.random.uniform(0,1, 3)"
   ]
  },
  {
   "cell_type": "code",
   "execution_count": 7,
   "metadata": {},
   "outputs": [
    {
     "data": {
      "text/plain": [
       "array([[4., 0., 0.],\n",
       "       [0., 5., 0.],\n",
       "       [0., 0., 6.]])"
      ]
     },
     "execution_count": 7,
     "metadata": {},
     "output_type": "execute_result"
    }
   ],
   "source": [
    "Diagonal_Matrix( np.array([4,5,6]))"
   ]
  },
  {
   "cell_type": "markdown",
   "metadata": {},
   "source": [
    "# Actually solving the equations\n",
    "\n",
    "It seems that the system get into stedy state for $ T = 100 $"
   ]
  },
  {
   "cell_type": "code",
   "execution_count": 8,
   "metadata": {},
   "outputs": [
    {
     "name": "stdout",
     "output_type": "stream",
     "text": [
      "The solver successfully reached the end of the integration interval.\n"
     ]
    }
   ],
   "source": [
    "T : int = 600\n",
    "\n",
    "sol_flag : int = 0\n",
    "    \n",
    "while sol_flag == 0:\n",
    "    initial_cond = Get_Random_Composition(nodes_number )\n",
    "    solution1 = solve_ivp(SystemDynamics, (0,T), initial_cond, rtol = 1e-6, method='RK45'    )\n",
    "    \n",
    "    if solution1.status != -1:\n",
    "        sol_flag = 1\n",
    "\n",
    "print(solution1.message)"
   ]
  },
  {
   "cell_type": "code",
   "execution_count": 9,
   "metadata": {},
   "outputs": [
    {
     "name": "stdout",
     "output_type": "stream",
     "text": [
      "663\n"
     ]
    },
    {
     "data": {
      "image/png": "[encoded data removed]",
      "text/plain": [
       "<Figure size 432x288 with 1 Axes>"
      ]
     },
     "metadata": {},
     "output_type": "display_data"
    }
   ],
   "source": [
    "n_spec = solution1.y.shape[0]\n",
    "\n",
    "print(len(solution1.t))\n",
    "\n",
    "lim : int = round(len(solution1.t)*0.1)\n",
    "for k in range(n_spec):\n",
    "\n",
    "    plt.plot(solution1.t[0:lim], solution1.y[k,0:lim])"
   ]
  },
  {
   "cell_type": "markdown",
   "metadata": {},
   "source": [
    "## Second try"
   ]
  },
  {
   "cell_type": "code",
   "execution_count": 10,
   "metadata": {},
   "outputs": [
    {
     "name": "stdout",
     "output_type": "stream",
     "text": [
      "-1\n",
      "Required step size is less than spacing between numbers.\n",
      "0\n",
      "The solver successfully reached the end of the integration interval.\n"
     ]
    }
   ],
   "source": [
    "T : int = 100\n",
    "sol_flag : int = 0\n",
    "    \n",
    "while sol_flag == 0:\n",
    "    initial_cond2 = Get_Random_Composition(nodes_number )\n",
    "    solution2 = solve_ivp(SystemDynamics, (0,T), initial_cond2, rtol = 1e-6, method='RK45'    )\n",
    "    \n",
    "    print(solution2.status)\n",
    "    print(solution2.message)\n",
    "    \n",
    "    if solution2.status != -1:\n",
    "        sol_flag = 1\n"
   ]
  },
  {
   "cell_type": "code",
   "execution_count": 11,
   "metadata": {},
   "outputs": [
    {
     "name": "stdout",
     "output_type": "stream",
     "text": [
      "333\n"
     ]
    },
    {
     "data": {
      "image/png": "[encoded data removed]",
      "text/plain": [
       "<Figure size 432x288 with 1 Axes>"
      ]
     },
     "metadata": {},
     "output_type": "display_data"
    }
   ],
   "source": [
    "n_spec = solution2.y.shape[0]\n",
    "\n",
    "print(len(solution2.t))\n",
    "\n",
    "lim : int = round(len(solution2.t))\n",
    "for k in range(n_spec):\n",
    "\n",
    "    plt.plot(solution2.t[0:lim], solution2.y[k,0:lim])"
   ]
  },
  {
   "cell_type": "code",
   "execution_count": 23,
   "metadata": {},
   "outputs": [
    {
     "name": "stdout",
     "output_type": "stream",
     "text": [
      "['2.45', '0.00', '2.99', '0.00', '0.00', '0.00', '0.00', '0.00', '1.60', '2.65', '0.00', '0.00', '2.82', '0.00', '0.00', '0.00', '0.00', '0.00', '1.50', '0.00', '0.00', '0.00', '0.00', '0.00', '0.00', '0.00', '0.00', '0.00']\n"
     ]
    },
    {
     "data": {
      "text/plain": [
       "<matplotlib.image.AxesImage at 0x7f9f4bfbc898>"
      ]
     },
     "execution_count": 23,
     "metadata": {},
     "output_type": "execute_result"
    },
    {
     "data": {
      "image/png": "[encoded data removed]",
      "text/plain": [
       "<Figure size 432x288 with 1 Axes>"
      ]
     },
     "metadata": {},
     "output_type": "display_data"
    }
   ],
   "source": [
    "line_sol = solution2.y[:, -1]\n",
    "two_decimals_sol = [\"{:.2f}\".format(value) for value in line_sol]\n",
    "print( two_decimals_sol )\n",
    "\n",
    "dummy_matrix = np.ones((28,28))*line_sol\n",
    "\n",
    "# cmap=\"gray_r\" shows 0 as white square\n",
    "# cmap=\"gray\" shows 0 as black square\n",
    "\n",
    "plt.imshow(dummy_matrix, cmap=\"gray_r\")"
   ]
  },
  {
   "cell_type": "markdown",
   "metadata": {},
   "source": [
    "# Images from equation solutions"
   ]
  },
  {
   "cell_type": "code",
   "execution_count": 13,
   "metadata": {},
   "outputs": [],
   "source": [
    "T   = 100\n",
    "my_image = GetImageMatrix(28, T)"
   ]
  },
  {
   "cell_type": "code",
   "execution_count": 14,
   "metadata": {},
   "outputs": [
    {
     "data": {
      "text/plain": [
       "(28, 28)"
      ]
     },
     "execution_count": 14,
     "metadata": {},
     "output_type": "execute_result"
    }
   ],
   "source": [
    "my_image.shape"
   ]
  },
  {
   "cell_type": "code",
   "execution_count": 21,
   "metadata": {},
   "outputs": [
    {
     "data": {
      "text/plain": [
       "<matplotlib.image.AxesImage at 0x7f9f4c0d0128>"
      ]
     },
     "execution_count": 21,
     "metadata": {},
     "output_type": "execute_result"
    },
    {
     "data": {
      "image/png": "[encoded data removed]",
      "text/plain": [
       "<Figure size 432x288 with 1 Axes>"
      ]
     },
     "metadata": {},
     "output_type": "display_data"
    }
   ],
   "source": [
    "plt.imshow(my_image, cmap=\"gray_r\")"
   ]
  },
  {
   "cell_type": "code",
   "execution_count": null,
   "metadata": {},
   "outputs": [],
   "source": []
  }
 ],
 "metadata": {
  "kernelspec": {
   "display_name": "Python 3",
   "language": "python",
   "name": "python3"
  },
  "language_info": {
   "codemirror_mode": {
    "name": "ipython",
    "version": 3
   },
   "file_extension": ".py",
   "mimetype": "text/x-python",
   "name": "python",
   "nbconvert_exporter": "python",
   "pygments_lexer": "ipython3",
   "version": "3.6.5"
  }
 },
 "nbformat": 4,
 "nbformat_minor": 2
}
