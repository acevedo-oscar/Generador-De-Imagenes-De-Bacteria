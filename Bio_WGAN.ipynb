{
  "nbformat": 4,
  "nbformat_minor": 0,
  "metadata": {
    "colab": {
      "name": "Bio_WGAN.ipynb",
      "version": "0.3.2",
      "provenance": [],
      "collapsed_sections": [],
      "include_colab_link": true
    },
    "kernelspec": {
      "name": "python3",
      "display_name": "Python 3"
    },
    "accelerator": "TPU"
  },
  "cells": [
    {
      "cell_type": "markdown",
      "metadata": {
        "id": "view-in-github",
        "colab_type": "text"
      },
      "source": [
        "<a href=\"https://colab.research.google.com/github/acevedo-oscar/Generador-De-Imagenes-De-Bacteria/blob/master/Bio_WGAN.ipynb\" target=\"_parent\"><img src=\"https://colab.research.google.com/assets/colab-badge.svg\" alt=\"Open In Colab\"/></a>"
      ]
    },
    {
      "metadata": {
        "id": "SjqOCJMZvqTv",
        "colab_type": "code",
        "colab": {}
      },
      "cell_type": "code",
      "source": [
        "!rm -r *\n",
        "\n",
        "\n",
        "#!head MicrobiotaGAN/discriminator.py"
      ],
      "execution_count": 0,
      "outputs": []
    },
    {
      "metadata": {
        "id": "_sTiTI6nTEb-",
        "colab_type": "code",
        "outputId": "7102ce62-cf6e-48ac-c612-4b4f251422fc",
        "colab": {
          "base_uri": "https://localhost:8080/",
          "height": 4134
        }
      },
      "cell_type": "code",
      "source": [
        "!wget https://www.dropbox.com/s/c94s64a00k7m39y/MicrobiotaGAN.zip   # https://www.dropbox.com/s/0r8hjgj72h1tfmb/MicrobiotaGAN.zip;\n",
        "!unzip MicrobiotaGAN.zip;\n",
        "\n",
        "# !wget https://www.dropbox.com/s/yqw6vqbvt8m1g5g/images_1000_dataset.pickle \n",
        "\n",
        "!wget https://www.dropbox.com/s/prt4hgkfid37rok/5k_samples.zip;\n",
        "    \n",
        "!unzip 5k_samples.zip;\n",
        "    \n",
        "% ls"
      ],
      "execution_count": 2,
      "outputs": [
        {
          "output_type": "stream",
          "text": [
            "--2018-11-12 06:38:11--  https://www.dropbox.com/s/c94s64a00k7m39y/MicrobiotaGAN.zip\n",
            "Resolving www.dropbox.com (www.dropbox.com)... 162.125.8.1, 2620:100:601b:1::a27d:801\n",
            "Connecting to www.dropbox.com (www.dropbox.com)|162.125.8.1|:443... connected.\n",
            "HTTP request sent, awaiting response... 301 Moved Permanently\n",
            "Location: /s/raw/c94s64a00k7m39y/MicrobiotaGAN.zip [following]\n",
            "--2018-11-12 06:38:11--  https://www.dropbox.com/s/raw/c94s64a00k7m39y/MicrobiotaGAN.zip\n",
            "Reusing existing connection to www.dropbox.com:443.\n",
            "HTTP request sent, awaiting response... 302 Found\n",
            "Location: https://uced5d5e6d42e6305e4d7e6a082b.dl.dropboxusercontent.com/cd/0/inline/AVaj5WYghBXehgnX7uEKK19dysSNySlTz80_IPZZCMnACV694tdSkpVRcaheWTf4GsCcrYpgK5oG7u5nSw4zneknhOQulv7HxDsLAttY2QRfzDM2dajE7jwSdPlkyDjPGyQ9gOcTkUZS0IW5uR2GeRJWzbICkcjYmn5nn37oAkn9qHrfPGfyUJCm-G19qj0dMms/file [following]\n",
            "--2018-11-12 06:38:11--  https://uced5d5e6d42e6305e4d7e6a082b.dl.dropboxusercontent.com/cd/0/inline/AVaj5WYghBXehgnX7uEKK19dysSNySlTz80_IPZZCMnACV694tdSkpVRcaheWTf4GsCcrYpgK5oG7u5nSw4zneknhOQulv7HxDsLAttY2QRfzDM2dajE7jwSdPlkyDjPGyQ9gOcTkUZS0IW5uR2GeRJWzbICkcjYmn5nn37oAkn9qHrfPGfyUJCm-G19qj0dMms/file\n",
            "Resolving uced5d5e6d42e6305e4d7e6a082b.dl.dropboxusercontent.com (uced5d5e6d42e6305e4d7e6a082b.dl.dropboxusercontent.com)... 162.125.8.6, 2620:100:601b:6::a27d:806\n",
            "Connecting to uced5d5e6d42e6305e4d7e6a082b.dl.dropboxusercontent.com (uced5d5e6d42e6305e4d7e6a082b.dl.dropboxusercontent.com)|162.125.8.6|:443... connected.\n",
            "HTTP request sent, awaiting response... 302 FOUND\n",
            "Location: /cd/0/inline2/AVa6ETds5Mf7yYLDRukv0PbXXKO6nnKZt5I5K42No9Zmo0-PGwuPef4n1UA3iWSPfJHGVQwN2yyEJ-cos8f5LKA4yTZdB5DqyQpUgVpVIRUdAD-RfMpr0cCu71hPcVm6eAaLidIP4mZB3mCTv58vZPzLo8ncbxBZudiMCebqsUkz1pyS8ShzSmuyVyzfdL8ray41V985ffXGXHPTFHJldsJDebFidn3EyY1gQj6kNOsJ10vMLbk9O4NPj0XcopKErsAnRSjVrP3vXxv3j-o8h80iTN4wBcgOhgvuWv2qEiYFMz7cWYk5Dpkxmavw_kTYra3Y9R1kedtdkuriKtKXbPwdCcQf3Wc8wCv59TaQ4PQ1JLB7LVdZ7Rf9Z1K2_KvUHqUbJcw61le_P4tf1CAlbvoRLx5fEDH6u3SlvUG_7NKU8Ht7AYAbpXSusQhjhOjZmvc/file [following]\n",
            "--2018-11-12 06:38:12--  https://uced5d5e6d42e6305e4d7e6a082b.dl.dropboxusercontent.com/cd/0/inline2/AVa6ETds5Mf7yYLDRukv0PbXXKO6nnKZt5I5K42No9Zmo0-PGwuPef4n1UA3iWSPfJHGVQwN2yyEJ-cos8f5LKA4yTZdB5DqyQpUgVpVIRUdAD-RfMpr0cCu71hPcVm6eAaLidIP4mZB3mCTv58vZPzLo8ncbxBZudiMCebqsUkz1pyS8ShzSmuyVyzfdL8ray41V985ffXGXHPTFHJldsJDebFidn3EyY1gQj6kNOsJ10vMLbk9O4NPj0XcopKErsAnRSjVrP3vXxv3j-o8h80iTN4wBcgOhgvuWv2qEiYFMz7cWYk5Dpkxmavw_kTYra3Y9R1kedtdkuriKtKXbPwdCcQf3Wc8wCv59TaQ4PQ1JLB7LVdZ7Rf9Z1K2_KvUHqUbJcw61le_P4tf1CAlbvoRLx5fEDH6u3SlvUG_7NKU8Ht7AYAbpXSusQhjhOjZmvc/file\n",
            "Reusing existing connection to uced5d5e6d42e6305e4d7e6a082b.dl.dropboxusercontent.com:443.\n",
            "HTTP request sent, awaiting response... 200 OK\n",
            "Length: 148140 (145K) [application/zip]\n",
            "Saving to: ‘MicrobiotaGAN.zip’\n",
            "\n",
            "MicrobiotaGAN.zip   100%[===================>] 144.67K  --.-KB/s    in 0.07s   \n",
            "\n",
            "2018-11-12 06:38:12 (2.00 MB/s) - ‘MicrobiotaGAN.zip’ saved [148140/148140]\n",
            "\n",
            "Archive:  MicrobiotaGAN.zip\n",
            "   creating: MicrobiotaGAN/\n",
            "  inflating: MicrobiotaGAN/glv_loss.py  \n",
            "  inflating: MicrobiotaGAN/utilities.py  \n",
            "  inflating: MicrobiotaGAN/input_noise_sample.py  \n",
            "  inflating: MicrobiotaGAN/cost.py   \n",
            "  inflating: MicrobiotaGAN/xavier_initialization.py  \n",
            "  inflating: MicrobiotaGAN/vanilla_cost.py  \n",
            "  inflating: MicrobiotaGAN/generator.py  \n",
            "  inflating: MicrobiotaGAN/display_microbiota.py  \n",
            "  inflating: MicrobiotaGAN/dataset_manager.py  \n",
            "  inflating: MicrobiotaGAN/discriminator.py  \n",
            " extracting: MicrobiotaGAN/__init__.py  \n",
            "   creating: MicrobiotaGAN/.mypy_cache/\n",
            "   creating: MicrobiotaGAN/.git/\n",
            "  inflating: MicrobiotaGAN/.git/index  \n",
            "  inflating: MicrobiotaGAN/.git/config  \n",
            " extracting: MicrobiotaGAN/.git/COMMIT_EDITMSG  \n",
            "  inflating: MicrobiotaGAN/.git/description  \n",
            " extracting: MicrobiotaGAN/.git/HEAD  \n",
            "   creating: MicrobiotaGAN/__pycache__/\n",
            "  inflating: MicrobiotaGAN/__pycache__/generator.cpython-36.pyc  \n",
            "  inflating: MicrobiotaGAN/__pycache__/discriminator.cpython-36.pyc  \n",
            "  inflating: MicrobiotaGAN/__pycache__/xavier_initialization.cpython-36.pyc  \n",
            "  inflating: MicrobiotaGAN/__pycache__/display_microbiota.cpython-36.pyc  \n",
            "  inflating: MicrobiotaGAN/__pycache__/dataset_manager.cpython-36.pyc  \n",
            "  inflating: MicrobiotaGAN/__pycache__/cost.cpython-36.pyc  \n",
            "  inflating: MicrobiotaGAN/__pycache__/input_noise_sample.cpython-36.pyc  \n",
            "  inflating: MicrobiotaGAN/__pycache__/__init__.cpython-36.pyc  \n",
            "   creating: MicrobiotaGAN/.mypy_cache/3.6/\n",
            "  inflating: MicrobiotaGAN/.mypy_cache/3.6/mypy_extensions.data.json  \n",
            "  inflating: MicrobiotaGAN/.mypy_cache/3.6/_importlib_modulespec.meta.json  \n",
            "  inflating: MicrobiotaGAN/.mypy_cache/3.6/_importlib_modulespec.data.json  \n",
            "  inflating: MicrobiotaGAN/.mypy_cache/3.6/utilities.meta.json  \n",
            "  inflating: MicrobiotaGAN/.mypy_cache/3.6/utilities.data.json  \n",
            "  inflating: MicrobiotaGAN/.mypy_cache/3.6/builtins.meta.json  \n",
            "  inflating: MicrobiotaGAN/.mypy_cache/3.6/builtins.data.json  \n",
            "  inflating: MicrobiotaGAN/.mypy_cache/3.6/sys.meta.json  \n",
            "  inflating: MicrobiotaGAN/.mypy_cache/3.6/sys.data.json  \n",
            "  inflating: MicrobiotaGAN/.mypy_cache/3.6/typing.meta.json  \n",
            "  inflating: MicrobiotaGAN/.mypy_cache/3.6/typing.data.json  \n",
            "  inflating: MicrobiotaGAN/.mypy_cache/3.6/abc.meta.json  \n",
            "  inflating: MicrobiotaGAN/.mypy_cache/3.6/abc.data.json  \n",
            "  inflating: MicrobiotaGAN/.mypy_cache/3.6/types.meta.json  \n",
            "  inflating: MicrobiotaGAN/.mypy_cache/3.6/types.data.json  \n",
            "  inflating: MicrobiotaGAN/.mypy_cache/3.6/mypy_extensions.meta.json  \n",
            "   creating: MicrobiotaGAN/.git/branches/\n",
            "   creating: MicrobiotaGAN/.git/objects/\n",
            "   creating: MicrobiotaGAN/.git/hooks/\n",
            "  inflating: MicrobiotaGAN/.git/hooks/prepare-commit-msg.sample  \n",
            "  inflating: MicrobiotaGAN/.git/hooks/fsmonitor-watchman.sample  \n",
            "  inflating: MicrobiotaGAN/.git/hooks/pre-applypatch.sample  \n",
            "  inflating: MicrobiotaGAN/.git/hooks/applypatch-msg.sample  \n",
            "  inflating: MicrobiotaGAN/.git/hooks/pre-receive.sample  \n",
            "  inflating: MicrobiotaGAN/.git/hooks/post-update.sample  \n",
            "  inflating: MicrobiotaGAN/.git/hooks/pre-rebase.sample  \n",
            "  inflating: MicrobiotaGAN/.git/hooks/pre-commit.sample  \n",
            "  inflating: MicrobiotaGAN/.git/hooks/commit-msg.sample  \n",
            "  inflating: MicrobiotaGAN/.git/hooks/pre-push.sample  \n",
            "  inflating: MicrobiotaGAN/.git/hooks/update.sample  \n",
            "   creating: MicrobiotaGAN/.git/logs/\n",
            "  inflating: MicrobiotaGAN/.git/logs/HEAD  \n",
            "   creating: MicrobiotaGAN/.git/refs/\n",
            "   creating: MicrobiotaGAN/.git/info/\n",
            "  inflating: MicrobiotaGAN/.git/info/exclude  \n",
            "   creating: MicrobiotaGAN/.mypy_cache/3.6/collections/\n",
            "  inflating: MicrobiotaGAN/.mypy_cache/3.6/collections/abc.meta.json  \n",
            "  inflating: MicrobiotaGAN/.mypy_cache/3.6/collections/abc.data.json  \n",
            "  inflating: MicrobiotaGAN/.mypy_cache/3.6/collections/__init__.meta.json  \n",
            "  inflating: MicrobiotaGAN/.mypy_cache/3.6/collections/__init__.data.json  \n",
            "   creating: MicrobiotaGAN/.git/objects/pack/\n",
            "   creating: MicrobiotaGAN/.git/objects/info/\n",
            "   creating: MicrobiotaGAN/.git/objects/e7/\n",
            " extracting: MicrobiotaGAN/.git/objects/e7/5abe746866cc014e4e1f9e446d98f4c9851453  \n",
            "   creating: MicrobiotaGAN/.git/objects/ba/\n",
            " extracting: MicrobiotaGAN/.git/objects/ba/8efc9ed8ace0d04585cd6f95aeff6e08e5e7b7  \n",
            "   creating: MicrobiotaGAN/.git/objects/e6/\n",
            " extracting: MicrobiotaGAN/.git/objects/e6/9de29bb2d1d6434b8b29ae775ad8c2e48c5391  \n",
            "   creating: MicrobiotaGAN/.git/objects/b4/\n",
            " extracting: MicrobiotaGAN/.git/objects/b4/2fcac7c5fe7d8c6bd4ea32d60441cb04ac6eed  \n",
            " extracting: MicrobiotaGAN/.git/objects/b4/5415cb847fc52c1e8cf569a892096a6e08ab51  \n",
            "   creating: MicrobiotaGAN/.git/objects/9b/\n",
            " extracting: MicrobiotaGAN/.git/objects/9b/2164f9269a0d88d7cadbc81a24dd6b09d23b9f  \n",
            "   creating: MicrobiotaGAN/.git/objects/38/\n",
            " extracting: MicrobiotaGAN/.git/objects/38/9b3063c2dd2476ccb75331d449bc4d4b52b60b  \n",
            "   creating: MicrobiotaGAN/.git/objects/5e/\n",
            " extracting: MicrobiotaGAN/.git/objects/5e/ba84f72f8be48230f58eca98655a08c3916fb7  \n",
            "   creating: MicrobiotaGAN/.git/objects/f2/\n",
            " extracting: MicrobiotaGAN/.git/objects/f2/221d1c882945db64ca7da6f5f8f1914aa5cfb2  \n",
            "   creating: MicrobiotaGAN/.git/objects/ca/\n",
            " extracting: MicrobiotaGAN/.git/objects/ca/7474a806137bf21a69708728ea0eeafe802e96  \n",
            "   creating: MicrobiotaGAN/.git/objects/7c/\n",
            " extracting: MicrobiotaGAN/.git/objects/7c/8ac0fd61576feddc8f2c97c507e41cc2d5079c  \n",
            "   creating: MicrobiotaGAN/.git/objects/5c/\n",
            " extracting: MicrobiotaGAN/.git/objects/5c/c72bf48ed2dc2cabe9a28427359be52ac78c82  \n",
            "   creating: MicrobiotaGAN/.git/objects/18/\n",
            " extracting: MicrobiotaGAN/.git/objects/18/dee3d028db644a416eb4c777097a3bf66b5e4b  \n",
            "   creating: MicrobiotaGAN/.git/objects/09/\n",
            " extracting: MicrobiotaGAN/.git/objects/09/8ebfd1d3ad011f51bfdca3d24249991b620934  \n",
            "   creating: MicrobiotaGAN/.git/objects/c3/\n",
            " extracting: MicrobiotaGAN/.git/objects/c3/a9af7ed83bd353ffb7eb161b7379f2a8086bce  \n",
            "   creating: MicrobiotaGAN/.git/objects/f3/\n",
            " extracting: MicrobiotaGAN/.git/objects/f3/9f39bac3571283c9ac68fa5c0fafe167286515  \n",
            "   creating: MicrobiotaGAN/.git/objects/e2/\n",
            " extracting: MicrobiotaGAN/.git/objects/e2/de5d5ea060e80d3ed801aa20f59e10280699b1  \n",
            "   creating: MicrobiotaGAN/.git/objects/6c/\n",
            " extracting: MicrobiotaGAN/.git/objects/6c/5ac065abc42b3e6f18554fc43cd978205f740b  \n",
            "   creating: MicrobiotaGAN/.git/objects/23/\n",
            " extracting: MicrobiotaGAN/.git/objects/23/a87956d29b01fdd44e32384fd2a913903fc8cf  \n",
            "   creating: MicrobiotaGAN/.git/objects/94/\n",
            " extracting: MicrobiotaGAN/.git/objects/94/b3e3d90315ecc67ac9a13cec66a8b71286f1ef  \n",
            "   creating: MicrobiotaGAN/.git/objects/49/\n",
            " extracting: MicrobiotaGAN/.git/objects/49/b0192e7a48a393ae25d73f99ad4ffbbd9824ef  \n",
            "   creating: MicrobiotaGAN/.git/objects/19/\n",
            " extracting: MicrobiotaGAN/.git/objects/19/b847ca27270940d36d25fb08103a1871c0efa2  \n",
            "   creating: MicrobiotaGAN/.git/objects/fc/\n",
            " extracting: MicrobiotaGAN/.git/objects/fc/5e5b4f09cf2b9db043e4a5c4fb0af6361c76ce  \n",
            "   creating: MicrobiotaGAN/.git/objects/99/\n",
            " extracting: MicrobiotaGAN/.git/objects/99/676a249d84bbba8431f328e9203e74715c9c5c  \n",
            "   creating: MicrobiotaGAN/.git/objects/54/\n",
            " extracting: MicrobiotaGAN/.git/objects/54/eb38377e6ca8dc03aaacc6aa16e10d32be5465  \n",
            "   creating: MicrobiotaGAN/.git/objects/fe/\n",
            " extracting: MicrobiotaGAN/.git/objects/fe/5617e722094bc43a8511edd1fa96ee985e32fd  \n",
            "   creating: MicrobiotaGAN/.git/objects/f6/\n",
            " extracting: MicrobiotaGAN/.git/objects/f6/c2319e87da8b26736f42963a694cbe4b23e3c2  \n",
            "   creating: MicrobiotaGAN/.git/objects/c4/\n",
            " extracting: MicrobiotaGAN/.git/objects/c4/f2153defe37bff6a724e56ca69c0e62849b608  \n",
            "   creating: MicrobiotaGAN/.git/objects/b7/\n",
            " extracting: MicrobiotaGAN/.git/objects/b7/dc3123bd22d982c2ab8ca37a4aa8bff62f11e8  \n",
            "   creating: MicrobiotaGAN/.git/objects/b5/\n",
            " extracting: MicrobiotaGAN/.git/objects/b5/995f8261238aa418a676096f213ec96e135f53  \n",
            "   creating: MicrobiotaGAN/.git/objects/51/\n",
            " extracting: MicrobiotaGAN/.git/objects/51/660013757cbd90a9d28ce6c858130301656333  \n",
            "   creating: MicrobiotaGAN/.git/objects/41/\n",
            " extracting: MicrobiotaGAN/.git/objects/41/207a9a8d476336d34e2810d361f740ef07206e  \n",
            "   creating: MicrobiotaGAN/.git/objects/3f/\n",
            " extracting: MicrobiotaGAN/.git/objects/3f/529f90d86f7a107ee5142d885693d43af19654  \n",
            "   creating: MicrobiotaGAN/.git/objects/36/\n",
            " extracting: MicrobiotaGAN/.git/objects/36/7b31090d7614fbb4afd14cd171bcc66983eaa4  \n",
            "   creating: MicrobiotaGAN/.git/objects/a9/\n",
            " extracting: MicrobiotaGAN/.git/objects/a9/cc3c178fe6a29b32bcc233f04ed48f81010569  \n",
            "   creating: MicrobiotaGAN/.git/objects/a7/\n",
            " extracting: MicrobiotaGAN/.git/objects/a7/8c00e94486f879c44ec1acda94faefa42cbce5  \n",
            "   creating: MicrobiotaGAN/.git/objects/66/\n",
            " extracting: MicrobiotaGAN/.git/objects/66/caeca554eb2363186d3eb8f9a01a64692a7103  \n",
            "   creating: MicrobiotaGAN/.git/objects/4d/\n",
            " extracting: MicrobiotaGAN/.git/objects/4d/e7d638dacc47f64b5ce2bc8b8ab7df2ee7f60f  \n",
            "   creating: MicrobiotaGAN/.git/objects/b2/\n",
            " extracting: MicrobiotaGAN/.git/objects/b2/22cfd5f614e8645b8e186c6de8ec03f1a87243  \n",
            "   creating: MicrobiotaGAN/.git/objects/ae/\n",
            " extracting: MicrobiotaGAN/.git/objects/ae/080b38925e546dd46b6799cc3e48d8f2cdc911  \n",
            "   creating: MicrobiotaGAN/.git/objects/ad/\n",
            " extracting: MicrobiotaGAN/.git/objects/ad/028afd9214f6460e5aa46b585ef476f747a65f  \n",
            "   creating: MicrobiotaGAN/.git/objects/a4/\n",
            " extracting: MicrobiotaGAN/.git/objects/a4/12c40b82597c2ed114bced4f4d60ea12557232  \n",
            " extracting: MicrobiotaGAN/.git/objects/a4/faaa08241c330d9ecf87496df4fb23f297d3ce  \n",
            "   creating: MicrobiotaGAN/.git/objects/a2/\n",
            " extracting: MicrobiotaGAN/.git/objects/a2/1ca75974372c56f4dbd98f56974372c94a8d5b  \n",
            "   creating: MicrobiotaGAN/.git/objects/52/\n",
            " extracting: MicrobiotaGAN/.git/objects/52/daf07f8caaa52723c57105d6c2e624e5cee610  \n",
            "   creating: MicrobiotaGAN/.git/objects/4c/\n",
            " extracting: MicrobiotaGAN/.git/objects/4c/96d3fedd0e870e37b6fbd9fdbbcf2e7643692c  \n",
            "   creating: MicrobiotaGAN/.git/objects/1f/\n",
            " extracting: MicrobiotaGAN/.git/objects/1f/54c1847c953a6130b98952ee70bd1fa2d1dbbb  \n",
            "   creating: MicrobiotaGAN/.git/objects/bb/\n",
            " extracting: MicrobiotaGAN/.git/objects/bb/61abd3e6279dde97d7ec0fe8c7188d168a813a  \n",
            "   creating: MicrobiotaGAN/.git/objects/25/\n",
            " extracting: MicrobiotaGAN/.git/objects/25/0b0940e5f6e21445af12b18189552aead0cff0  \n",
            "   creating: MicrobiotaGAN/.git/objects/70/\n",
            " extracting: MicrobiotaGAN/.git/objects/70/43ea0e09766437cd9dec084218265b2be712d1  \n",
            "   creating: MicrobiotaGAN/.git/objects/37/\n",
            " extracting: MicrobiotaGAN/.git/objects/37/a67765c11b021a63c8d90004068360ea8130f3  \n",
            "   creating: MicrobiotaGAN/.git/objects/2b/\n",
            " extracting: MicrobiotaGAN/.git/objects/2b/f5f7638f61bb93f2dbea5a8f6d68b06a57f603  \n",
            "   creating: MicrobiotaGAN/.git/logs/refs/\n",
            "   creating: MicrobiotaGAN/.git/refs/remotes/\n",
            "   creating: MicrobiotaGAN/.git/refs/heads/\n",
            "  inflating: MicrobiotaGAN/.git/refs/heads/master  \n",
            "   creating: MicrobiotaGAN/.git/refs/tags/\n",
            "   creating: MicrobiotaGAN/.git/logs/refs/remotes/\n",
            "   creating: MicrobiotaGAN/.git/logs/refs/heads/\n",
            "  inflating: MicrobiotaGAN/.git/logs/refs/heads/master  \n",
            "   creating: MicrobiotaGAN/.git/refs/remotes/origin/\n",
            "  inflating: MicrobiotaGAN/.git/refs/remotes/origin/master  \n",
            "   creating: MicrobiotaGAN/.git/logs/refs/remotes/origin/\n",
            "  inflating: MicrobiotaGAN/.git/logs/refs/remotes/origin/master  \n",
            "--2018-11-12 06:38:13--  https://www.dropbox.com/s/prt4hgkfid37rok/5k_samples.zip\n",
            "Resolving www.dropbox.com (www.dropbox.com)... 162.125.8.1, 2620:100:601b:1::a27d:801\n",
            "Connecting to www.dropbox.com (www.dropbox.com)|162.125.8.1|:443... connected.\n",
            "HTTP request sent, awaiting response... 301 Moved Permanently\n",
            "Location: /s/raw/prt4hgkfid37rok/5k_samples.zip [following]\n",
            "--2018-11-12 06:38:13--  https://www.dropbox.com/s/raw/prt4hgkfid37rok/5k_samples.zip\n",
            "Reusing existing connection to www.dropbox.com:443.\n",
            "HTTP request sent, awaiting response... 302 Found\n",
            "Location: https://uc49c7a6c73cddd55f4266638652.dl.dropboxusercontent.com/cd/0/inline/AVayaaEUrV2YXV0SEOzuKaaGlCzvAPgfsl8_UqL3XNnG_z5j7wUYSQupdmhk_-dvp1cUoNctkPM-JlE9OniIfOIMHcKHpws9Cg5wGkSqmnpKqkI-8bwgg29zzBSPQ-uhmL57P9MeGAWd6KOrYi31zxZdU3I8b3Bc048CdFr-FnFZQyWRQCv80icGIlnBeCmDaak/file [following]\n",
            "--2018-11-12 06:38:14--  https://uc49c7a6c73cddd55f4266638652.dl.dropboxusercontent.com/cd/0/inline/AVayaaEUrV2YXV0SEOzuKaaGlCzvAPgfsl8_UqL3XNnG_z5j7wUYSQupdmhk_-dvp1cUoNctkPM-JlE9OniIfOIMHcKHpws9Cg5wGkSqmnpKqkI-8bwgg29zzBSPQ-uhmL57P9MeGAWd6KOrYi31zxZdU3I8b3Bc048CdFr-FnFZQyWRQCv80icGIlnBeCmDaak/file\n",
            "Resolving uc49c7a6c73cddd55f4266638652.dl.dropboxusercontent.com (uc49c7a6c73cddd55f4266638652.dl.dropboxusercontent.com)... 162.125.8.6, 2620:100:601b:6::a27d:806\n",
            "Connecting to uc49c7a6c73cddd55f4266638652.dl.dropboxusercontent.com (uc49c7a6c73cddd55f4266638652.dl.dropboxusercontent.com)|162.125.8.6|:443... connected.\n",
            "HTTP request sent, awaiting response... 302 FOUND\n",
            "Location: /cd/0/inline2/AVaZoLpqUR56t6oUms3QhSBjNst5QVoonqoPaTqEfY5GVIDOzwIlFRivmPj0zc4GLy_T2cj25EBi-FYETtTC3kQDt3u1ar41Nk47---Om77S3hk-x6PVGmC6yQsCfx_8-E-7hkuEEBCF_Vka_DRy5suWNh2BRFNRiXQpFBjAhlxoO1ngTtuqm1N2ZZ1fNCLQypMEPTp0NBgWj2-GgKEv7dwHrgUHcEOhSvQKuXsjLEP3XcB6EtnsiNEQqiRjFBP528Zh_21M77sBJU22OVr5KVk5gaycttp5VVkJqiSzTq4mmEHbvu7QhHhxUX-Qe14SeIHXtj7L89uFYnPg8NZXWOidMPqioWD-uWrhd0zKwvWvlCc6DUUZHpc-KYQT-85UL019Dt0SYvNZcRkmEdgEWlVB-tIe-6Shx6gwmnX-aE168K_oytnBfq1lxvrr3pZAs7A/file [following]\n",
            "--2018-11-12 06:38:14--  https://uc49c7a6c73cddd55f4266638652.dl.dropboxusercontent.com/cd/0/inline2/AVaZoLpqUR56t6oUms3QhSBjNst5QVoonqoPaTqEfY5GVIDOzwIlFRivmPj0zc4GLy_T2cj25EBi-FYETtTC3kQDt3u1ar41Nk47---Om77S3hk-x6PVGmC6yQsCfx_8-E-7hkuEEBCF_Vka_DRy5suWNh2BRFNRiXQpFBjAhlxoO1ngTtuqm1N2ZZ1fNCLQypMEPTp0NBgWj2-GgKEv7dwHrgUHcEOhSvQKuXsjLEP3XcB6EtnsiNEQqiRjFBP528Zh_21M77sBJU22OVr5KVk5gaycttp5VVkJqiSzTq4mmEHbvu7QhHhxUX-Qe14SeIHXtj7L89uFYnPg8NZXWOidMPqioWD-uWrhd0zKwvWvlCc6DUUZHpc-KYQT-85UL019Dt0SYvNZcRkmEdgEWlVB-tIe-6Shx6gwmnX-aE168K_oytnBfq1lxvrr3pZAs7A/file\n",
            "Reusing existing connection to uc49c7a6c73cddd55f4266638652.dl.dropboxusercontent.com:443.\n",
            "HTTP request sent, awaiting response... 200 OK\n",
            "Length: 15730093 (15M) [application/zip]\n",
            "Saving to: ‘5k_samples.zip’\n",
            "\n",
            "5k_samples.zip      100%[===================>]  15.00M  52.2MB/s    in 0.3s    \n",
            "\n",
            "2018-11-12 06:38:15 (52.2 MB/s) - ‘5k_samples.zip’ saved [15730093/15730093]\n",
            "\n",
            "Archive:  5k_samples.zip\n",
            "  inflating: 5000_images_dataset.pickle  \n",
            "  inflating: image_dynamics_param.pickle  \n",
            "5000_images_dataset.pickle  image_dynamics_param.pickle  MicrobiotaGAN.zip\n",
            "5k_samples.zip              \u001b[0m\u001b[01;34mMicrobiotaGAN\u001b[0m/\n"
          ],
          "name": "stdout"
        }
      ]
    },
    {
      "metadata": {
        "id": "ctDJSqGeDwcE",
        "colab_type": "code",
        "colab": {}
      },
      "cell_type": "code",
      "source": [
        "import tensorflow as tf \n",
        "\n",
        "from MicrobiotaGAN.generator import Generator\n",
        "from MicrobiotaGAN.discriminator import Discriminator\n",
        "\n",
        "from MicrobiotaGAN.cost import wasserstein_generator_cost\n",
        "from MicrobiotaGAN.cost import wasserstein_discriminator_cost\n",
        "\n",
        "from MicrobiotaGAN.xavier_initialization import xavier_init\n",
        "from MicrobiotaGAN.input_noise_sample import input_noise_sample\n",
        "\n",
        "from MicrobiotaGAN.dataset_manager import dataset_manager\n",
        "from MicrobiotaGAN.display_microbiota import display_microbiota\n",
        "\n",
        "from MicrobiotaGAN.utilities import *"
      ],
      "execution_count": 0,
      "outputs": []
    },
    {
      "metadata": {
        "id": "MjxuHDiOzSos",
        "colab_type": "code",
        "colab": {}
      },
      "cell_type": "code",
      "source": [
        "import numpy as np\n",
        "\n",
        "from tensorflow.examples.tutorials.mnist import input_data\n",
        "import matplotlib.pyplot as plt\n",
        "import matplotlib.gridspec as gridspec\n",
        "\n",
        "import pickle\n",
        "import os\n",
        "\n",
        "import seaborn as sns\n",
        "\n",
        "sns.set()\n",
        "from timeit import default_timer as timer\n"
      ],
      "execution_count": 0,
      "outputs": []
    },
    {
      "metadata": {
        "id": "3ITP_Ru3mUQR",
        "colab_type": "code",
        "colab": {}
      },
      "cell_type": "code",
      "source": [
        "my_pickle = '5000_images_dataset.pickle' #'images_5000_dataset.pickle'\n",
        "\n",
        "with open(my_pickle, 'rb') as pickleFile:\n",
        "    microbiota_images = pickle.load(pickleFile)\n",
        "    \n",
        "    \n",
        "param_path = 'image_dynamics_param.pickle' \n",
        "\n",
        "with open(param_path, 'rb') as pickleFile:\n",
        "    microbiota_parameters = pickle.load(pickleFile)"
      ],
      "execution_count": 0,
      "outputs": []
    },
    {
      "metadata": {
        "id": "-E1a3zuVDuk8",
        "colab_type": "code",
        "colab": {}
      },
      "cell_type": "code",
      "source": [
        "# Load Data to the data mangaer\n",
        "\n",
        "ds_table = unroll_dataset(microbiota_images)\n",
        "\n",
        "microbiota_dataset =  dataset_manager(ds_table)\n",
        "\n",
        "mbio_dict = ds_statistic_summary_dict(microbiota_images)\n",
        "\n"
      ],
      "execution_count": 0,
      "outputs": []
    },
    {
      "metadata": {
        "id": "Um1NYiQCGGkT",
        "colab_type": "code",
        "colab": {
          "base_uri": "https://localhost:8080/",
          "height": 34
        },
        "outputId": "97c93ed0-4a96-49d9-a579-f693717d7225"
      },
      "cell_type": "code",
      "source": [
        "np.std(mbio_dict[\"max_vec\"], ddof=1)  "
      ],
      "execution_count": 7,
      "outputs": [
        {
          "output_type": "execute_result",
          "data": {
            "text/plain": [
              "35.44525350078432"
            ]
          },
          "metadata": {
            "tags": []
          },
          "execution_count": 7
        }
      ]
    },
    {
      "metadata": {
        "id": "ijsQ9Coq1BmH",
        "colab_type": "code",
        "colab": {
          "base_uri": "https://localhost:8080/",
          "height": 35
        },
        "outputId": "b8564005-4366-46cd-bc0a-8eed8b6133fe"
      },
      "cell_type": "code",
      "source": [
        "microbiota_parameters.keys()"
      ],
      "execution_count": 8,
      "outputs": [
        {
          "output_type": "execute_result",
          "data": {
            "text/plain": [
              "dict_keys(['N', 'rho', 'sigma', 'mu', 'T_f', 'A', 'r'])"
            ]
          },
          "metadata": {
            "tags": []
          },
          "execution_count": 8
        }
      ]
    },
    {
      "metadata": {
        "id": "PVoMy1tuw6x3",
        "colab_type": "code",
        "colab": {
          "base_uri": "https://localhost:8080/",
          "height": 424
        },
        "outputId": "25b3db2b-9b7e-483d-c387-0feb86315b85"
      },
      "cell_type": "code",
      "source": [
        "m_sigma = microbiota_parameters['sigma']\n",
        "m_rho = microbiota_parameters['rho']\n",
        "print(\"Sigma: \"+str(m_sigma))\n",
        "print(\"Rho: \"+str(m_rho))\n",
        "\n",
        "plt.axis(xmax=1, ymax=1)\n",
        "plt.plot(m_sigma, m_rho,'ro')\n",
        " \n",
        "plt.xlabel(r'Interspecies interaction [$\\sigma$]') \n",
        "plt.ylabel(r'Interspecies probability [$\\rho$]')\n",
        "\n",
        "print(\"Distance from origin: \"+ str(np.sqrt(m_rho**2 + m_sigma**2)))"
      ],
      "execution_count": 9,
      "outputs": [
        {
          "output_type": "stream",
          "text": [
            "Sigma: 0.6\n",
            "Rho: 0.1\n",
            "Distance from origin: 0.6082762530298219\n"
          ],
          "name": "stdout"
        },
        {
          "output_type": "display_data",
          "data": {
            "image/png": "[encoded data removed]",
            "text/plain": [
              "<matplotlib.figure.Figure at 0x7fe497a62f60>"
            ]
          },
          "metadata": {
            "tags": []
          }
        }
      ]
    },
    {
      "metadata": {
        "id": "SchkL5cj3WEp",
        "colab_type": "code",
        "colab": {
          "base_uri": "https://localhost:8080/",
          "height": 379
        },
        "outputId": "abbfb705-566d-4c48-d97e-cb84d2a36a5e"
      },
      "cell_type": "code",
      "source": [
        "plt.imshow(microbiota_parameters['A'], cmap=\"gray_r\")\n",
        "plt.title(\"A Matrix\")"
      ],
      "execution_count": 10,
      "outputs": [
        {
          "output_type": "execute_result",
          "data": {
            "text/plain": [
              "Text(0.5,1,'A Matrix')"
            ]
          },
          "metadata": {
            "tags": []
          },
          "execution_count": 10
        },
        {
          "output_type": "display_data",
          "data": {
            "image/png": "[encoded data removed]",
            "text/plain": [
              "<matplotlib.figure.Figure at 0x7fe4972ca470>"
            ]
          },
          "metadata": {
            "tags": []
          }
        }
      ]
    },
    {
      "metadata": {
        "id": "CTRQ5tMk3029",
        "colab_type": "code",
        "colab": {
          "base_uri": "https://localhost:8080/",
          "height": 447
        },
        "outputId": "5b306037-83cb-4a55-b4a6-d8d04d199d77"
      },
      "cell_type": "code",
      "source": [
        "# Micorbiota abundance pseudo histogram\n",
        "\n",
        "sns.barplot(x = list(range(1,29)) ,y= np.sum(normalize_ds(ds_table), axis=0))\n",
        "plt.title(\"Dataset Community Normalized Species Abundance\")\n",
        "plt.xlabel(\"Species\")\n",
        "plt.ylabel(\"Abundance\")\n"
      ],
      "execution_count": 11,
      "outputs": [
        {
          "output_type": "stream",
          "text": [
            "/usr/local/lib/python3.6/dist-packages/seaborn/categorical.py:1428: FutureWarning: remove_na is deprecated and is a private function. Do not use.\n",
            "  stat_data = remove_na(group_data)\n"
          ],
          "name": "stderr"
        },
        {
          "output_type": "execute_result",
          "data": {
            "text/plain": [
              "Text(0,0.5,'Abundance')"
            ]
          },
          "metadata": {
            "tags": []
          },
          "execution_count": 11
        },
        {
          "output_type": "display_data",
          "data": {
            "image/png": "[encoded data removed]",
            "text/plain": [
              "<matplotlib.figure.Figure at 0x7fe4972f1898>"
            ]
          },
          "metadata": {
            "tags": []
          }
        }
      ]
    },
    {
      "metadata": {
        "id": "XscgExA05z3D",
        "colab_type": "code",
        "colab": {}
      },
      "cell_type": "code",
      "source": [
        "\n",
        "\n",
        " "
      ],
      "execution_count": 0,
      "outputs": []
    },
    {
      "metadata": {
        "id": "IXbK_dYhIoL2",
        "colab_type": "code",
        "outputId": "3af2c614-69ce-4149-b4ac-ba46cafa2c48",
        "colab": {
          "base_uri": "https://localhost:8080/",
          "height": 464
        }
      },
      "cell_type": "code",
      "source": [
        "show_rounded_array(normalize_ds(ds_table)[3,:],4)\n",
        "\"\"\"\n",
        "\n",
        "n_samples = len(microbiota_images)\n",
        "print(\"Training with \"+str(n_samples))\n",
        "\n",
        "print(type(microbiota_images))\n",
        "\n",
        "remake = np.array(microbiota_images)\n",
        "\n",
        "dim_remake = remake.shape\n",
        "\n",
        "print(remake[0,:,:].shape)\n",
        "\n",
        "print(dim_remake[0])\n",
        "\n",
        "print(unroll_dataset(microbiota_images).shape)\n",
        "\n",
        "\"\"\"\n",
        "\n",
        "sns.barplot(x = list(range(1,29)) ,y= np.sum(ds_table, axis=0))\n",
        "plt.title(\"Dataset Community Unnormalized Species Abundance\")\n",
        "plt.xlabel(\"Species\")\n",
        "plt.ylabel(\"Abundance\")\n",
        "\n",
        "\n"
      ],
      "execution_count": 12,
      "outputs": [
        {
          "output_type": "stream",
          "text": [
            "[0.1162, 0.1592, 0.3951, 0.0, 0.7319, 0.0, 0.0, 0.0, 0.0, 0.2398, 0.0, 0.0, 0.0, 0.1353, 1.0, 0.0, 0.268, 0.0, 0.0, 0.3353, 0.0, 0.0, 0.0, 0.0, 0.0, 0.0162, 0.0, 0.0]\n"
          ],
          "name": "stdout"
        },
        {
          "output_type": "stream",
          "text": [
            "/usr/local/lib/python3.6/dist-packages/seaborn/categorical.py:1428: FutureWarning: remove_na is deprecated and is a private function. Do not use.\n",
            "  stat_data = remove_na(group_data)\n"
          ],
          "name": "stderr"
        },
        {
          "output_type": "execute_result",
          "data": {
            "text/plain": [
              "Text(0,0.5,'Abundance')"
            ]
          },
          "metadata": {
            "tags": []
          },
          "execution_count": 12
        },
        {
          "output_type": "display_data",
          "data": {
            "image/png": "[encoded data removed]",
            "text/plain": [
              "<matplotlib.figure.Figure at 0x7fe4969905c0>"
            ]
          },
          "metadata": {
            "tags": []
          }
        }
      ]
    },
    {
      "metadata": {
        "id": "djyTAm2V1FjJ",
        "colab_type": "code",
        "colab": {}
      },
      "cell_type": "code",
      "source": [
        "\n",
        "n_species : int = 28\n",
        "mini_batch_size : int =32\n",
        "\n",
        "noise_dim : int = 10\n",
        "\n",
        "# Computation Graph Definition\n",
        "my_generator = Generator(noise_dim, n_species)\n",
        "my_discriminator = Discriminator(noise_dim,n_species)\n",
        "\n",
        "real_sample = tf.placeholder(tf.float32, shape=[None, n_species])\n",
        "noise_sample = tf.placeholder(tf.float32, shape=[None, noise_dim])\n",
        "\n",
        "generator_sample = my_generator.draw_samples(noise_sample)\n",
        "\n",
        "D_real, D_logit_real = my_discriminator.get_probability_and_logit(real_sample)\n",
        "D_fake, D_logit_fake = my_discriminator.get_probability_and_logit(generator_sample)\n",
        "\n",
        "# Define the graph nodes related to the cost and omptimization operations\n",
        "D_cost =  wasserstein_discriminator_cost(D_logit_real, D_logit_fake)\n",
        "G_cost = wasserstein_generator_cost( D_logit_fake)\n",
        "\n",
        "D_solver = my_discriminator.optimize_step(D_cost)\n",
        "G_solver = my_generator.optimize_step(G_cost)\n",
        "\n",
        "clip_D = my_discriminator.clip_parameters(0.01)\n"
      ],
      "execution_count": 0,
      "outputs": []
    },
    {
      "metadata": {
        "id": "Ihlo7X_fFzCB",
        "colab_type": "code",
        "colab": {}
      },
      "cell_type": "code",
      "source": [
        "# Initialize the network graph\n",
        "sess = tf.Session()\n",
        "sess.run(tf.global_variables_initializer())"
      ],
      "execution_count": 0,
      "outputs": []
    },
    {
      "metadata": {
        "id": "JgEEvz_rSDXi",
        "colab_type": "code",
        "colab": {}
      },
      "cell_type": "code",
      "source": [
        ""
      ],
      "execution_count": 0,
      "outputs": []
    },
    {
      "metadata": {
        "id": "QD8OUEGc1Cza",
        "colab_type": "code",
        "outputId": "e5247be9-4cca-4f62-d884-7199c15fd0af",
        "colab": {
          "base_uri": "https://localhost:8080/",
          "height": 1046
        }
      },
      "cell_type": "code",
      "source": [
        "number_of_fig_per_plot :int = 16\n",
        "#Training Loop\n",
        "counter = 0\n",
        "numero_de_iteraciones =   10000 #25000*4\n",
        "start = timer()\n",
        "\n",
        "g_cost_record = []\n",
        "d_cost_record = []\n",
        "iter_record_g = []\n",
        "iter_record_d = []\n",
        "\n",
        "\n",
        "g_cost_record = []\n",
        "d_cost_record = []\n",
        "epoch_record_g = []\n",
        "epoch = []\n",
        "\n",
        "d_iter_ratio: int = 5\n",
        "\n",
        "for it in range(numero_de_iteraciones):\n",
        "    \n",
        "    # Train more the discrimantor    \n",
        "    for k in range(d_iter_ratio):      \n",
        "        \n",
        "        #f k%5 == 0 and k != 0:\n",
        "            #pass\n",
        "        \n",
        "        real_sample_mini_batch = microbiota_dataset.next_batch(mini_batch_size)\n",
        "        dis_var_dict = {real_sample: real_sample_mini_batch, noise_sample: input_noise_sample(mini_batch_size, noise_dim)}\n",
        "        _, D_current_cost, _ = sess.run([D_solver, D_cost, clip_D], feed_dict=dis_var_dict)\n",
        "        d_cost_record.append(D_current_cost)\n",
        "        iter_record_d.append(it+1+k)\n",
        "\n",
        "    # End For\n",
        "\n",
        "\n",
        "\n",
        "    # Apply the optimization algorithm and update both newtwork parameters\n",
        "    gen_var_dict = {noise_sample: input_noise_sample(mini_batch_size, noise_dim)}\n",
        "    _, G_current_cost = sess.run([G_solver, G_cost], feed_dict=gen_var_dict)    \n",
        "    g_cost_record.append(G_current_cost)\n",
        "    \n",
        "    iter_record_g.append(it)\n",
        "\n",
        "    if it % 1000 == 0:\n",
        "        end = timer()\n",
        "        print(\"Progreso :\"+str(100*it/(1.0*numero_de_iteraciones))+\" %\")\n",
        "        print(str(end - start)+\" s\")\n",
        "        \n",
        "        print(microbiota_dataset._epochs_completed)\n",
        "\n",
        "        print('\\t Iter: {}'.format(it))\n",
        "        print('\\t D loss: {:.4}'. format(D_current_cost))\n",
        "        print('\\t G_loss: {:.4}'.format(G_current_cost))\n",
        "\n"
      ],
      "execution_count": 15,
      "outputs": [
        {
          "output_type": "stream",
          "text": [
            "Progreso :0.0 %\n",
            "0.2999935679999908 s\n",
            "0\n",
            "\t Iter: 0\n",
            "\t D loss: 2.736e-09\n",
            "\t G_loss: -1.863e-09\n",
            "Progreso :10.0 %\n",
            "7.23813182000049 s\n",
            "1\n",
            "\t Iter: 1000\n",
            "\t D loss: -9.779e-09\n",
            "\t G_loss: -5.937e-09\n",
            "Progreso :20.0 %\n",
            "14.209559726001316 s\n",
            "2\n",
            "\t Iter: 2000\n",
            "\t D loss: -3.085e-09\n",
            "\t G_loss: 1.281e-09\n",
            "Progreso :30.0 %\n",
            "21.154510166001273 s\n",
            "3\n",
            "\t Iter: 3000\n",
            "\t D loss: -3.376e-09\n",
            "\t G_loss: -4.366e-10\n",
            "Progreso :40.0 %\n",
            "28.064534416000242 s\n",
            "4\n",
            "\t Iter: 4000\n",
            "\t D loss: 4.307e-09\n",
            "\t G_loss: 3.26e-09\n",
            "Progreso :50.0 %\n",
            "35.0201726030009 s\n",
            "5\n",
            "\t Iter: 5000\n",
            "\t D loss: 4.249e-09\n",
            "\t G_loss: -4.497e-09\n",
            "Progreso :60.0 %\n",
            "41.92711718500141 s\n",
            "6\n",
            "\t Iter: 6000\n",
            "\t D loss: 1.572e-09\n",
            "\t G_loss: -2.678e-09\n",
            "Progreso :70.0 %\n",
            "48.901321110000936 s\n",
            "8\n",
            "\t Iter: 7000\n",
            "\t D loss: 5.821e-09\n",
            "\t G_loss: 4.191e-09\n",
            "Progreso :80.0 %\n",
            "55.79084325900112 s\n",
            "9\n",
            "\t Iter: 8000\n",
            "\t D loss: -1.688e-09\n",
            "\t G_loss: -4.657e-09\n",
            "Progreso :90.0 %\n",
            "62.74558368500038 s\n",
            "10\n",
            "\t Iter: 9000\n",
            "\t D loss: -1.042e-08\n",
            "\t G_loss: -5.632e-09\n"
          ],
          "name": "stdout"
        }
      ]
    },
    {
      "metadata": {
        "id": "-FS2ZQ6BDulY",
        "colab_type": "code",
        "outputId": "00a4b03c-5168-44ed-df6b-0b92c5ba479a",
        "colab": {
          "base_uri": "https://localhost:8080/",
          "height": 34
        }
      },
      "cell_type": "code",
      "source": [
        "saver = tf.train.Saver()\n",
        "saver.save(sess, '/content/bio_gan.ckpt')\n"
      ],
      "execution_count": 16,
      "outputs": [
        {
          "output_type": "execute_result",
          "data": {
            "text/plain": [
              "'/content/bio_gan.ckpt'"
            ]
          },
          "metadata": {
            "tags": []
          },
          "execution_count": 16
        }
      ]
    },
    {
      "metadata": {
        "id": "Ex11-IW5BaLT",
        "colab_type": "code",
        "outputId": "1919a31c-3747-403d-8f7e-1242bce649d3",
        "colab": {
          "base_uri": "https://localhost:8080/",
          "height": 375
        }
      },
      "cell_type": "code",
      "source": [
        "plt.plot(iter_record_g, g_cost_record)"
      ],
      "execution_count": 17,
      "outputs": [
        {
          "output_type": "execute_result",
          "data": {
            "text/plain": [
              "[<matplotlib.lines.Line2D at 0x7fe4901ac9b0>]"
            ]
          },
          "metadata": {
            "tags": []
          },
          "execution_count": 17
        },
        {
          "output_type": "display_data",
          "data": {
            "image/png": "[encoded data removed]",
            "text/plain": [
              "<matplotlib.figure.Figure at 0x7fe4972cad30>"
            ]
          },
          "metadata": {
            "tags": []
          }
        }
      ]
    },
    {
      "metadata": {
        "id": "ZpFLGjN7K-fD",
        "colab_type": "code",
        "outputId": "3dff577b-a85b-4a90-a00e-f87fb529b6a0",
        "colab": {
          "base_uri": "https://localhost:8080/",
          "height": 375
        }
      },
      "cell_type": "code",
      "source": [
        "plt.plot(iter_record_d, d_cost_record)"
      ],
      "execution_count": 18,
      "outputs": [
        {
          "output_type": "execute_result",
          "data": {
            "text/plain": [
              "[<matplotlib.lines.Line2D at 0x7fe490059cf8>]"
            ]
          },
          "metadata": {
            "tags": []
          },
          "execution_count": 18
        },
        {
          "output_type": "display_data",
          "data": {
            "image/png": "[encoded data removed]",
            "text/plain": [
              "<matplotlib.figure.Figure at 0x7fe49017fe80>"
            ]
          },
          "metadata": {
            "tags": []
          }
        }
      ]
    },
    {
      "metadata": {
        "id": "aqVHrCytXo3Y",
        "colab_type": "code",
        "outputId": "6f84f2fc-4a31-4526-9452-61118607dbec",
        "colab": {
          "base_uri": "https://localhost:8080/",
          "height": 54
        }
      },
      "cell_type": "code",
      "source": [
        "\"\"\"\n",
        "rand_index = np.random.randint(0,mini_batch_size)\n",
        "real_s = real_sample_mini_batch[rand_index].reshape(28,28)\n",
        "display_microbiota(real_s)\n",
        "\n",
        "print( real_s[0:4,0:4])\n",
        "print(\"\\n\")\n",
        "print( random_sample[0:4,0:4])\n",
        "\n",
        "\"\"\""
      ],
      "execution_count": 19,
      "outputs": [
        {
          "output_type": "execute_result",
          "data": {
            "text/plain": [
              "'\\nrand_index = np.random.randint(0,mini_batch_size)\\nreal_s = real_sample_mini_batch[rand_index].reshape(28,28)\\ndisplay_microbiota(real_s)\\n\\nprint( real_s[0:4,0:4])\\nprint(\"\\n\")\\nprint( random_sample[0:4,0:4])\\n\\n'"
            ]
          },
          "metadata": {
            "tags": []
          },
          "execution_count": 19
        }
      ]
    },
    {
      "metadata": {
        "id": "k_oc7LTVDul4",
        "colab_type": "code",
        "colab": {}
      },
      "cell_type": "code",
      "source": [
        ""
      ],
      "execution_count": 0,
      "outputs": []
    },
    {
      "metadata": {
        "id": "sjq7YAS8Dul9",
        "colab_type": "code",
        "colab": {}
      },
      "cell_type": "code",
      "source": [
        "#print(tf.get_default_graph().as_graph_def())"
      ],
      "execution_count": 0,
      "outputs": []
    },
    {
      "metadata": {
        "id": "EuaNXSOFJDpd",
        "colab_type": "code",
        "colab": {}
      },
      "cell_type": "code",
      "source": [
        "from google.colab import files\n"
      ],
      "execution_count": 0,
      "outputs": []
    },
    {
      "metadata": {
        "id": "KTW2G1O4EWpr",
        "colab_type": "code",
        "outputId": "63db58a3-fdf6-4844-bd20-7d99d012e7f3",
        "colab": {
          "base_uri": "https://localhost:8080/",
          "height": 68
        }
      },
      "cell_type": "code",
      "source": [
        "\n",
        "#Comprimimos todos los archivos que se regenraron al guardar el moelo y despues lo descargamos\n",
        "!zip  bio_gan.zip bio_gan.*\n",
        "\n",
        "files.download(\"bio_gan.zip\")"
      ],
      "execution_count": 22,
      "outputs": [
        {
          "output_type": "stream",
          "text": [
            "  adding: bio_gan.ckpt.data-00000-of-00001 (deflated 14%)\n",
            "  adding: bio_gan.ckpt.index (deflated 55%)\n",
            "  adding: bio_gan.ckpt.meta (deflated 90%)\n"
          ],
          "name": "stdout"
        }
      ]
    },
    {
      "metadata": {
        "id": "D1INUu5SOn0T",
        "colab_type": "code",
        "outputId": "6c1c1fd2-c440-4bd2-e894-f9c415daf86f",
        "colab": {
          "base_uri": "https://localhost:8080/",
          "height": 103
        }
      },
      "cell_type": "code",
      "source": [
        "!ls"
      ],
      "execution_count": 23,
      "outputs": [
        {
          "output_type": "stream",
          "text": [
            "5000_images_dataset.pickle\t  bio_gan.zip\n",
            "5k_samples.zip\t\t\t  checkpoint\n",
            "bio_gan.ckpt.data-00000-of-00001  image_dynamics_param.pickle\n",
            "bio_gan.ckpt.index\t\t  MicrobiotaGAN\n",
            "bio_gan.ckpt.meta\t\t  MicrobiotaGAN.zip\n"
          ],
          "name": "stdout"
        }
      ]
    },
    {
      "metadata": {
        "id": "dxHV5nWPOoXs",
        "colab_type": "code",
        "outputId": "3303fe25-029d-45b5-9288-b6cd8530f882",
        "colab": {
          "base_uri": "https://localhost:8080/",
          "height": 34
        }
      },
      "cell_type": "code",
      "source": [
        "ten = sess.run(my_generator.G_W1)\n",
        "print(ten.shape)"
      ],
      "execution_count": 24,
      "outputs": [
        {
          "output_type": "stream",
          "text": [
            "(10, 128)\n"
          ],
          "name": "stdout"
        }
      ]
    },
    {
      "metadata": {
        "id": "PiKrtVidRTYS",
        "colab_type": "code",
        "outputId": "e320bde5-6cd0-49b4-c986-258cbd591401",
        "colab": {
          "base_uri": "https://localhost:8080/",
          "height": 240
        }
      },
      "cell_type": "code",
      "source": [
        "ten"
      ],
      "execution_count": 25,
      "outputs": [
        {
          "output_type": "execute_result",
          "data": {
            "text/plain": [
              "array([[-0.9144704 , -0.11246235, -0.04354773, ..., -0.58963245,\n",
              "         0.32423112, -1.2384686 ],\n",
              "       [ 0.8466716 ,  0.67598844, -0.5400989 , ...,  0.05676891,\n",
              "        -0.02494429, -0.61208314],\n",
              "       [ 0.03649516,  0.19352181,  0.10490319, ...,  0.6020527 ,\n",
              "        -0.5801329 , -1.054462  ],\n",
              "       ...,\n",
              "       [-0.7152741 ,  0.49215582, -0.95905447, ..., -0.38678357,\n",
              "         0.3703632 ,  0.10125463],\n",
              "       [-0.14425272, -0.79818   , -0.7866546 , ..., -0.3101148 ,\n",
              "         0.26164   ,  0.1953249 ],\n",
              "       [ 0.1118218 ,  1.0604227 , -0.9314081 , ..., -0.7171673 ,\n",
              "         0.74945265,  0.2749267 ]], dtype=float32)"
            ]
          },
          "metadata": {
            "tags": []
          },
          "execution_count": 25
        }
      ]
    },
    {
      "metadata": {
        "id": "Shj51eukUQtF",
        "colab_type": "code",
        "colab": {}
      },
      "cell_type": "code",
      "source": [
        "w1 = sess.run(my_generator.G_W1)\n",
        "b1 = sess.run(my_generator.G_b1)\n",
        "\n",
        "w2= sess.run(my_generator.G_W2)\n",
        "b2 = sess.run(my_generator.G_b2)\n",
        "\n",
        "\n",
        "\n",
        "gen_weights_and_bias = [w1, b1, w2, b2]"
      ],
      "execution_count": 0,
      "outputs": []
    },
    {
      "metadata": {
        "id": "PwbbsHUkXGvV",
        "colab_type": "code",
        "colab": {}
      },
      "cell_type": "code",
      "source": [
        "import pickle"
      ],
      "execution_count": 0,
      "outputs": []
    },
    {
      "metadata": {
        "id": "goUEpGQ2X192",
        "colab_type": "code",
        "colab": {}
      },
      "cell_type": "code",
      "source": [
        "with open('gen_param.pkl', 'wb') as f:\n",
        "  pickle.dump(gen_weights_and_bias, f)"
      ],
      "execution_count": 0,
      "outputs": []
    },
    {
      "metadata": {
        "id": "0dDo3vG9dd1f",
        "colab_type": "code",
        "outputId": "acf8405b-11fe-4517-d2a7-922b52e6e089",
        "colab": {
          "base_uri": "https://localhost:8080/",
          "height": 384
        }
      },
      "cell_type": "code",
      "source": [
        "print(len(microbiota_images))\n",
        "display_microbiota(microbiota_images[np.random.randint(5000)])"
      ],
      "execution_count": 29,
      "outputs": [
        {
          "output_type": "stream",
          "text": [
            "5000\n"
          ],
          "name": "stdout"
        },
        {
          "output_type": "execute_result",
          "data": {
            "text/plain": [
              "<matplotlib.image.AxesImage at 0x7fe4900ef128>"
            ]
          },
          "metadata": {
            "tags": []
          },
          "execution_count": 29
        },
        {
          "output_type": "display_data",
          "data": {
            "image/png": "[encoded data removed]",
            "text/plain": [
              "<matplotlib.figure.Figure at 0x7fe4900b3390>"
            ]
          },
          "metadata": {
            "tags": []
          }
        }
      ]
    },
    {
      "metadata": {
        "id": "njm8PHdMTfWD",
        "colab_type": "code",
        "outputId": "8df65e6b-fd90-430f-8a2a-d68f583ec6ec",
        "colab": {
          "base_uri": "https://localhost:8080/",
          "height": 2973
        }
      },
      "cell_type": "code",
      "source": [
        "n_samples = 100\n",
        "samples_table = []\n",
        "for k in range(n_samples):\n",
        "    s_noise = input_noise_sample(1,10)\n",
        "    f_sam = sess.run(my_generator.draw_samples(s_noise, train_bool = False))\n",
        "    samples_table.append(f_sam[0] )\n",
        "    done_per =(k/(1.0*n_samples))*100\n",
        "    #print(str(round(done_per,2))+\"% has samples have been created\")\n",
        "    print(k)\n",
        "    if k%(n_samples/1000)==0:\n",
        "        print(str(done_per)+\"% has samples have been created\")\n",
        "samples_table = np.array(samples_table)"
      ],
      "execution_count": 34,
      "outputs": [
        {
          "output_type": "error",
          "ename": "FailedPreconditionError",
          "evalue": "ignored",
          "traceback": [
            "\u001b[0;31m---------------------------------------------------------------------------\u001b[0m",
            "\u001b[0;31mFailedPreconditionError\u001b[0m                   Traceback (most recent call last)",
            "\u001b[0;32m/usr/local/lib/python3.6/dist-packages/tensorflow/python/client/session.py\u001b[0m in \u001b[0;36m_do_call\u001b[0;34m(self, fn, *args)\u001b[0m\n\u001b[1;32m   1333\u001b[0m     \u001b[0;32mtry\u001b[0m\u001b[0;34m:\u001b[0m\u001b[0;34m\u001b[0m\u001b[0m\n\u001b[0;32m-> 1334\u001b[0;31m       \u001b[0;32mreturn\u001b[0m \u001b[0mfn\u001b[0m\u001b[0;34m(\u001b[0m\u001b[0;34m*\u001b[0m\u001b[0margs\u001b[0m\u001b[0;34m)\u001b[0m\u001b[0;34m\u001b[0m\u001b[0m\n\u001b[0m\u001b[1;32m   1335\u001b[0m     \u001b[0;32mexcept\u001b[0m \u001b[0merrors\u001b[0m\u001b[0;34m.\u001b[0m\u001b[0mOpError\u001b[0m \u001b[0;32mas\u001b[0m \u001b[0me\u001b[0m\u001b[0;34m:\u001b[0m\u001b[0;34m\u001b[0m\u001b[0m\n",
            "\u001b[0;32m/usr/local/lib/python3.6/dist-packages/tensorflow/python/client/session.py\u001b[0m in \u001b[0;36m_run_fn\u001b[0;34m(feed_dict, fetch_list, target_list, options, run_metadata)\u001b[0m\n\u001b[1;32m   1318\u001b[0m       return self._call_tf_sessionrun(\n\u001b[0;32m-> 1319\u001b[0;31m           options, feed_dict, fetch_list, target_list, run_metadata)\n\u001b[0m\u001b[1;32m   1320\u001b[0m \u001b[0;34m\u001b[0m\u001b[0m\n",
            "\u001b[0;32m/usr/local/lib/python3.6/dist-packages/tensorflow/python/client/session.py\u001b[0m in \u001b[0;36m_call_tf_sessionrun\u001b[0;34m(self, options, feed_dict, fetch_list, target_list, run_metadata)\u001b[0m\n\u001b[1;32m   1406\u001b[0m         \u001b[0mself\u001b[0m\u001b[0;34m.\u001b[0m\u001b[0m_session\u001b[0m\u001b[0;34m,\u001b[0m \u001b[0moptions\u001b[0m\u001b[0;34m,\u001b[0m \u001b[0mfeed_dict\u001b[0m\u001b[0;34m,\u001b[0m \u001b[0mfetch_list\u001b[0m\u001b[0;34m,\u001b[0m \u001b[0mtarget_list\u001b[0m\u001b[0;34m,\u001b[0m\u001b[0;34m\u001b[0m\u001b[0m\n\u001b[0;32m-> 1407\u001b[0;31m         run_metadata)\n\u001b[0m\u001b[1;32m   1408\u001b[0m \u001b[0;34m\u001b[0m\u001b[0m\n",
            "\u001b[0;31mFailedPreconditionError\u001b[0m: Attempting to use uninitialized value batch_normalization_11/gamma\n\t [[{{node batch_normalization_11/gamma/read}} = Identity[T=DT_FLOAT, _device=\"/job:localhost/replica:0/task:0/device:CPU:0\"](batch_normalization_11/gamma)]]",
            "\nDuring handling of the above exception, another exception occurred:\n",
            "\u001b[0;31mFailedPreconditionError\u001b[0m                   Traceback (most recent call last)",
            "\u001b[0;32m<ipython-input-34-9c3ecac69729>\u001b[0m in \u001b[0;36m<module>\u001b[0;34m()\u001b[0m\n\u001b[1;32m      3\u001b[0m \u001b[0;32mfor\u001b[0m \u001b[0mk\u001b[0m \u001b[0;32min\u001b[0m \u001b[0mrange\u001b[0m\u001b[0;34m(\u001b[0m\u001b[0mn_samples\u001b[0m\u001b[0;34m)\u001b[0m\u001b[0;34m:\u001b[0m\u001b[0;34m\u001b[0m\u001b[0m\n\u001b[1;32m      4\u001b[0m     \u001b[0ms_noise\u001b[0m \u001b[0;34m=\u001b[0m \u001b[0minput_noise_sample\u001b[0m\u001b[0;34m(\u001b[0m\u001b[0;36m1\u001b[0m\u001b[0;34m,\u001b[0m\u001b[0;36m10\u001b[0m\u001b[0;34m)\u001b[0m\u001b[0;34m\u001b[0m\u001b[0m\n\u001b[0;32m----> 5\u001b[0;31m     \u001b[0mf_sam\u001b[0m \u001b[0;34m=\u001b[0m \u001b[0msess\u001b[0m\u001b[0;34m.\u001b[0m\u001b[0mrun\u001b[0m\u001b[0;34m(\u001b[0m\u001b[0mmy_generator\u001b[0m\u001b[0;34m.\u001b[0m\u001b[0mdraw_samples\u001b[0m\u001b[0;34m(\u001b[0m\u001b[0ms_noise\u001b[0m\u001b[0;34m,\u001b[0m \u001b[0mtrain_bool\u001b[0m \u001b[0;34m=\u001b[0m \u001b[0;32mFalse\u001b[0m\u001b[0;34m)\u001b[0m\u001b[0;34m)\u001b[0m\u001b[0;34m\u001b[0m\u001b[0m\n\u001b[0m\u001b[1;32m      6\u001b[0m     \u001b[0msamples_table\u001b[0m\u001b[0;34m.\u001b[0m\u001b[0mappend\u001b[0m\u001b[0;34m(\u001b[0m\u001b[0mf_sam\u001b[0m\u001b[0;34m[\u001b[0m\u001b[0;36m0\u001b[0m\u001b[0;34m]\u001b[0m \u001b[0;34m)\u001b[0m\u001b[0;34m\u001b[0m\u001b[0m\n\u001b[1;32m      7\u001b[0m     \u001b[0mdone_per\u001b[0m \u001b[0;34m=\u001b[0m\u001b[0;34m(\u001b[0m\u001b[0mk\u001b[0m\u001b[0;34m/\u001b[0m\u001b[0;34m(\u001b[0m\u001b[0;36m1.0\u001b[0m\u001b[0;34m*\u001b[0m\u001b[0mn_samples\u001b[0m\u001b[0;34m)\u001b[0m\u001b[0;34m)\u001b[0m\u001b[0;34m*\u001b[0m\u001b[0;36m100\u001b[0m\u001b[0;34m\u001b[0m\u001b[0m\n",
            "\u001b[0;32m/usr/local/lib/python3.6/dist-packages/tensorflow/python/client/session.py\u001b[0m in \u001b[0;36mrun\u001b[0;34m(self, fetches, feed_dict, options, run_metadata)\u001b[0m\n\u001b[1;32m    927\u001b[0m     \u001b[0;32mtry\u001b[0m\u001b[0;34m:\u001b[0m\u001b[0;34m\u001b[0m\u001b[0m\n\u001b[1;32m    928\u001b[0m       result = self._run(None, fetches, feed_dict, options_ptr,\n\u001b[0;32m--> 929\u001b[0;31m                          run_metadata_ptr)\n\u001b[0m\u001b[1;32m    930\u001b[0m       \u001b[0;32mif\u001b[0m \u001b[0mrun_metadata\u001b[0m\u001b[0;34m:\u001b[0m\u001b[0;34m\u001b[0m\u001b[0m\n\u001b[1;32m    931\u001b[0m         \u001b[0mproto_data\u001b[0m \u001b[0;34m=\u001b[0m \u001b[0mtf_session\u001b[0m\u001b[0;34m.\u001b[0m\u001b[0mTF_GetBuffer\u001b[0m\u001b[0;34m(\u001b[0m\u001b[0mrun_metadata_ptr\u001b[0m\u001b[0;34m)\u001b[0m\u001b[0;34m\u001b[0m\u001b[0m\n",
            "\u001b[0;32m/usr/local/lib/python3.6/dist-packages/tensorflow/python/client/session.py\u001b[0m in \u001b[0;36m_run\u001b[0;34m(self, handle, fetches, feed_dict, options, run_metadata)\u001b[0m\n\u001b[1;32m   1150\u001b[0m     \u001b[0;32mif\u001b[0m \u001b[0mfinal_fetches\u001b[0m \u001b[0;32mor\u001b[0m \u001b[0mfinal_targets\u001b[0m \u001b[0;32mor\u001b[0m \u001b[0;34m(\u001b[0m\u001b[0mhandle\u001b[0m \u001b[0;32mand\u001b[0m \u001b[0mfeed_dict_tensor\u001b[0m\u001b[0;34m)\u001b[0m\u001b[0;34m:\u001b[0m\u001b[0;34m\u001b[0m\u001b[0m\n\u001b[1;32m   1151\u001b[0m       results = self._do_run(handle, final_targets, final_fetches,\n\u001b[0;32m-> 1152\u001b[0;31m                              feed_dict_tensor, options, run_metadata)\n\u001b[0m\u001b[1;32m   1153\u001b[0m     \u001b[0;32melse\u001b[0m\u001b[0;34m:\u001b[0m\u001b[0;34m\u001b[0m\u001b[0m\n\u001b[1;32m   1154\u001b[0m       \u001b[0mresults\u001b[0m \u001b[0;34m=\u001b[0m \u001b[0;34m[\u001b[0m\u001b[0;34m]\u001b[0m\u001b[0;34m\u001b[0m\u001b[0m\n",
            "\u001b[0;32m/usr/local/lib/python3.6/dist-packages/tensorflow/python/client/session.py\u001b[0m in \u001b[0;36m_do_run\u001b[0;34m(self, handle, target_list, fetch_list, feed_dict, options, run_metadata)\u001b[0m\n\u001b[1;32m   1326\u001b[0m     \u001b[0;32mif\u001b[0m \u001b[0mhandle\u001b[0m \u001b[0;32mis\u001b[0m \u001b[0;32mNone\u001b[0m\u001b[0;34m:\u001b[0m\u001b[0;34m\u001b[0m\u001b[0m\n\u001b[1;32m   1327\u001b[0m       return self._do_call(_run_fn, feeds, fetches, targets, options,\n\u001b[0;32m-> 1328\u001b[0;31m                            run_metadata)\n\u001b[0m\u001b[1;32m   1329\u001b[0m     \u001b[0;32melse\u001b[0m\u001b[0;34m:\u001b[0m\u001b[0;34m\u001b[0m\u001b[0m\n\u001b[1;32m   1330\u001b[0m       \u001b[0;32mreturn\u001b[0m \u001b[0mself\u001b[0m\u001b[0;34m.\u001b[0m\u001b[0m_do_call\u001b[0m\u001b[0;34m(\u001b[0m\u001b[0m_prun_fn\u001b[0m\u001b[0;34m,\u001b[0m \u001b[0mhandle\u001b[0m\u001b[0;34m,\u001b[0m \u001b[0mfeeds\u001b[0m\u001b[0;34m,\u001b[0m \u001b[0mfetches\u001b[0m\u001b[0;34m)\u001b[0m\u001b[0;34m\u001b[0m\u001b[0m\n",
            "\u001b[0;32m/usr/local/lib/python3.6/dist-packages/tensorflow/python/client/session.py\u001b[0m in \u001b[0;36m_do_call\u001b[0;34m(self, fn, *args)\u001b[0m\n\u001b[1;32m   1346\u001b[0m           \u001b[0;32mpass\u001b[0m\u001b[0;34m\u001b[0m\u001b[0m\n\u001b[1;32m   1347\u001b[0m       \u001b[0mmessage\u001b[0m \u001b[0;34m=\u001b[0m \u001b[0merror_interpolation\u001b[0m\u001b[0;34m.\u001b[0m\u001b[0minterpolate\u001b[0m\u001b[0;34m(\u001b[0m\u001b[0mmessage\u001b[0m\u001b[0;34m,\u001b[0m \u001b[0mself\u001b[0m\u001b[0;34m.\u001b[0m\u001b[0m_graph\u001b[0m\u001b[0;34m)\u001b[0m\u001b[0;34m\u001b[0m\u001b[0m\n\u001b[0;32m-> 1348\u001b[0;31m       \u001b[0;32mraise\u001b[0m \u001b[0mtype\u001b[0m\u001b[0;34m(\u001b[0m\u001b[0me\u001b[0m\u001b[0;34m)\u001b[0m\u001b[0;34m(\u001b[0m\u001b[0mnode_def\u001b[0m\u001b[0;34m,\u001b[0m \u001b[0mop\u001b[0m\u001b[0;34m,\u001b[0m \u001b[0mmessage\u001b[0m\u001b[0;34m)\u001b[0m\u001b[0;34m\u001b[0m\u001b[0m\n\u001b[0m\u001b[1;32m   1349\u001b[0m \u001b[0;34m\u001b[0m\u001b[0m\n\u001b[1;32m   1350\u001b[0m   \u001b[0;32mdef\u001b[0m \u001b[0m_extend_graph\u001b[0m\u001b[0;34m(\u001b[0m\u001b[0mself\u001b[0m\u001b[0;34m)\u001b[0m\u001b[0;34m:\u001b[0m\u001b[0;34m\u001b[0m\u001b[0m\n",
            "\u001b[0;31mFailedPreconditionError\u001b[0m: Attempting to use uninitialized value batch_normalization_11/gamma\n\t [[node batch_normalization_11/gamma/read (defined at /content/MicrobiotaGAN/generator.py:25)  = Identity[T=DT_FLOAT, _device=\"/job:localhost/replica:0/task:0/device:CPU:0\"](batch_normalization_11/gamma)]]\n\nCaused by op 'batch_normalization_11/gamma/read', defined at:\n  File \"/usr/lib/python3.6/runpy.py\", line 193, in _run_module_as_main\n    \"__main__\", mod_spec)\n  File \"/usr/lib/python3.6/runpy.py\", line 85, in _run_code\n    exec(code, run_globals)\n  File \"/usr/local/lib/python3.6/dist-packages/ipykernel_launcher.py\", line 16, in <module>\n    app.launch_new_instance()\n  File \"/usr/local/lib/python3.6/dist-packages/traitlets/config/application.py\", line 658, in launch_instance\n    app.start()\n  File \"/usr/local/lib/python3.6/dist-packages/ipykernel/kernelapp.py\", line 477, in start\n    ioloop.IOLoop.instance().start()\n  File \"/usr/local/lib/python3.6/dist-packages/tornado/ioloop.py\", line 888, in start\n    handler_func(fd_obj, events)\n  File \"/usr/local/lib/python3.6/dist-packages/tornado/stack_context.py\", line 277, in null_wrapper\n    return fn(*args, **kwargs)\n  File \"/usr/local/lib/python3.6/dist-packages/zmq/eventloop/zmqstream.py\", line 450, in _handle_events\n    self._handle_recv()\n  File \"/usr/local/lib/python3.6/dist-packages/zmq/eventloop/zmqstream.py\", line 480, in _handle_recv\n    self._run_callback(callback, msg)\n  File \"/usr/local/lib/python3.6/dist-packages/zmq/eventloop/zmqstream.py\", line 432, in _run_callback\n    callback(*args, **kwargs)\n  File \"/usr/local/lib/python3.6/dist-packages/tornado/stack_context.py\", line 277, in null_wrapper\n    return fn(*args, **kwargs)\n  File \"/usr/local/lib/python3.6/dist-packages/ipykernel/kernelbase.py\", line 283, in dispatcher\n    return self.dispatch_shell(stream, msg)\n  File \"/usr/local/lib/python3.6/dist-packages/ipykernel/kernelbase.py\", line 235, in dispatch_shell\n    handler(stream, idents, msg)\n  File \"/usr/local/lib/python3.6/dist-packages/ipykernel/kernelbase.py\", line 399, in execute_request\n    user_expressions, allow_stdin)\n  File \"/usr/local/lib/python3.6/dist-packages/ipykernel/ipkernel.py\", line 196, in do_execute\n    res = shell.run_cell(code, store_history=store_history, silent=silent)\n  File \"/usr/local/lib/python3.6/dist-packages/ipykernel/zmqshell.py\", line 533, in run_cell\n    return super(ZMQInteractiveShell, self).run_cell(*args, **kwargs)\n  File \"/usr/local/lib/python3.6/dist-packages/IPython/core/interactiveshell.py\", line 2718, in run_cell\n    interactivity=interactivity, compiler=compiler, result=result)\n  File \"/usr/local/lib/python3.6/dist-packages/IPython/core/interactiveshell.py\", line 2822, in run_ast_nodes\n    if self.run_code(code, result):\n  File \"/usr/local/lib/python3.6/dist-packages/IPython/core/interactiveshell.py\", line 2882, in run_code\n    exec(code_obj, self.user_global_ns, self.user_ns)\n  File \"<ipython-input-34-9c3ecac69729>\", line 5, in <module>\n    f_sam = sess.run(my_generator.draw_samples(s_noise, train_bool = False))\n  File \"/content/MicrobiotaGAN/generator.py\", line 25, in draw_samples\n    norm_G_log_prob = tf.layers.batch_normalization(G_log_prob, training=train_bool)\n  File \"/usr/local/lib/python3.6/dist-packages/tensorflow/python/layers/normalization.py\", line 309, in batch_normalization\n    return layer.apply(inputs, training=training)\n  File \"/usr/local/lib/python3.6/dist-packages/tensorflow/python/keras/engine/base_layer.py\", line 817, in apply\n    return self.__call__(inputs, *args, **kwargs)\n  File \"/usr/local/lib/python3.6/dist-packages/tensorflow/python/layers/base.py\", line 374, in __call__\n    outputs = super(Layer, self).__call__(inputs, *args, **kwargs)\n  File \"/usr/local/lib/python3.6/dist-packages/tensorflow/python/keras/engine/base_layer.py\", line 746, in __call__\n    self.build(input_shapes)\n  File \"/usr/local/lib/python3.6/dist-packages/tensorflow/python/keras/layers/normalization.py\", line 282, in build\n    trainable=True)\n  File \"/usr/local/lib/python3.6/dist-packages/tensorflow/python/layers/base.py\", line 288, in add_weight\n    getter=vs.get_variable)\n  File \"/usr/local/lib/python3.6/dist-packages/tensorflow/python/keras/engine/base_layer.py\", line 609, in add_weight\n    aggregation=aggregation)\n  File \"/usr/local/lib/python3.6/dist-packages/tensorflow/python/training/checkpointable/base.py\", line 639, in _add_variable_with_custom_getter\n    **kwargs_for_getter)\n  File \"/usr/local/lib/python3.6/dist-packages/tensorflow/python/ops/variable_scope.py\", line 1487, in get_variable\n    aggregation=aggregation)\n  File \"/usr/local/lib/python3.6/dist-packages/tensorflow/python/ops/variable_scope.py\", line 1237, in get_variable\n    aggregation=aggregation)\n  File \"/usr/local/lib/python3.6/dist-packages/tensorflow/python/ops/variable_scope.py\", line 540, in get_variable\n    aggregation=aggregation)\n  File \"/usr/local/lib/python3.6/dist-packages/tensorflow/python/ops/variable_scope.py\", line 492, in _true_getter\n    aggregation=aggregation)\n  File \"/usr/local/lib/python3.6/dist-packages/tensorflow/python/ops/variable_scope.py\", line 922, in _get_single_variable\n    aggregation=aggregation)\n  File \"/usr/local/lib/python3.6/dist-packages/tensorflow/python/ops/variables.py\", line 183, in __call__\n    return cls._variable_v1_call(*args, **kwargs)\n  File \"/usr/local/lib/python3.6/dist-packages/tensorflow/python/ops/variables.py\", line 146, in _variable_v1_call\n    aggregation=aggregation)\n  File \"/usr/local/lib/python3.6/dist-packages/tensorflow/python/ops/variables.py\", line 125, in <lambda>\n    previous_getter = lambda **kwargs: default_variable_creator(None, **kwargs)\n  File \"/usr/local/lib/python3.6/dist-packages/tensorflow/python/ops/variable_scope.py\", line 2444, in default_variable_creator\n    expected_shape=expected_shape, import_scope=import_scope)\n  File \"/usr/local/lib/python3.6/dist-packages/tensorflow/python/ops/variables.py\", line 187, in __call__\n    return super(VariableMetaclass, cls).__call__(*args, **kwargs)\n  File \"/usr/local/lib/python3.6/dist-packages/tensorflow/python/ops/variables.py\", line 1329, in __init__\n    constraint=constraint)\n  File \"/usr/local/lib/python3.6/dist-packages/tensorflow/python/ops/variables.py\", line 1491, in _init_from_args\n    self._snapshot = array_ops.identity(self._variable, name=\"read\")\n  File \"/usr/local/lib/python3.6/dist-packages/tensorflow/python/ops/array_ops.py\", line 81, in identity\n    return gen_array_ops.identity(input, name=name)\n  File \"/usr/local/lib/python3.6/dist-packages/tensorflow/python/ops/gen_array_ops.py\", line 3454, in identity\n    \"Identity\", input=input, name=name)\n  File \"/usr/local/lib/python3.6/dist-packages/tensorflow/python/framework/op_def_library.py\", line 787, in _apply_op_helper\n    op_def=op_def)\n  File \"/usr/local/lib/python3.6/dist-packages/tensorflow/python/util/deprecation.py\", line 488, in new_func\n    return func(*args, **kwargs)\n  File \"/usr/local/lib/python3.6/dist-packages/tensorflow/python/framework/ops.py\", line 3274, in create_op\n    op_def=op_def)\n  File \"/usr/local/lib/python3.6/dist-packages/tensorflow/python/framework/ops.py\", line 1770, in __init__\n    self._traceback = tf_stack.extract_stack()\n\nFailedPreconditionError (see above for traceback): Attempting to use uninitialized value batch_normalization_11/gamma\n\t [[node batch_normalization_11/gamma/read (defined at /content/MicrobiotaGAN/generator.py:25)  = Identity[T=DT_FLOAT, _device=\"/job:localhost/replica:0/task:0/device:CPU:0\"](batch_normalization_11/gamma)]]\n"
          ]
        }
      ]
    },
    {
      "metadata": {
        "id": "HR6j1leRseLR",
        "colab_type": "code",
        "colab": {
          "base_uri": "https://localhost:8080/",
          "height": 357
        },
        "outputId": "b96fc997-dd13-4995-cd48-8980e649a146"
      },
      "cell_type": "code",
      "source": [
        "\n",
        "sns.barplot(x = list(range(1,29)) ,y= np.sum(normalize_ds(samples_table), axis=0))\n",
        "plt.title(\"GAN-Dataset Community Normalized Species Abundance\")\n",
        "plt.xlabel(\"Species\")\n",
        "plt.ylabel(\"Abundance\")\n",
        "plt.savefig(\"fake.svg\")"
      ],
      "execution_count": 112,
      "outputs": [
        {
          "output_type": "error",
          "ename": "IndexError",
          "evalue": "ignored",
          "traceback": [
            "\u001b[0;31m---------------------------------------------------------------------------\u001b[0m",
            "\u001b[0;31mIndexError\u001b[0m                                Traceback (most recent call last)",
            "\u001b[0;32m<ipython-input-112-a09026a6936e>\u001b[0m in \u001b[0;36m<module>\u001b[0;34m()\u001b[0m\n\u001b[1;32m      1\u001b[0m \u001b[0;34m\u001b[0m\u001b[0m\n\u001b[0;32m----> 2\u001b[0;31m \u001b[0msns\u001b[0m\u001b[0;34m.\u001b[0m\u001b[0mbarplot\u001b[0m\u001b[0;34m(\u001b[0m\u001b[0mx\u001b[0m \u001b[0;34m=\u001b[0m \u001b[0mlist\u001b[0m\u001b[0;34m(\u001b[0m\u001b[0mrange\u001b[0m\u001b[0;34m(\u001b[0m\u001b[0;36m1\u001b[0m\u001b[0;34m,\u001b[0m\u001b[0;36m29\u001b[0m\u001b[0;34m)\u001b[0m\u001b[0;34m)\u001b[0m \u001b[0;34m,\u001b[0m\u001b[0my\u001b[0m\u001b[0;34m=\u001b[0m \u001b[0mnp\u001b[0m\u001b[0;34m.\u001b[0m\u001b[0msum\u001b[0m\u001b[0;34m(\u001b[0m\u001b[0mnormalize_ds\u001b[0m\u001b[0;34m(\u001b[0m\u001b[0msamples_table\u001b[0m\u001b[0;34m)\u001b[0m\u001b[0;34m,\u001b[0m \u001b[0maxis\u001b[0m\u001b[0;34m=\u001b[0m\u001b[0;36m0\u001b[0m\u001b[0;34m)\u001b[0m\u001b[0;34m)\u001b[0m\u001b[0;34m\u001b[0m\u001b[0m\n\u001b[0m\u001b[1;32m      3\u001b[0m \u001b[0mplt\u001b[0m\u001b[0;34m.\u001b[0m\u001b[0mtitle\u001b[0m\u001b[0;34m(\u001b[0m\u001b[0;34m\"GAN-Dataset Community Normalized Species Abundance\"\u001b[0m\u001b[0;34m)\u001b[0m\u001b[0;34m\u001b[0m\u001b[0m\n\u001b[1;32m      4\u001b[0m \u001b[0mplt\u001b[0m\u001b[0;34m.\u001b[0m\u001b[0mxlabel\u001b[0m\u001b[0;34m(\u001b[0m\u001b[0;34m\"Species\"\u001b[0m\u001b[0;34m)\u001b[0m\u001b[0;34m\u001b[0m\u001b[0m\n\u001b[1;32m      5\u001b[0m \u001b[0mplt\u001b[0m\u001b[0;34m.\u001b[0m\u001b[0mylabel\u001b[0m\u001b[0;34m(\u001b[0m\u001b[0;34m\"Abundance\"\u001b[0m\u001b[0;34m)\u001b[0m\u001b[0;34m\u001b[0m\u001b[0m\n",
            "\u001b[0;32m/content/MicrobiotaGAN/utilities.py\u001b[0m in \u001b[0;36mnormalize_ds\u001b[0;34m(dataset)\u001b[0m\n\u001b[1;32m     21\u001b[0m \u001b[0;34m\u001b[0m\u001b[0m\n\u001b[1;32m     22\u001b[0m     \u001b[0;32mfor\u001b[0m \u001b[0mn_row\u001b[0m \u001b[0;32min\u001b[0m \u001b[0mrange\u001b[0m\u001b[0;34m(\u001b[0m\u001b[0mdim_dataset\u001b[0m\u001b[0;34m[\u001b[0m\u001b[0;36m0\u001b[0m\u001b[0;34m]\u001b[0m\u001b[0;34m)\u001b[0m\u001b[0;34m:\u001b[0m\u001b[0;34m\u001b[0m\u001b[0m\n\u001b[0;32m---> 23\u001b[0;31m         \u001b[0mk\u001b[0m \u001b[0;34m=\u001b[0m \u001b[0mdataset\u001b[0m\u001b[0;34m[\u001b[0m\u001b[0mn_row\u001b[0m\u001b[0;34m,\u001b[0m\u001b[0;34m:\u001b[0m\u001b[0;34m]\u001b[0m\u001b[0;34m\u001b[0m\u001b[0m\n\u001b[0m\u001b[1;32m     24\u001b[0m         \u001b[0mk_norm\u001b[0m \u001b[0;34m=\u001b[0m\u001b[0;34m(\u001b[0m\u001b[0mk\u001b[0m \u001b[0;34m-\u001b[0m \u001b[0mnp\u001b[0m\u001b[0;34m.\u001b[0m\u001b[0mmin\u001b[0m\u001b[0;34m(\u001b[0m\u001b[0mk\u001b[0m\u001b[0;34m)\u001b[0m\u001b[0;34m)\u001b[0m\u001b[0;34m/\u001b[0m\u001b[0;34m(\u001b[0m\u001b[0mnp\u001b[0m\u001b[0;34m.\u001b[0m\u001b[0mmax\u001b[0m\u001b[0;34m(\u001b[0m\u001b[0mk\u001b[0m\u001b[0;34m)\u001b[0m \u001b[0;34m-\u001b[0m \u001b[0mnp\u001b[0m\u001b[0;34m.\u001b[0m\u001b[0mmin\u001b[0m\u001b[0;34m(\u001b[0m\u001b[0mk\u001b[0m\u001b[0;34m)\u001b[0m\u001b[0;34m)\u001b[0m\u001b[0;34m\u001b[0m\u001b[0m\n\u001b[1;32m     25\u001b[0m         \u001b[0mdataset\u001b[0m\u001b[0;34m[\u001b[0m\u001b[0mn_row\u001b[0m\u001b[0;34m,\u001b[0m\u001b[0;34m:\u001b[0m\u001b[0;34m]\u001b[0m \u001b[0;34m=\u001b[0m \u001b[0mk_norm\u001b[0m\u001b[0;34m\u001b[0m\u001b[0m\n",
            "\u001b[0;31mIndexError\u001b[0m: too many indices for array"
          ]
        }
      ]
    },
    {
      "metadata": {
        "id": "QIDA0nB9DyJ1",
        "colab_type": "code",
        "colab": {
          "base_uri": "https://localhost:8080/",
          "height": 431
        },
        "outputId": "0307b2e4-3856-4b94-cbbc-551886350727"
      },
      "cell_type": "code",
      "source": [
        "\n",
        "rnd_index = np.random.randint(low=1, high=140000,size=100)\n",
        "sub_ds = normalize_ds(ds_table)[rnd_index]\n",
        "\n",
        "sns.barplot(x = list(range(1,29)) ,y= np.sum(sub_ds, axis=0))\n",
        "plt.title(\"Dataset Community Normalized Species Abundance\")\n",
        "plt.xlabel(\"Species\")\n",
        "plt.ylabel(\"Abundance\")\n",
        "plt.savefig(\"real.svg\")\n",
        " "
      ],
      "execution_count": 76,
      "outputs": [
        {
          "output_type": "stream",
          "text": [
            "/usr/local/lib/python3.6/dist-packages/seaborn/categorical.py:1428: FutureWarning: remove_na is deprecated and is a private function. Do not use.\n",
            "  stat_data = remove_na(group_data)\n"
          ],
          "name": "stderr"
        },
        {
          "output_type": "display_data",
          "data": {
            "image/png": "[encoded data removed]",
            "text/plain": [
              "<matplotlib.figure.Figure at 0x7ff4c6a0fba8>"
            ]
          },
          "metadata": {
            "tags": []
          }
        }
      ]
    },
    {
      "metadata": {
        "id": "k2hauKEGE7BE",
        "colab_type": "code",
        "colab": {}
      },
      "cell_type": "code",
      "source": [
        "files.download(\"real.svg\")\n",
        "files.download(\"fake.svg\")"
      ],
      "execution_count": 0,
      "outputs": []
    },
    {
      "metadata": {
        "id": "uk7ifX9CFTcr",
        "colab_type": "code",
        "colab": {}
      },
      "cell_type": "code",
      "source": [
        "a_t = normalize_ds(samples_table)"
      ],
      "execution_count": 0,
      "outputs": []
    },
    {
      "metadata": {
        "id": "RFWi05ZcG1Wb",
        "colab_type": "code",
        "colab": {
          "base_uri": "https://localhost:8080/",
          "height": 55
        },
        "outputId": "e31278b4-309d-4815-83b9-bd04a18a066d"
      },
      "cell_type": "code",
      "source": [
        "show_rounded_array(a_t[8,:],2)"
      ],
      "execution_count": 68,
      "outputs": [
        {
          "output_type": "stream",
          "text": [
            "[0.01, 0.0, 0.0, 0.0, 0.06, 0.29, 0.0, 0.01, 0.01, 0.0, 0.48, 0.0, 0.0, 0.0, 0.0, 0.02, 0.0, 0.0, 0.02, 0.01, 0.06, 1.0, 0.0, 0.0, 0.0, 0.0, 0.16, 0.0]\n"
          ],
          "name": "stdout"
        }
      ]
    },
    {
      "metadata": {
        "id": "qcuBXB2AIhaM",
        "colab_type": "code",
        "colab": {
          "base_uri": "https://localhost:8080/",
          "height": 121
        },
        "outputId": "6df3545c-93ff-42a2-82de-26a818476974"
      },
      "cell_type": "code",
      "source": [
        "!l"
      ],
      "execution_count": 74,
      "outputs": [
        {
          "output_type": "stream",
          "text": [
            "5000_images_dataset.pickle\t  checkpoint\n",
            "5k_samples.zip\t\t\t  gen_param.pkl\n",
            "bio_gan.ckpt.data-00000-of-00001  image_dynamics_param.pickle\n",
            "bio_gan.ckpt.index\t\t  MicrobiotaGAN\n",
            "bio_gan.ckpt.meta\t\t  MicrobiotaGAN.zip\n",
            "bio_gan.zip\n"
          ],
          "name": "stdout"
        }
      ]
    },
    {
      "metadata": {
        "id": "ZoON-tMqImcJ",
        "colab_type": "code",
        "colab": {
          "base_uri": "https://localhost:8080/",
          "height": 360
        },
        "outputId": "71b99552-1c0b-4ab2-bc47-dacbfd1e1cd6"
      },
      "cell_type": "code",
      "source": [
        "!head -n 20 MicrobiotaGAN/generator.py"
      ],
      "execution_count": 32,
      "outputs": [
        {
          "output_type": "stream",
          "text": [
            "import tensorflow as tf\n",
            "\n",
            "from MicrobiotaGAN.xavier_initialization import xavier_init\n",
            "\n",
            "class Generator:\n",
            "\n",
            "    def __init__(self,noise_dim : int ,n_species: int) -> None:\n",
            "         \n",
            "        nodes_input_layer : int = 128\n",
            "\n",
            "        self.G_W1 = tf.Variable(xavier_init([noise_dim, nodes_input_layer]) , name=\"G_W1\")\n",
            "        self.G_b1 = tf.Variable(tf.zeros(shape=[nodes_input_layer]), name=\"G_b1\" )\n",
            "\n",
            "        self.G_W2 = tf.Variable(xavier_init([nodes_input_layer, n_species ]) , name=\"G_W2\")\n",
            "        self.G_b2 = tf.Variable(tf.zeros(shape=[n_species]) , name=\"G_b2\")\n",
            "\n",
            "    def  draw_samples(self, noise, train_bool: bool = True ) :\n",
            "        \n",
            "\n",
            "        G_h1 = tf.nn.relu(tf.matmul(noise, self.G_W1) + self.G_b1)\n"
          ],
          "name": "stdout"
        }
      ]
    },
    {
      "metadata": {
        "id": "1ENcgkJGVAmK",
        "colab_type": "code",
        "colab": {
          "base_uri": "https://localhost:8080/",
          "height": 35
        },
        "outputId": "897fea6b-2cd6-4ebc-c4a8-a73c87aee78b"
      },
      "cell_type": "code",
      "source": [
        "bool(1)"
      ],
      "execution_count": 114,
      "outputs": [
        {
          "output_type": "execute_result",
          "data": {
            "text/plain": [
              "True"
            ]
          },
          "metadata": {
            "tags": []
          },
          "execution_count": 114
        }
      ]
    },
    {
      "metadata": {
        "id": "lRaScDq2XOso",
        "colab_type": "code",
        "colab": {
          "base_uri": "https://localhost:8080/",
          "height": 566
        },
        "outputId": "5b51ae0c-9b96-471d-e744-9aac220127c0"
      },
      "cell_type": "code",
      "source": [
        "dir(my_generator)"
      ],
      "execution_count": 33,
      "outputs": [
        {
          "output_type": "execute_result",
          "data": {
            "text/plain": [
              "['G_W1',\n",
              " 'G_W2',\n",
              " 'G_b1',\n",
              " 'G_b2',\n",
              " '__class__',\n",
              " '__delattr__',\n",
              " '__dict__',\n",
              " '__dir__',\n",
              " '__doc__',\n",
              " '__eq__',\n",
              " '__format__',\n",
              " '__ge__',\n",
              " '__getattribute__',\n",
              " '__gt__',\n",
              " '__hash__',\n",
              " '__init__',\n",
              " '__init_subclass__',\n",
              " '__le__',\n",
              " '__lt__',\n",
              " '__module__',\n",
              " '__ne__',\n",
              " '__new__',\n",
              " '__reduce__',\n",
              " '__reduce_ex__',\n",
              " '__repr__',\n",
              " '__setattr__',\n",
              " '__sizeof__',\n",
              " '__str__',\n",
              " '__subclasshook__',\n",
              " '__weakref__',\n",
              " 'draw_samples',\n",
              " 'optimize_step']"
            ]
          },
          "metadata": {
            "tags": []
          },
          "execution_count": 33
        }
      ]
    },
    {
      "metadata": {
        "id": "1dzoenDufTKZ",
        "colab_type": "code",
        "colab": {}
      },
      "cell_type": "code",
      "source": [
        ""
      ],
      "execution_count": 0,
      "outputs": []
    }
  ]
}