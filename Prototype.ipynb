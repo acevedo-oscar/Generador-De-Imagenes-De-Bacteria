{
 "cells": [
  {
   "cell_type": "code",
   "execution_count": 2,
   "metadata": {},
   "outputs": [],
   "source": [
    "from  SyntheticMicro import *\n",
    "import numpy as np\n",
    "from numpy import ndarray as Tensor\n",
    "from scipy.integrate import solve_ivp\n",
    "\n",
    "import matplotlib.pyplot as plt\n",
    "%matplotlib inline"
   ]
  },
  {
   "cell_type": "markdown",
   "metadata": {},
   "source": [
    "## Model definition"
   ]
  },
  {
   "cell_type": "code",
   "execution_count": 3,
   "metadata": {},
   "outputs": [],
   "source": [
    "mu : float = 0.0\n",
    "interspec : float= 0.6\n",
    "nodes_number : int= 28\n",
<<<<<<< HEAD
    "interaction_probability :float = 0.1\n",
=======
    "interaction_probability :float = 1\n",
>>>>>>> d3b09d4a5b2d7cfe7d1bdbcdb350d11e9f215dd0
    "#np.random.seed(12)\n",
    "\n",
    "A_matrix : Tensor = ER_Eco_Net_Matrix(nodes_number, interaction_probability, interspec )\n",
    "# This matrix will be \"broadcasted\" to all Ax columns\n",
    "r_matrix : Tensor = np.random.uniform(0,1, nodes_number)"
   ]
  },
  {
   "cell_type": "code",
   "execution_count": 4,
   "metadata": {},
   "outputs": [],
   "source": [
    "\n",
    "def SystemDynamics(  time , input_values ):\n",
    "    \"\"\"\n",
    "    dx/dt = diag(x)[Ax+r]\n",
    "    \"\"\"\n",
    "    A_m = A_matrix\n",
    "    r_m = r_matrix\n",
    "    diag_m = Diagonal_Matrix( np.array(input_values))\n",
    "\n",
    "    left_product = np.matmul(A_m, np.array(input_values) ) + r_m\n",
    "\n",
    "    dx =  np.matmul(diag_m,left_product.T).flatten()\n",
    "\n",
    "    return dx.tolist()[0]\n",
    "\n",
    "def GetFinalState(eq_solution):\n",
    "    return eq_solution.y[:, -1].tolist()\n",
    "\n",
    "\n",
    "def GetImageMatrix(species_number:int,T:int) -> Tensor:\n",
    "    sol_flag :int = 0 \n",
    "    states_container = []\n",
    "    for k in range(species_number):\n",
    "        while sol_flag == 0:\n",
    "            initial_cond_ivp = Get_Random_Composition(species_number )\n",
    "            ivp_sol = solve_ivp(SystemDynamics, (0,T), initial_cond_ivp, method='RK45')\n",
    "            if ivp_sol.status != -1:\n",
    "                sol_flag = 1\n",
    "        sol_flag  = 0\n",
    "        states_container.append(GetFinalState(ivp_sol))\n",
    "\n",
    "    return np.array(states_container)\n"
   ]
  },
  {
   "cell_type": "markdown",
   "metadata": {},
   "source": [
    "# Parameters test\n",
    "\n",
    "## Initial Conditions"
   ]
  },
  {
   "cell_type": "code",
<<<<<<< HEAD
   "execution_count": 4,
=======
   "execution_count": 5,
>>>>>>> d3b09d4a5b2d7cfe7d1bdbcdb350d11e9f215dd0
   "metadata": {},
   "outputs": [
    {
     "data": {
      "text/plain": [
<<<<<<< HEAD
       "[0.8054392729862209,\n",
       " 0.8389755231186994,\n",
       " 0.17300514769722508,\n",
       " 0.0,\n",
       " 0.3001731652674323,\n",
       " 0.205478559843143,\n",
       " 0.0,\n",
       " 0.0,\n",
       " 0.14769887107208723,\n",
       " 0.0,\n",
       " 0.06164471586272946,\n",
       " 0.0,\n",
       " 0.06896872096801143,\n",
       " 0.0,\n",
       " 0.0,\n",
       " 0.0,\n",
       " 0.0,\n",
       " 0.0,\n",
       " 0.0,\n",
       " 0.0,\n",
       " 0.6318648124169155,\n",
       " 0.7648796281713003,\n",
       " 0.973065668849963,\n",
       " 0.0,\n",
       " 0.282364770257997,\n",
       " 0.8445816754578935,\n",
       " 0.0,\n",
       " 0.8736613811526777]"
      ]
     },
     "execution_count": 4,
=======
       "[0.7578536463650474,\n",
       " 0.14357280624449986,\n",
       " 0.7340568087275273,\n",
       " 0.0,\n",
       " 0.0,\n",
       " 0.0,\n",
       " 0.10986143358262923,\n",
       " 0.4054146356898427,\n",
       " 0.0,\n",
       " 0.678505130845638,\n",
       " 0.0,\n",
       " 0.0,\n",
       " 0.7207219670214066,\n",
       " 0.0,\n",
       " 0.8497549128345641,\n",
       " 0.5339277435172463,\n",
       " 0.976350391729734,\n",
       " 0.0,\n",
       " 0.6178544914725486,\n",
       " 0.7058083228439338,\n",
       " 0.33609888442468594,\n",
       " 0.0,\n",
       " 0.8426809275957498,\n",
       " 0.0,\n",
       " 0.6044794430814172,\n",
       " 0.11371490956885277,\n",
       " 0.0,\n",
       " 0.0]"
      ]
     },
     "execution_count": 5,
>>>>>>> d3b09d4a5b2d7cfe7d1bdbcdb350d11e9f215dd0
     "metadata": {},
     "output_type": "execute_result"
    }
   ],
   "source": [
    "Get_Random_Composition(nodes_number )"
   ]
  },
  {
   "cell_type": "code",
<<<<<<< HEAD
   "execution_count": 5,
=======
   "execution_count": 6,
>>>>>>> d3b09d4a5b2d7cfe7d1bdbcdb350d11e9f215dd0
   "metadata": {},
   "outputs": [
    {
     "data": {
      "text/plain": [
<<<<<<< HEAD
       "matrix([[-1.        ,  0.26106153, -0.99324507],\n",
       "        [ 0.26838753, -1.        , -0.30418186],\n",
       "        [ 0.05708034, -0.19323581, -1.        ]])"
      ]
     },
     "execution_count": 5,
=======
       "matrix([[-1.        , -0.1807633 , -0.61472887],\n",
       "        [-0.67036124, -1.        ,  1.52120343],\n",
       "        [ 0.91837514, -0.46816333, -1.        ]])"
      ]
     },
     "execution_count": 6,
>>>>>>> d3b09d4a5b2d7cfe7d1bdbcdb350d11e9f215dd0
     "metadata": {},
     "output_type": "execute_result"
    }
   ],
   "source": [
    "ER_Eco_Net_Matrix(3, interaction_probability, interspec ) "
   ]
  },
  {
   "cell_type": "code",
<<<<<<< HEAD
   "execution_count": 6,
=======
   "execution_count": 7,
>>>>>>> d3b09d4a5b2d7cfe7d1bdbcdb350d11e9f215dd0
   "metadata": {},
   "outputs": [
    {
     "data": {
      "text/plain": [
<<<<<<< HEAD
       "array([0.3330798 , 0.02574186, 0.7929698 ])"
      ]
     },
     "execution_count": 6,
=======
       "array([0.95678536, 0.94782234, 0.26486587])"
      ]
     },
     "execution_count": 7,
>>>>>>> d3b09d4a5b2d7cfe7d1bdbcdb350d11e9f215dd0
     "metadata": {},
     "output_type": "execute_result"
    }
   ],
   "source": [
    "np.random.uniform(0,1, 3)"
   ]
  },
  {
   "cell_type": "code",
<<<<<<< HEAD
   "execution_count": 7,
=======
   "execution_count": 8,
>>>>>>> d3b09d4a5b2d7cfe7d1bdbcdb350d11e9f215dd0
   "metadata": {},
   "outputs": [
    {
     "data": {
      "text/plain": [
       "array([[4., 0., 0.],\n",
       "       [0., 5., 0.],\n",
       "       [0., 0., 6.]])"
      ]
     },
<<<<<<< HEAD
     "execution_count": 7,
=======
     "execution_count": 8,
>>>>>>> d3b09d4a5b2d7cfe7d1bdbcdb350d11e9f215dd0
     "metadata": {},
     "output_type": "execute_result"
    }
   ],
   "source": [
    "Diagonal_Matrix( np.array([4,5,6]))"
   ]
  },
  {
   "cell_type": "markdown",
   "metadata": {},
   "source": [
    "# Actually solving the equations\n",
    "\n",
    "It seems that the system get into stedy state for $ T = 100 $"
   ]
  },
  {
   "cell_type": "code",
<<<<<<< HEAD
   "execution_count": 27,
=======
   "execution_count": 9,
>>>>>>> d3b09d4a5b2d7cfe7d1bdbcdb350d11e9f215dd0
   "metadata": {},
   "outputs": [
    {
     "name": "stdout",
     "output_type": "stream",
     "text": [
      "The solver successfully reached the end of the integration interval.\n"
     ]
    }
   ],
   "source": [
    "T : int = 600\n",
    "\n",
    "sol_flag : int = 0\n",
    "    \n",
    "while sol_flag == 0:\n",
    "    initial_cond = Get_Random_Composition(nodes_number )\n",
    "    solution1 = solve_ivp(SystemDynamics, (0,T), initial_cond, rtol = 1e-6, method='RK45'    )\n",
    "    \n",
    "    if solution1.status != -1:\n",
    "        sol_flag = 1\n",
    "\n",
    "print(solution1.message)"
   ]
  },
  {
   "cell_type": "code",
<<<<<<< HEAD
   "execution_count": 28,
=======
   "execution_count": 10,
>>>>>>> d3b09d4a5b2d7cfe7d1bdbcdb350d11e9f215dd0
   "metadata": {},
   "outputs": [
    {
     "name": "stdout",
     "output_type": "stream",
     "text": [
<<<<<<< HEAD
      "1022\n"
=======
      "1202\n"
>>>>>>> d3b09d4a5b2d7cfe7d1bdbcdb350d11e9f215dd0
     ]
    },
    {
     "data": {
<<<<<<< HEAD
      "image/png": "iVBORw0KGgoAAAANSUhEUgAAAXcAAAD8CAYAAACMwORRAAAABHNCSVQICAgIfAhkiAAAAAlwSFlzAAALEgAACxIB0t1+/AAAADl0RVh0U29mdHdhcmUAbWF0cGxvdGxpYiB2ZXJzaW9uIDIuMi4yLCBodHRwOi8vbWF0cGxvdGxpYi5vcmcvhp/UCwAAIABJREFUeJzs3Xl4HMWd+P93dc89um/JsizL8oUvbAtDuO8AIZBfQhJyEXJBsoQkG7KbzZIv2WV3c5KbbFhIIEBIgEBIgACBcGPARr5t2cayfOiyzpE090x31++PGd2yJdkjS2PX63nm6aOqa0qS/Zma6uoqIaVEURRFObFo010BRVEUJfVUcFcURTkBqeCuKIpyAlLBXVEU5QSkgruiKMoJSAV3RVGUE5AK7oqiKCcgFdwVRVFOQCq4K4qinIBs0/XGBQUFsrKycrreXlEUJS1t2LChU0pZOF6+aQvulZWV1NbWTtfbK4qipCUhxIGJ5Jtwt4wQQhdCbBJCPD1GmlMI8YgQol4IsU4IUTnxqiqKoiipNpk+968COw+T9jnAJ6WsBn4K/OBYK6YoiqIcvQkFdyFEOfA+4DeHyXI1cH9y/zHgIiGEOPbqKYqiKEdjoi33nwH/CliHSZ8FNAJIKQ2gF8gfmUkIcYMQolYIUdvR0XEU1VUURVEmYtzgLoS4EmiXUm44UrYxzo2aKF5KebeUskZKWVNYOO7NXkVRFOUoTaTlfhZwlRBiP/AwcKEQ4vcj8jQBswGEEDYgG+hOYT0VRVGUSRg3uEspvyWlLJdSVgLXAi9JKT85ItuTwKeT+9ck86glnhRFUabJUY9zF0LcDtRKKZ8Efgs8KISoJ9FivzZF9VOUKSOlREpjyMscsh3jhQUDxxZgIaU1bB/ksK20TLAsLMsCKRPXW8k8VvIa2Z/XAgkSM7G1rP6KDuRJHFvI/nOJCxJ5kj2h/WnJwpJ5hqbDwO2zgTbYkLyDv6DB3f73GZUmB9MHD2FUr+zI9FF/jBG5x2kbTrLtOPm25iTzT7L8nKI1lC69fHLvMUmTCu5SyleAV5L7tw05HwE+nMqKKScvyzIwjF4Mow/D8CdeZgDTCGKYQUwzhGmGsMwwphUZ3FpRLDOCaUWxjAiWFUu8zBhSxrFkHCnjSGlgYQDmdP+oyolEHmGAoJDD0q2W2MwK7opytKSUxOPdRCLNRCItRGPtxKIdxGKdRGMdxGNdxOM9xA0fhuGfUJmadKJZLoTlQJgONNOOMGwIw46w7AgrA5tlQ0gbwkq+pA7JrZA6wtJB2tA0HSFsoNnQhI4QOkLTEZotsR04HrIvdNA0RP9r6LHQEJoOYvAYTSBIHKMJEBqa0KA/TdMQInEeIYbsk7h+YCuGpIuBtMFzAGIwLyTq0R9bBvYH8yIEov+4v6yB9MHrBvdJvFf/BUOzDuxow48H6jLiD5k8L0YkjBpNPd7xSKOyj3rjw+Y9GpMa/K1N/UhxFdyVlIrHewgG6wmG9hIM1hMK7SUcbiISacayIsPyCqFjt+fjEPnoVjYeowgt6kULedCCbkTAgQg50QwPmuFCM9xopgvNdKJpLnSPHc1tR/PYEG4bmsuG5tIRGTY0p45w6omtI7nv0BF2LXFs1xIvmwa6GOM/vqKkNxXclaNmGEH8/u309m2mr28zfX1biUYPDaRrmguPpwqvdz752edijxZg68tF685GdHiQbTZkYHjXiHDZsOU60XOc6KVO9EwHepYDLdOBnmFHy7Cje+0Iu368f1xFSSsquCsTJqWF37+drq5X6ep6ld6+LfTfmHO7K8jJWUNmxmI8rnk4ekuh2Ut8Z4B4axCzJzpQjvDYsBV5sC1yYytwYy9wo+e7seU60Vzqn6SipIL6n6QckZSSvr5NtB56gvb254jHuwFBVuYyKud8kezsVWR6l0GrncjubqL7eok2B4iaXUAXtgI3jjlZ2M/w4ij1Yi/1omU6VDeIokwxFdyVMcXjPpqb/0hL6+OEw/vRNBcFBRdRUHAh+XlnY7NyCO/sJrK+m87de5ARAzSBY3YmGWfNwlmZhWNOFrrXPt0/iqKclFRwV4aJRFo42Hgvzc0PY1lhcnJOp3LOlygqei+6lkG0oYfAK22Ed+xGxi20DDvuJfm4FuXhmp+julUUZYZQ/xMVAOLxPvbt/wVNTQ8CUFz8fuZU3EBGxgKsmEnwzVYCb+7E7IkiXDqeVUV4VhXjmJ2JOA7DuhRFmRwV3E9yUlq0tj5G/d4fEY/7KCv7CJVzbsLtnoUVNeh7pZHA601YQQNnVTbZl1fiPiVfjVZRlBlOBfeTWDTaTl3dN+j2rSU7ezULF/yOzMwlSCkJ1rbR+0wDVsjAtTCXzAsrcM7Jmu4qK4oyQSq4n6Q6Ol9k585/wzRDLFr435SVXYsQAqMzjO+JPUT39uKYk0XOlVU4ZmdOd3UVRZkkFdxPMlJK9u//FQ37fkpGxiksXfIzvN55AATfOYTvr3sRuiDnA9V415So/nRFSVMquJ9ELCvO7t230dL6KCXFV7No0ffQdSfStOj92z4Cb7bgnJ9D3jUL0LOd011dRVGOgQruJwnLirJ12010db1MZeVNVM39Z4QQWKE4XQ/tJLq3l4yzZ5F9+VyErlrripLuVHA/CVhWnG3bv0JX18ssXPhflM/6eOJ8xKDj3u3EW4PkfngB3tXF01xTRVFSRQX3E5yUJjvqbqGz8x8sWPCdwcAeNem8bwfxliD5n1yM+5RR65kripLGJrJAtksIsV4IsUUIsUMI8Z9j5LleCNEhhNicfH1+aqqrTFZ9/Q9ob/8b1dX/xuzy6wCQhkXX/TuIHewj72MLVWBXlBPQRFruUeBCKWVACGEH3hBCPCulfHtEvkeklF9OfRWVo9XS8igHG39Lefl1zKn4wsD5nqf2Em3oJfejC/EsK5zGGiqKMlXGDe7Jha4DyUN78qUWv57henpq2bX7NvLyzmF+9a0D54Mb2giuO0TmeeV4VxZNYw0VRZlK43bLAAghdCHEZqAdeEFKuW6MbB8SQmwVQjwmhJid0loqkxKP+9i+46u4XGUsXfILNC3xGR5rCeB7oh5nVTZZl1ZObyUVRZlSEwruUkpTSnkqUA6sEUIsHZHlKaBSSrkc+Adw/1jlCCFuEELUCiFqOzo6jqXeymFIKanb+U1isS6WLv0FdntiygAZt+j+4y50j428jy9Swx0V5QQ3oeDeT0rZA7wCXDbifJeUsn+pnXuA1Ye5/m4pZY2UsqawUPX1ToWmpgfo7HyR6upvkpU5+Bnc99JBjI4wuR9egJ7hmMYaKopyPExktEyhECInue8GLgZ2jchTOuTwKmBnKiupTEww2ED93h+Qn38+s8uvHzgfaw3if7UJz6oiXPNzp6+CiqIcNxMZLVMK3C+E0El8GDwqpXxaCHE7UCulfBL4ihDiKsAAuoHrp6rCytikNKnb+a9omovFi743sIydtCS+x99F89jIfl/VNNdSUZTjZSKjZbYCK8c4f9uQ/W8B30pt1ZTJOHDwN/T1bWLJKT/F6RwcBROqbSPeFCDv2oVqyTtFOYlMqs9dmZkCwT00NPyMwsL3Ulz8/oHzVsyk94UDOOZk4V6h7nEoyslEBfc0J6XJzp3/hs3mZeHC2we6YwACrzdj+WNkXzF32HlFUU58am6ZNHew8V76+jYnumMcBQPnTX8M/6tNuJfkqxWUFOUkpFruaSzRHfMTCgouHtYdA+B/pRFpmGRdVjk9lVMUZVqp4J6mLCtGXd0t6HoGixb9z7BuFzMQI7j+EJ5Ti7AXeqaxloqiTBfVLZOm9u37BX7/DpYt+99h3TEAgTdakIZF5vlqFghFOVmplnsa6up6lf0Hfk1p6YcpKnzvsDQrbBB4qwX30gLsRarVrignKxXc00w43MyOulvI8C5k4YLvjEoPvNWCjJpkXqBa7YpyMlPBPY0Yhp8tWz+PZcVZtuxX6Lp7WLo0LAJvteBckIujLGOaaqkoykyggnuasKwo27bdRCjUwPJl/4vHM3dUntC2Tix/nMyzZ01DDRVFmUnUDdU0YFkxtm2/mW7fWk5Z/EPy8s4alUdKSeCNZmxFbpzzc6ahloqizCSq5T7DmWaUbdtvprPzRRYuuJ3S0g+NmS92oI94c4CMM2epp1EVRVEt95nMMIJs3fZFfL43WbjgPykv/8Rh8wbWtiDcNjyr1NJ5iqKo4D5jxWKdbN7yeQKBOk5ZfAelpf/fYfOa/hjhHV1knFWG5tCPYy0VRZmpVHCfgcLhRjZtvp5o9BDLl91FQcGFR8wfrD0ElsR7eukR8ymKcvJQwX2G8fvr2Lzls1hWjJUrHyAne8wVCwdISxJcdwjnvGzsBe4j5lUU5eQxkWX2XEKI9UKILUKIHUKI/xwjj1MI8YgQol4IsU4IUTkVlT3R+Xxvs2HjxxDCRs3qR8cN7ACRPT7MnqhqtSuKMsxERstEgQullCuAU4HLhBBnjMjzOcAnpawGfgr8ILXVPPG1t/+dTZs/g8tVSs3qP+H1Vk/ouuC6Q2gZdtyn5E9xDRVFSSfjBneZEEge2pMvOSLb1cD9yf3HgIuEGo83Yc3ND7Nt+5fJylzC6lUP43JNrBVu+mNEdnXhWV2MsKlRrYqiDJpQRBBC6EKIzUA78IKUct2ILLOARgAppQH0AqopOQ4pJfsP/B+7dt9Kft7ZrFz5AHb7xB9ACm1qBwu8q4unsJaKoqSjCQV3KaUppTwVKAfWCCGWjsgyVit9ZOseIcQNQohaIURtR0fH5Gt7ApFSsrfhDvbu/SHFxe9n+fL/Q9cnPoujlJJg7SEcFZlq9kdFUUaZ1Hd5KWUP8Apw2YikJmA2gBDCBmQD3WNcf7eUskZKWVNYePIu2Cylxbt7bufAgbuYVfYxlpzyEzTNMakyYo1+jPYw3pqSKaqloijpbCKjZQqFEDnJfTdwMbBrRLYngU8n968BXpJSjmq5K4nAvmvXrTQ1PUDF7M+xcOF/IcTk+8tDG9oQdg338oLxMyuKctKZyDj3UuB+IYRO4sPgUSnl00KI24FaKeWTwG+BB4UQ9SRa7NdOWY3TmJSSXbu/TUvro1RWfpmquV87qnlgZNwitKUT95J8NJd6VEFRlNHGjQxSyq3AyjHO3zZkPwJ8OLVVO7FIKXl3z+20tDxC5Zx/Yl7VPx91WeFd3ciIgWeVupGqKMrY1Pi546Sh4ccDXTFVVV8/prJCm9rRMu0456mpfRVFGZsK7sdBS8tj7D/wa8rKPkp19beOaUpeMxgnsrsbz4oihK4eJVAUZWwquE8xn28du3Z/m7zcs1m44D+Pea718LZOMKWa2ldRlCNSd+OmUDjcyNZt/4TbXcHSpb9E0+zHXGZoczu2Ijf2Um8Kaji9pGlihSPISBgrEkFGIljRKLL/FYthxWIQjye2hoE0DGQsntiaRvKcmdg3TaRhgmUiTStxzpIDx1gWSAtpyeH7MnmMHDwe8pL07/dXPHncv5/YGf6zDaQzIt9hjkf9co5xsJkarDajZV15JbnXfnRK30MF9yliWQY76r4OmKxYfg92e9Yxl2n0RInt7yPrkjkzbrUlaZrEW1sxDh3C6OzE6OhMbLs6sXr7MP1+LL9/YGuFQshoNHUV0DSEroPNhtA00PXEsaYNHmsa9L8ECE0HIUATid+n0BLHAy8QiBHnkr/3/jQYcm7E32Tk+ZHJYz77N8b1R2NoXZWZ5zj8bVRwnyIHD95Nb+9GlpzyEzyeOSkpM7wl8VSvZ8X0PgBm+HyEN24kvHUbsX37iO1rIHbgIDIWG55R17Hl5aHnZKNlZKIX5OOorETLzEDzetHcHjS3G83jRjhdaC4nwuVCOJxoTgfCMeRlsyHsdoTdngjgdjtC1xE2W+JYBTJFGUYF9ynQ599Ow76fU1R0BcXFV6Ws3NCWduyzM7Ed53nbpWkSfOttAi+9SOidWqJ79iQSbDYc5eU45s7Fe865OCrnYC+bha2wAFthIXpOTqK1rCjKcaeCe4pZlkFd3Tew2/NYtPC/UtaijHeEiLcEyX5fVUrKm4jIu+/S+5e/0vfUUxgdHQiPB8/KlWS97wo8NTW4li1DczqPW30URZk4FdxTrLX1MYLBPSxb+r+TmuFxPOEtHSDAcxymG4jsfpeOX/yCwIsvgs1Gxrnnkn311WScf54K5oqSJlRwTyHTDNGw7+dkZ6+isPDSlJUrpSS0pQNHZTZ69tQF13hLC+13/Ji+Z59F83opuPnL5H7sY9jy8qbsPRVFmRoquKfQwcb7iMXaWbb0lym9wRc/FMLoCJNzVlnKyhxKSknvX/5K2//8D9I0yb/hBvI/cz16jnoCVlHSlQruKRKLdXPgwN0UFFxMTk5NSssOb+0ADdxLU98lY/h8tH77/xF48UU8NTWUfv97OMrLU/4+iqIcXyq4p0hj432YZojqef+S0nL7u2Sc83LQMyY35/t4og37aPziFzFaWyn65jfJ+/R1anSLopwgVHBPAcuK0dzyCAUFF054YeuJijX6MbsjZF04O6XlBtetp+krX0HoOhUP3I9n5aiJPxVFSWOqmZYC7R1/Jx7vonzWx1NednhLB+gC95LUdcn4X3qJg5//PLb8fCofeVgFdkU5AamWewo0N/8Bt6uCvLxzUlqutCShrR24FuahuVPzp/K//DJNX/0arkWLqPjNPejZ2SkpV1GUmUW13I9RILCbnp71zCr/+FEtl3ck0YZeLH8cz6mpmW4g8PrrNH/lq7gWLKDit79RgV1RTmATWUN1thDiZSHETiHEDiHEV8fIc74QolcIsTn5um2ssk5EzS0Po2kOykqvSXnZoU3tCKeOe/GxjzMPb9lC081fwTG/OhHYs459IjNFUWauiXzXN4BbpJQbhRCZwAYhxAtSyroR+V6XUl6Z+irOXFJatLc/S0H+RdjtuSkt24qZhLd14l5egLDrx1RWbP9+Gr/4JWyFhVTcc48av64oJ4FxW+5SylYp5cbkvh/YCcya6oqlg97ejcRiHRQWvTflZUd2dCFjJt5jXCfV6O7m4A03gpRU3HM3tvz8FNVQUZSZbFKdxEKIShKLZa8bI/k9QogtQohnhRBLDnP9DUKIWiFEbUdHx6QrO9O0dzyHpjkoyL8g5WUHN7ah5zpxVB5994kVi9F081cw2tqYfdevcVRWpq6CiqLMaBMO7kKIDOBx4GtSyr4RyRuBOVLKFcAvgb+MVYaU8m4pZY2UsqawcHrnJD9WUko62v9OXt452GwZKS3b6I0Sre/Bs7IIoR3dNAZSSg595z8Ib9hA2fe+i/vUU1NaR0VRZrYJBXchhJ1EYH9ISvnnkelSyj4pZSC5/wxgF0JM/fSF08jv30Yk2pLSCcL6Bde1AuCtKTnqMrrvvZfeJ56g4KabyLriilRVTVGUNDGR0TIC+C2wU0r5k8PkKUnmQwixJlluVyorOtO0d/wdIWwUFlyc0nKlaRF85xCuBbnY8lxHVYb/pZdov+PHZF5+GQVfviml9VMUJT1MZLTMWcCngG1CiM3Jc/8OVABIKe8CrgG+JIQwgDBwrZQn9gq9XV2vkp29OqVztgOEd3Rh+eN433N0M0BGdu+m+Rv/gmvJEsq+9z21/JyinKTGDe5SyjcYtbTvqDx3AnemqlIzXSzWSSCwk3lVt6S87ODbreg5TlwLJj+0Mt7aSuMNN6JnZFD+q1+huY6u5a8oSvpT0w8chW7fWwDk5p01Ks3s6SGwdi3RPXuIH2wk3tYGlgVCoGdm4qisxDG3Es+aNTirhi+ZFz3YR7Shl+zL5076RqrZ10fjDTdgBYPMeej32IuLjvrnU04MUkqwAClBSuTAfmJqi/59pEQmt/35B46Hbum/LnkOEmUN2WfY/og0BssZ3MqBpP7jYeljXTsk22DFRv7wR0gbcW6wqLFOHsaodDlO+nD2Ei+O2ZnjvMmxUcH9KPi638RmyyQrcykAMh6n9+m/0fOnPxHevDkRzHUde1kZ9tJScNhBQvzQIYLr1iEjEQAclZVkXnwROR/5CI6KCvwvHkTz2PCeUTqp+piBII1f/BLR/QeouOduXAsXpvxnVhKklMi4hYyZie3Ay0QayX3DQhoS4hbS7D9OnjMTW2laYEqkOXwf00qek2DJRDA1rcF9KxlgTTkYoAfShgRwS44foJRpk3leuQruM42Ukm7fWnJzzgA0eh7/Mx133onR2oqjeh75N95A5nnn4VqyBGG3j77esog3NxN47TUCL75E1+/up+ve+/CefQFSP5Pcj5yN5pz4E6lmIEDj579AeNs2Zv34DrxnnJHCn/bE0R+UrZCBFYpjhQ1k2MAKG1iRxFZGTayIiYwaWFETGTWRMRMrZg3sy7h1bBXRBULXEDYxuK8n9zUNbCLxrU0XCLuG0JLHmkjkG3qsicTQBU0k7q2MPC9G7IvBfQSJNDHkWIiB/USZDKbTX8Zg/uFpDN7f6f/S2Z9vINuQ6xh+beJwxPVD84xxftTtpFHHh7l2jHRxpHxjlTdm+jjHQ05M5v/40VLBfZLC4YNEIs2U51xL4403EnztddwrVlD6H9/Be+65497AFJqGY/Zs8j7xCfI+8Qnibe34fv8g3Q/8ARl9CZv3StwLv4a9bPwbqvHmZppu/gqRd99l1k9+QtZ7Uz8sc6aTcQuzN4rRG8XyxzCTL8sfxwzGsYJxrEAMM2iAceTALJw6mktHOG2JfaeOluHA7tQRDg3h0BMB16Gj2Ycc2/u3GsKW2GJL7ttEYqtryQCubnArx4cK7pPU7VsLQPDbD6E1hCi+9VZyP/Hxo17ByF5cRNaVnyHavATib+J//q/4n/87uZ/8JPmf++yY0wVIKQm8+CKt3/5/SMOg/M5fknn++cfyY81Y0pKYvghGVwSjK4zRHcHojmD2RDF7oljB+OiLbAI9w4GW6UDPdGAv8aJ57WgeG7onsRVuG9qQl3DoKvAqJxQV3Cepa//zaH0aeodgzsN/xLVo0TGVZ8VMfH+pxz6rgOKv/gdG+xfp+OWddN93H74HHyTrfe8j4/zzcFZXIy2LyNat9DzxF8IbNuBcsIBZP/8ZzrlzU/TTTR8pJaYvSrw1SPxQ8tUewugKgzGk89gmsOW5sOW6cMzKQM92ouc40bMd6FlO9EwHwqWrIaDKSU9M13D0mpoaWVtbOy3vfbTiLS2sffs8nK1uVl/9TEoWku55poHAa80U3rgc59zB+dWjDfvw/f5Bev/yV6xQaNg1ttJSCm68kZwPfXDMfv10YPZGiTX6iTb6iR30E28JIKNmIlGAnufCXuTBVujGXuDBVuDGlu9Cy3SoFrZyUhNCbJBS1oyXT7XcJ8gKhdj3r1/A/KxFydzrUhLYo/t6CbzRjHdNybDADuCsmkvJbbdR/K1vEdmxg1hzMwCuBQtwVFenXcvU8EWI7u0hureXaEMPZm8skaAL7KVePCuLsJd6E69i73G54aQoJzIV3Ceo/Sc/JUA9APnzjn2K33hHiK4H67Dlu8m+/PDdKsJux33qqWk38ZcVM4nW9xDZ1U2kvgezOzH8U/PacVZl45iThaMiE0dpRuIGpKIoKaWC+wSENm3C99BDiG/PR9cPkJGx+JjKMwMxOu/bAUJQcP2SlK2POt3MQIzIzm7CdV1E63uQcQvh1HHOyyHjrDJc83KwFXvS7luHoqSjEyOqTCFpGBy67TZsJSXE5kmynKeiaUf/a7NCcTrvr8Pyxyj4wjJs+e4U1vb4k3GTcF0XoY3tRPb4wAI9x4n3tBJci/Nwzs1G2FTLXFGONxXcx9H79NNE99RT8vMfcDB0C3OLjn6WRaMzTOfvdmD4IuR/fDHOivRdxzTW6CewrpXwtk5k1ETPdpJ57mzcywuwl3pV61xRppkK7kcgDYPOX/8a5+LFWDW5sMUiO2fcm9Rjijb00PX7nQAUfmEZzsrsca6YeaQpCe/oJLC2hdiBPoRDx72sAM+qokQLXY1iUZQZQwX3I+h9+mniBw5S/qs76ezbDAiys1ZMqgxpSvpePID/5UZsBW4Krl+Sdl0x0rQIrj+E/9UmzJ4oep6L7PdX4a0pRnOqf0KKMhOp/5lH4HvoDziq55Fx4YXs3foHvN5qbLaJT/ZjdIXpfmQ3sYN+PKuLybmqKq2CobQk4W0d9D5/ALMrgmNOFjnvn4drcZ5qpSvKDJc+keY4C2/fQWTbNopvvRWA3t7NFE1wST0pJaEN7fQ8uRc0yPvYIjwr0mvN2FhzAN+f9xBvDmAv8ZJz/RJcC3NVX7qipIlxg7sQYjbwAFBCYrbnu6WUPx+RRwA/B64AQsD1UsqNqa/u8dPzyCMIl4vsq68iHN6PYfSQlT3+WHMrYuD78x7CWztxzM0m76MLsOWkz6IZ0rDoe7kR/8uNaF47uR9diGdFoWqpK0qamUjL3QBukVJuFEJkAhuEEC9IKeuG5LkcmJ98nQ78OrlNS1Y4TO/f/kbW5ZejZ2XR2/oiANlZRw7u8bYgXb/fidEVJuuySjLPLU+roBjvCNH9h13EW4N4VhaR8/4qNE96Tm+gKCe7iSyz1wq0Jvf9QoidwCxgaHC/GngguW7q20KIHCFEafLatBN47XVkKET2Ve8HoLdvM7qegddbfdhrwjs66X5kN8KhU/j55Tir0ms0TLShh84HdyI0Qf6nTsG9ZPRslIqipI9J9bkLISqBlcC6EUmzgMYhx03Jc2kZ3P1/fw49Lw/PaacB0Ne3iays5Qgx9nwngTdb6HlqL47yTPI/tRg9y3k8q3vMghvb8D2+B1u+i4Lrl2LLS59uJEVRxjbhRweFEBnA48DXpJR9I5PHuGTUdJNCiBuEELVCiNqOjo7J1fQ4scJh/C+/QuallyBsNkwzRCCwa8whkFJKep/bT8+Te3EtzqfgC8vSLrAH3mrB9+i7OOdkUfTFFSqwK8oJYkLBXQhhJxHYH5JS/nmMLE3A7CHH5UDLyExSyrullDVSyprCwpk5eiTw2uvIcJisyy4DoK9vG1KaZGevHpZPSknvUw34X2nEe3oJ+Z9cjOZIr5kMw9s7kx9MeRR8dqnqX1eUE8i4wT05Eua3wE4p5U8Ok+1J4DqRcAbQm7b97a+8gpadjacm8SRqb+8mALKHjJSRUtLz1701SWhlAAAgAElEQVQE3mwh46wycj5QnVY3TgGi+3vpeng3jtmZ5H1skZr/RVFOMBPpcz8L+BSwTQixOXnu34EKACnlXcAzJIZB1pMYCvmZ1Fd16knLIvD662ScfTbClvjV9PZtxOOZi92em8gjJb3P7CP4disZ584i+/K5aTf22/BF6HqgDluOk/xPL0m7bxyKooxvIqNl3uDIa4KTHCVz9DNqzRCRHXWYnZ1knHcukAzkvZsoyL9gII//pUYCrzfjfU9pWgZ2aUl8f3oXaUgKPrME3au6YhTlRKS+iw8ReO1VEALv2WcDEA4fIB7vJjt7JQDBDW30vXAgOQZ8XtoFdoDg261EG3rJvnJu2s1xoyjKxKngPkTgtddwL1+OLS8PGNrfvopoQy++x/fgrM4h90Pz066PHRJTDvc+uw/ngly8p5VMd3UURZlCKrgnmT09RLZuG2i1A/T0voOuZ+CyKuj6405s+S7yP7k4LW8+Sinx/XkP6CLx4ZSG3zoURZm49ItSUyT49jqQEu/ZZw2c6+lZT07OafgerUdGTPI/sRjNlZ5zrUX39CS6Yy6Zgy07vcbiK4oyeSq4JwXXrkXLzMS9bBkA0Wg7odA+vIFTiNb3kH1lFfYS7zTX8uhIKel9fn9i+bvTS6e7OoqiHAcquJMIfsG1a/GecfrAEEhfT2KGBW19EY45WWndRx3Z0UW8KUDWxRVp2aWkKMrkqf/pQPzAAeItLXjPPHPgXI9vHZr04OgoT8uHlPpJS9L7wgFshW48K4unuzqKohwnKrgDgTfWAuA9a7C/3edbh7u7Gs+yEhyl6dkdAxDZ2Y3RFkq02vX0/IBSFGXyVHAHgq+/jn1OBY6KCgDC4UZC4QY8naeQec6saa7dsQm83YKe7cC9dGbO5aMoytQ46YO7FY0SXL+ejLPPGTjX0ZFYnCPPdQ6O8omvmTrTGJ1hont68J5WolrtinKSOemDe3jDBmQ4jPecwfHt7c1/xxEoI2/lqmms2bELrG8FDbxr0vdmsKIoR+ekD+6B199A2O1416wBIB7voze0gYzOU3Etypvm2h09GTcJ1bbhXlKQdnPMK4py7FRwf/01PKfVoHk8AHR2vgTCJM91bto+sAQQ2t6FFTLUuHZFOUmd1ME9uncvsfq9ZJw/OOtj074HsYcKyZ9/1hGunPnCm9vRc5w456XXWq6KoqTGSR3c+559DoQg873vBcDv30FfZDM5By/GfUr6ji6xQnEi9T24lxeoOWQU5SR1cgf3557FU1ODvbgIgMbG+xGWk/z4pWk9z3m4rhtMiWdZ+n5AKYpybCayzN69Qoh2IcT2w6SfL4ToFUJsTr5uS301Uy+6Zw+x+r1kXp5YK7Wr+w1aD/2ZnJbz8VSkdz91eFsHeq4Te3nGdFdFUZRpMpGW+++Ay8bJ87qU8tTk6/Zjr9bU63v2WdA0si69lN7ezdTV3YLHUUXBrg/imJM13dU7alYoTmRPD+5lhapLRlFOYhNZZu81IUTl1Ffl+LAsA5/vbfZFf4f5bx427vscfv92HI4C5mm3EbMkzjQO7uG6LrAknmUF010VRVGmUarG+r1HCLEFaAG+IaXckaJyUyoW62TDxk8QCtUjloLbVo7NlsW8qn+hvPxT9D3WiJHZg57nmu6qHrVwXTd6juqSUZSTXSqC+0ZgjpQyIIS4AvgLMH+sjEKIG4AbACqS87gcL4YRYPOWzxGJNFH0YhXOWpP5f3t+YIpfgGijH2dFVtp2Z0jDIlrfg2el6pJRlJPdMY+WkVL2SSkDyf1nALsQYsw+ASnl3VLKGillTWHh8R3JsaPu6wQCO1ng/Cq2x5souO5zwwK7FTMxuyPY03gGyOiBPmTMxLUgfZ+sVRQlNY45uAshSkSymSiEWJMss+tYy02lnp5aOjtfZF7VLZj31aLn5pLzwQ8Oy2O0h0CStqstAUTe9YEucFarB5cU5WQ3breMEOKPwPlAgRCiCfgOYAeQUt4FXAN8SQhhAGHgWimlnLIaH4X9+3+F3Z5H9t45tL72M4q+cQua2z0sT/xQCABbsWc6qpgS0d0+nHOy0JzpO22CoiipMZHRMh8bJ/1O4M6U1SjF+vq20dX9GlWzv0rHjT/EUT2PvOuuG5Uv3hYEm8CW7x6jlJnP7IsSPxQk+/LK6a6KoigzwAnfxNt/4C5stkycT/YRaWllzkO/Rzgco/LF20LYizxpu5xeZLcPAKfqb1cUhRN8+oF4vIfOzn9Q5LqE3nsfJufD1+BZvXrMvEZbEHtxeve3a5kO7CXp262kKErqnNDBvaPzH0hpIB7chZ6VRdEtt4yZzwobmL2xtA2M0pJEG3pwVeeoIZCKogAnaLeMlJLW+h72H/or9ngO1gt7KPne99FzcsbMH28LAmBL05a70R7CChpqel9FUQaccMG9s8nPaw+/S9uBVuZftQ7Pa3ZCxYvgrEsPe43RGQHAXpCeN1Oj+3oBcFaN/eGlKMrJ54TqlvF3R3jy55vpaQux+oOHELqJd4NBw9wr+dP3ajm4Y+zh90Z3GATouem5HF20oRc925m29VcUJfVOmOBuxE2evWsbRtziA19fhSP3bfReG5nZK3jvjz5OZr6L5+7Zju9QcPS13RH0HCdCT79fh5SSaEMvzqps1d+uKMqA9Itmh7H91WY6Dvq5+PpTyCm24et6A9dGi4LPfZ7sQg9X3rQcm13j2bu2EYsYw641uyJpO7490d8ex1ml+tsVRRl0QgT3WMRgw3MHmL04l6pTC+nt3YQl4ni6ism86CIAMnJdXPq5JfS0hXjj0T3Drje6I9jSdCbIaEN/f7sK7oqiDDohgvu2V5qIBOKcfvU8ADoOPAcmFK+6FqHrA/nKF+Wx4uIKdr7VSvuBPgCsqIEVjKftNL/Rfcn+9jStv6IoUyPtg7u0JDteb2HWwlyKKxOLbHS1voR9vyD30qtG5a+5ohJ3hp03Ht2DlBKjKzFSJh1b7lJKovt6cc5N32mKFUWZGmk/FLJxVzd9XWG0M/K56Q8bsQkTb6SKD3SaOMaYM97ptnH6VVW88tBu6je0U+5KtOzTsc/d7I5g+eM45qouGUVRhkv74L59bQvPZhnsWFtPQYYTXYZpC36YLW4/v+4KUZE/+qnTxWeVsfXlJt75236KzysDwJaffi336P5E15KzMn2XBZxKUkqkZWGZZmJrWcmtCVImjmXinLRkIr/s37dA9p9LlAMk8ko5LA0kiU3/dSDpz0MyXQ47j5TIwYomzw/Wu/9gYH7V5I4czJTcMub5wXlZ+49HTNQ64njUNK7Hmn9Ucmonij3m8qZ44lo5+jc0TOHsSkqqF0xpHdI6uMdjJr/e3cIOm8EtlyzgxvPmUfe3j/OMz+KPDZ/hU/eu4+mbzybTZR92naYJVr13Dv+4rw5ffQ92jw3NlX6/itj+PoTbhq1w9AeYtCy6W5vpbTtEX2cHlhEHwOZw4srIwJ2ZhTc3j4zcPBzuqZ12QVoW8WiEaDhELBQmFg4RC4eJRULEIxFikQjxSJh4NIoRiw5sjVgMIxbDjMcw4nHMeBzTiGMaBqZhYJnJrWFgmWbiZZlI08QyE4FbUWai066+RgX3I/nds++yzWZw/Ypybr4osbKf36jjfAsu+ezpXHv323zrz9v45cdWjuqTnl9TxLq/NhDY30dBms4pE93fi3NO1rCZLDsP7mfLP56jfv2bBHzdEyrH7nThzcnFk52DJzsbpzcDp8eL0+NBtzvQdR3NZkNoWjJwmliWhRmPE49GEq9IlHg0QiwcSgbxwW0sEp5wS0m327E7nNgcDmxOJza7A5vDgW63Y3M4cHq96DYbms0+UC9dtyF0feBY0zSEpqPpGpqmIzQNoWkD5xPHInmsIYSGEGIgnxAChEicE4m8AgFa8jixNE3ivNBIrlSTuAYBguS/N5HIO+T84L4YKCdxefK65HH/+w8jhuQddloMTz9s/pHljSx+5H2bke8zMnlE+sgCRxrnvtDkbxsd232mKb9PdYTip7pBBWkc3ANRg1+s388sS+ffP7QEgFiok1h2kEL/KpZX5vH1Sxbwo7/v5tz5hXzktNnDrtd0jVMvqUB/poG4Qx/rLWY0MxDD6AjjWV0MQDjg581Hf8+W559Ft9moPHU181avIW9WOVmFxej2xLcXIxol7O8j7O8j1OMj4Osm4Osm1NtDqNeHr7WFaDhENBgkHgmPWw/dZsPucmN3urA7nTjcbhweLxk5iW8EDo8bp8eLw+3B6fEkzrndia3Ljd3lSmydTmxOJ5qWfn8LRZmJ0ja43/PqXvymxVfmluFwJH6Mji1PgAb5s88H4EvnzeOV3e3c8fxurjq1DJd9eOBY9J4SDj23j/bOCOXH+wc4RrEDfiDR397V3Mjj372NQFcXKy69nDM//AncmYfph8/IJDN/zCVuR7EsM9ntYWKZBtKy0HQbmq4lW8o2NF0FY0WZicYdCimEuFcI0S6E2H6YdCGE+IUQol4IsVUIsSr11RwuGDW4d+1+qmMa559WNnC+q/ElMKFw5YeARN/6P1+8gHZ/lD9taBpVjhY10QS0toXwd0emutopFT3QCzZBV6SVh7/zTcx4nI//9x1c9NkvHT6wT5Km6dgdTpweD+7MLDzZObgyMnC4PdgdThXYFWUGm8g4998Blx0h/XJgfvJ1A/DrY6/WkT22oQl/1OD0mI3ZiwdXHvIbu3B2enDklQyce8+8fFZV5HDXK3uJm8NvsJm+REAPW5LtrzVPdbVTKra/D63IyZ9/+B2cHg/X3v7DKb9BoyhK+hg3uEspXwOOdGfuauABmfA2kCOEKE1VBceoDw+tO0C5bmNVRS4ub7IvOdRHJL+PDFk9LL8QgpsvnE9zT5gnNg0P4GZPFIDc6hx2rm3BjKfH6AorZhJrDrCveTMA1/z7f5FbUjbOVYqinExS8YTqLKBxyHFT8twoQogbhBC1Qojajo6Oo3qzjQd7eLctwBK/oHxIq71zy5Ngh9zSs0ddc/7CQhYWZ/KHdQeHnTd8ieC+4PzZhP1x6je2H1Wdjrd4kx9MyYG27Vzx5W+QUzJln6WKoqSpVAT3sQb8jDnuTUp5t5SyRkpZU1hYeFRvZpgWpxZlsjCmM3tR7sB5X+OrABQuGT3lgBCCD6ycxebGHg52hQbOmz0RNI+N8mX5ZBe62fF6enTNdG3cB8Csc5ZRteq0aa6NoigzUSpGyzQBQ8cZlgMtKSh3TKdX5XNLeQl1+1ooHvLYfV+kDluPDU/R/DGve/+KUn7w3C6e2trCTRckum4MXxQ914XQBEvOmcWbf66nqyVAflnGVFX/iGKWxbqeIJv8IXYHI/QZJqaUlLscnJLh5pL8LMocNjpr67EbDs742MempZ6Kosx8qWi5Pwlclxw1cwbQK6VsTUG5h9Wyp4fiqmx0W6L6UkrCme14wofvnijP9bB6Ti5PbRn83DF7Eot0ACw6swTNJtjx+pR9Lo1JSkltb5Cbdx5g6drtfHjLXr7b0MrbPQEOReN0xgye7ujh395tYvVbdfzTH/5EhpmDozIbpyc913xVFGXqjdtyF0L8ETgfKBBCNAHfAewAUsq7gGeAK4B6IAR8ZqoqCxAJxulsCrDmyrkD5wL7N2NmW2Rpy4947fuXl/IfT9Xxbpuf+UUZmL4orvmJrh13hoN5K4vY/fYh3vOBedidUzvMT0rJC1193LH/EFv9YTJ0jSsLc7i8MJszsr1k24f/aepDEZ5q8yEffwhHxlU8NCuLqwJhFmek34RniqJMvXGDu5TyiN/9ZWIGn5tSVqNxHNrbCxLKqgcXg+7c9TdwQl7lRUe89n3Ly7j96Tqe2tLC186qQsYt9NzBCcOWnjeLPe+0sae2jVPOmrrRJxt6g/zX3hbe7g0y1+3g+wvKuaY4lwzb4T9Qqj0urvY1sS3iggx4ziP5Re1uvjS7iK9XluBJwyUCFUWZOmkXEbIK3ax8bwVFlZkD53q73oE45C2+5IjXFmY6qZmTxyu7OwbGuNtyBheVLp2XTV6Zlx1TNOY9aJrc+m4T79u4h73hKN9fUM5raxZz/ayCIwb2fuv/+ifKsuejZTl4/IIlfLQkjzsPtnPB+l283u2fkjoripKe0i64r+vs49O173Kwb/CJ0qB2AFd3Brpj/Ml4zp5fwPaWXjoPBQCGtdyFECw9dxbtB/y07etLab039Aa5+J3d/La5k8+XF/D26YmgbtcmNnlR+/4GmnfVUeSZg6sqmzyHnZ8squDxU+ehC8GHt+zlqzsP0hGLp7TeiqKkp7QL7k67RtyUBJKLXJuxMJF8Px5rzoSuP2d+AVLC2r1dAAM3VPstPKMEu0tn6yuNY11+VP7Q0sUHNtVjSHj81Hn89/xyvBNoqQ+17aXnyXEXocc1HEPWSz0rN5MXT1vIVyqKeLytm7PX7eK3TR3Eramdr1pRlJkt7YJ7Q3AD3nk/pMWfeAjK9+7LYIec3IlNabO8PIcsl421zT0Ih47mGX7bweGyseg9pdTXthPqix1TXQ1L8v/2NPH13Y2cmZPBCzULOCs3c/wLR4jHoux842VOWXgeAM4RKy+5dY1/n1fGS6ctYnmmm1v3NHPO+p38uc2HoYK8opyU0i64F3py0RzdbO3cAIBv/8sA5M07cn97P10TnD2/gLe6A2g5jjHndF5+fjmWKY/poaa4JflS3QHuaerkhvJCHlpeRY796B4rqF//FtFgkFm5C9Ay7dgKxh4hs8Dr4tEV8/j98io8msY/1R3gPet2cndjO91x46h/FkVR0k/aBfeVxUuRppO6nk0A9Pm3ogUEmdVnTLiMs6sLaTNMmjxjd43kFHuYszSfba80YcTMSdcxall8Ycc+nuro4Tvzyrh9/ixsE+xbH8uOV18kq7AYW7eGc272ERcZEEJwcX4W/zhtIfctraTMaee2+hZWrN3B9dsaeOxQN+1R1S+vKCe6tJvPPd/rxgxX0uDfAkDQ3oSrO3tS08+eMz8xn/l6aXC4h/dXXlLBX366iV1vH2LpuWNOlTOmmGXx2W37ebG7j+/On8Vny49umoV+ob5eDm7fwpmXXou1O4ZzXs74FwGaEFxemMPlhTls94d4rM3HE20+nutM3Che5HWxMsvDkgw3i7wuZrsclDrtOLS0+7xXFGUMaRfcPQ4dGZ5HT8YztPj2EM+JkBtcMqkyZrnszEJQGzn8HO5lC3IompPJ5hcOcsrZZWgTaHlbUvKVnQd5sbuPHy4o57pZE1sU40j2rFuLtCzmFCzF3N078NDVZCzN9LA008Nt88rYFgjzWreftb4Az3f28cfWwQk/BVDgsJFj08m26WTadNyahl0T2IXANrA03OCEQpYEK7kcsJRgkXhAy0qmyRFLBY9cbW/USnIklmsTIvG1UhMieS65kh2gDUkXCPr/NMPyAlpy2br+1eyGXjs0X6IeYtgxQ96vf/m4/jow8tqBpfKG/26G/kz97zHm+RHbI/1uhh+PswzeOMbLPtnvmpNdtm6KF7mb9vc7kqUZblZnT+0T5mkX3IUQeMxFxHmG7ZseQNcgu6BmUmUY3RFWYGOtL4RlyTEDtxCJRbSfu3s79bVtLFhTMkZJg6SUfHtPM39p7+HWqtKUBHaA3W++Tm5ZOfYuDfJd2PJc4190GJoQrMj0sCLTw81zipFS0h4z2B2M0BSN0RyJ0RY16DVM+gwTX9ykzYoTk5KYJTGSkbk/PkvZH0AHA6smEgG0/3z/+8LoIDYs6CfL6/8oGPywkMkPkOQHhUymDUmXDPkgGZqevHZofpDJD6AhP8eQDyc5pD6KMlW+XFGkgvtYcu2VdOOlr2ktueWQN39iN1P7Gd0RTkXnmViEPe0BFpaMPYKl6tRC8sq81D6zn+qa4iO23n95sJ17mzv54uxCvlxRNKn6HE6wx0fjzu2c8YFridb14VmVmnL7CSEodtopdtpTWu6JRA75QBv6oTb0g4ERacOOR+QbLHjsfBzueMRXnvHyjzS6vMnlH8+on2+GmeD67MfN8XiiPD2Du9tJxFqIjXXoHRre8448p8xIRlei5Q6wfn/3YYO70ASnvW8uf7/nyK33J9p8fLehlQ8W53LbvLKUraq+Z/1bICXz59YQ29yOa/7E+tuV1BEjvnWMc6AoM0Za3j3L8djRIwvw5sZx9GQhJrmWp9EVptzroCTLxfp9R1pkCuatLCR/VgbrnmwYc6WmdT0BvrrzIGdke/npotkDXRCpUP/OW+SWluHscYLGhG+mKoqipGVwz3Y7cIcL0bIgGpv8DUazO4I9382auXms39c16ivvUEITnPmhefR1Rtj26vBFthtCUa7fto/ZLgf3LZuLM4UjTSLBAI07tlJ92nuI7OrGUZGF5krLL1qKokyDtAvu0WgHK7N/y82ldwKwx5j8U6RGVwRbvpvT5ubR1hflYHfoiPkrTsmn4pQ8ap/ZTySQGCPeFTP4xNa9CAEPragi9ygfUDqcfRvfwTJN5i1aQ7w1iHtJfkrLVxTlxJZ2wb2nZz0ltr9jBm1gwnNWJy1tz0/4emlYmH1R9DwXp89NrMG6bpyuGYAzP1RNPGLy5hP1hEyL67ftoyUa5/5lVVS6neNeP1l73nkLb24eWaHEVAPuU1RwVxRl4tLue35R0RV0uAtwaF/G1irYm6fx5OZv8rkLT8NuH7+LxvBFQIIt30V1YQa5Hjvr93XzkZrZR7wuf1YGp14ym9rnD/J/1Rq1kTD3LKnktDGGM0kpaQ40U9dVR31PPW2hNtpD7YTiISyZ6LfPceZQ6CmkxFvCorxFLC1YSp4r8WETj0XZv3kjp5x7AeG6LuwlHmz5alEORVEmbkLBXQhxGfBzQAd+I6X8/oj064EfAf2TsdwppfxNCus59L0oyJ4DxT3Y63Ox5VlsD4ao33sHixf9z7jXG13Jedzz3WiaYM3cPNbt65rQe6+6opL/CfVQGwnz31VlXFk0eIPTsAzeanmLFw++yCuNr9AVSZQpEBS4Cyj0FJJhzxgYfdEabGVLxxZ8Ud9AGdU51Zxbfi7Le8qIRyNULzuD2F/6yLzgyB88iqIoI01kmT0d+BVwCYnFsN8RQjwppawbkfURKeWXp6COo+Q7WvG5LSyrijWleezq3ERz86PMqbgBj+fIU/+aXWGAgYeBTp+bz993tNHcE2ZWzuFbx1JKbtvfSm2ZjXO3h1lwyAdziohbcZ7e+zT3bLuHRn8jHpuHc8rPYU3JGpbkL6E6txqnfvhum1A8RF1XHVs7t/Jm85s8sOMBTt+cTaU9g10H97JUluJekpoHohRFOXlMpOW+BqiXUjYACCEeBq4GRgb348btewsf4Hcs56KKhbzR/Aathk5j030sXPAfR7zW6I4gHBpaRuLBnTOqEn3Z6xq6+OCq8jGvsaTk1j3N3N/SxU0VRZzfFWDrP5qwzQvzs7bvsrN7J4vzFvPj837MebPPO2IwH8lj91BTUkNNSQ2fXfpZesI+7nv583TPBtuOCPuczdyx+3E+wkc4o+wMNJF2t0kURZkGE4kUs4ChK1c0Jc+N9CEhxFYhxGNCiCntR4h3rUfE4GDGai6YfQECQYO2mJaWx4jHfUe81uiOYMtzDXSPLCrJJNttZ13D2DdVDUvyz7saua+5ky/NLuTbVaWceXU1nfPf5cvbP0+Tv5k7zruDR658hEsrL51UYB9L395GrFCU6y78ZxZF5tK7yGRTxyZu/MeNXPWXq3iw7kH8MbWknqIoRzaR4D7WUzkjB4Y/BVRKKZcD/wDuH7MgIW4QQtQKIWo7OjomV9MhAtHd6I0ae13F5LvzWVW8io2BGJYVpqXl0SNea3RF0PMGu180TXBa5dj97kHT5NPb9vHIoW6+UVky8PTp64de44nCu8iLlHDdvlu5oOSilD2VWv/OW9jsDvLDxaAJLn//h3nhmhf4/jnfJ8eZww/f+SEX/ekivrfuezT6U7dalKIoJ5aJBPcmYGhLvBxoGZpBStklpYwmD+8BVo9VkJTybilljZSyprDw6KbCtaw4EU8HkY5cDgUTY84vnXMpDX0HCTiX0dzyyGEfSpKGhdEVxl44vG/9jKo89neFONQ7OEtkcyTG1RvreTk5w+M35pYghOCdQ+9wyyu3sDhvMb8699dYzW5euLcOyxz99OpkSctizztvMWf5KiLbunAtykPPcODQHbyv6n38/orf8/CVD3NxxcU8+u6jXPnElfzrq//K7u7dx/zeiqKcWCbS5/4OMF8IMZfEaJhrgY8PzSCEKJVStiYPrwJ2prSWQwR66pA2iT82l7ZkML5s7mX86J0fsdUo5UxzGz7fW+TlnTnq2nhbCEyJvSxj2Pn3zEv0u79R38k1q8vZ0BvkM9v3ETItHlz+/7d37vFRVXcC/547j0wyeScEQp48Egiv8FLBICiggMW6tkWl7WI/9d3atdv1s627rrb2Qe3udlutn62uUrVudanVFpWHD0DBlrcKQoJACAkkgck7mcxk7tx79o87GSYPkgDhkeR8+VzuefzuuWd+ML9z5tx7fr/RLEiJB6DGV8NDHzxEZlwmv73+tyREJRC4VfDhq5+z8aUSFtxRgDiPoBwnDh6gpbaG+XO/gfmJjvuK4V1kJqZM5GfX/IzvzvguLxe/zOqDq1lXto5rM6/l3sJ7mZQ6qc/3k1Lia9Zp9PjwNQeso0UnGDAI6qblbiFinBQCNLuGzS7QbBo2u4bNoWF3aNid7WlbRN5Kt8vYHNY1doeG0ES//dpRKBRd6dW4SymDQogHgA1Yr0KuklLuF0I8DuySUq4B/kEI8UUgCNQB37hQHW4o3QpAa+wMyussl73JrmTmZMxh08n9zBkez4nKV7o37pUtADhGdnw3vWBEPKmxUXz4uQeREcM/llSQHuVg9dQxjHdbs3xTmjy85WFa9Vaev+F5EqKszUWTr82krTXI9jWl2KNszLs9/5wNfMlHH2J3RhFbGT27X1EAABXPSURBVIsYLnCNSz6jbFpMGt+b8T3umnwXfyj+Ay8Xv8zyt5dTNLKIewvvZVratC7XtNT7qTzUQHVpEyfLmmio9hLwdxNpSmAZaIeNyOe3pikxDYkZlBjB8/ylIrAGh9BgYbNraDZr0NBsVl5oAptNIDQRqhNoWiivCYTNGiC0dhlhuYsIH6G8JgRCC/lsD/kiFiHf9CKirnN5xzzQpS4iDWGH6pHlVj7C33vIx/zpOsKJdr/zYRVFthFRJyILI1wrh+8foeMOKu9c0Yu/+MjP0y1dru/l//0Z+9M/XPTJwnncLibOiTux/zc/RtKn99yllGuBtZ3KHo1IPww83L9d657EmrGM+FEsNY9ci2+Lh5PNftITolk6Zimbj2/GEzMP6XmXQKAWp7Pjrs5AZQvCaeuyIUjTBHPzUllbXM3q4XB1UhzPTcolOcKlwCslr7CtahuPzn6UsUljO1w/Y0kOeluQPRvK0f1B5q8owGY/u7daTMPg821bmTpxEcYpH0m39m2QiHfGc1/hffz9hL/n1ZJXeXH/i6xYt4LpadP55qRvMkGbxpFdHsr21VJ73Brc7FE2hufEMe6qESQMjyFhWDTuhCii4xy43A5sDq3XL4qUEtOUGAGToG4S1A0M3SQYmQ+lDd3ACMrwr4GgbmAaEkM3MYImhmENFqZhnh48DBNpyPCAEgwYmCZIU1py7WlTIkPH6bTVP2la/twxJWYokoiU8rJz/6oYekxflM3sW8b2LngeDLgdqvGLFzFhwXwayxpgi4ejHi/pCdFcl3Udya5kNte38mW7TlXVn8jJuafDtXqVF0e6u4vRlFJyKsGO329wvcPF84WjO4Sbq/ZW8+SeJynKKOIreV/p0ichBLP+bgwOl53tfynF1xxg8b2TcZ6Fo6/yfZ/ga24i11aALTGKmMKzeybhdri5c/KdLB+/nD8Wv8bv9r7AAxsfIME3jEknr2Fu3EJmf2kMWeOTSclwo52nP2khrFm1LVrDOQA3z0ozFKDDlKGBIMJ3u7TKaQ8AElkXHiBOO3UPDxjd5CWRcgAdZdvlT9d3va5jXYT/+NN/dbg24tSlgXB5Lw7hZaeGurbXufmzHDH72Z98byP25TagJ6Rd+C/NgDPuAMLhYFSatW5+pMbL1WNTcdqcfDnvyzy37zluyp/CicpXyc6+OzwDlaZEr/QSM6NrwIuflFbxnmjDBcxss3WJI7py+0pMafLIVY+ccUYrhGDmklzcCU42vXyQ136+i0X3TCKl0/r+mSj564eMSirEVgtxt2QhzsH4ehvb+PS9SgJbc/mS/2E8eSXsT9/CR9Gvs1N7i/lR81kqljKLWURxYX8SXu4ILbSIcB7PSBSKy5kBadwBhse5iHbYOOrxhstuHXcrqz5bxY7AcOYYe6lv2EZy0mzAer9dBgycnYzt/1R4eLr8FHfkplGS6eP9klM8uDA/XP/h8Q/ZWLGRB6c/SGZc95ucIim4eiRxyS7eWXWA11buYu7yfMbPTu9xmaOttZUjO3ZyY8adOIa7cV/Rc0i/zjTV+tizoZziv1YiDcmYGWlMuS6LEaMXIsR3KK4t5s+H/8zbR99mfdl6YuwxzM2cS1FGEbPSZzHCfXb3UygUlz8D1rhrmiA31U1pTUu4bIR7BAtzFrLuxFZmpsdz4vj/ho376Yepp437lrpmHjt8ghtTE/hZfibPVQdYua6EirpWspJjCBgBntjxBLnxudwx4Y4+9y1zfDK3/esVvLtqPxtfKuHwbg9zb88nYVj3P8X2f/A+ea6pOAwniTeP7fMD2eY6P7vXlVH81yoQUDA7nWk35HS5T0FKAQUpBTw08yF2VO/gvfL32FS+ifVl6wHIic+hcFghU1KnMGnYJMYm9uwyQaFQXP4MOONe5Q/w0wPH+GlBFgXpcXxw0IOUMjwzvnfKvbxT9g7bjAJcng34fBVER2dZxl0TOIbHWO20Bbj/wDHGxETxVEE2NiG4cXI6K9eV8Pa+Ku6bN4aXDrxEeXM5zyx8Boft7OKMuhOi+OKD09i36Tjb15TyyuPbmXZDNoXzs3C5T7clTZOyd7ZzReL1xExPIyonvte2m2p87NlwLGzUJxSNZPriHOJ6CZ7tsDkoyiiiKKOIR2c9yqGGQ2yr3MbO6p1sPbGVNUfWAKAJjey4bPKS8siNzyU7Ppuc+BwyYzNJiU5RLhAUigHAgDPua9fu4PVENx+/8Q7LPZW80ZJBeV0rOSnW6415SXksHb2Udcc2MH24RkXFC+Tn/xuBSi+O4TEIu0bQlNy3/xitpsnrk8bitlth+rKSYyjMTGDtviqWTo/imU+fYWH2Qq7O6PpaZV/QNEHhgizGTE9j6x8PsevtMva+X8HkazOZODeDuGQXZdv3MNlWhHQLEr845oxtSSmpLm1i76YKjuzxIDQoKBrJjD4Y9e4QQpCflE9+Uj4rJq5ASkmlt5LPaj7jUP0hDtUf4mDdQTaWb8SQp1+XtGt2hscMZ4R7BCPcI0h1WR4vU6JTSI1OJSkqiSRXEolRiThtznPSm0KhOH8GnHG/ZVwW+vuV/HByNm/WVbP41LvsLpsSNu4A90+9n3VH17ExkEtS1Wpys79DoKI5HM3ol8eq2d7o5emCbPLdHQ3jF6ak87O1JTyy6SmEEHz/yu+fd59jk6JYfM8kao43s2ttGbs3HGP3+mOMHBPP2JrjxNniSb1jcpcwesGAgae8mfIDdRzefYqGk604o+0ULsiicH4WsUn9t3QihCAjNoOM2AwW5S4Kl+umTlVLFceajnG85TjV3urw8cmpT6jx1dBmtHXbptvhJjEqkXhnvHVEWec4ZxyxjlhinbHW2RGL2+kmxh5DjD0Gt8NNjCOGaHs0Ds2hNjspFOfAgDPuSQXZ3PTHSo777Dw38UrSTx3n4GurkNN/GDYCWXFZrJi4glWfrSIPP5n7V+HyXUH0+GS2NbTwq7KTLBuRxJdHdN0kdMu0TJ5YX8xHxTb+bekD/fqwMTUzjsX3TKbR08qh7dVoW8tIEinsaCjG8+8asckuomLsSFPi9+o01/qR0trskT42kWk3ZDN2RtpZvWJ5vjg0B9nx2WTHZ3dbL6XEq3up8dXg8XloaGug3l/f4dwUaKKprYnShlIrHWg644DQGZuw4bK7iLZH47K5cNlduGwuouxRuGwunDZnOO/ULFcN4SOUt2t2nDYnDs0RPuyaPXyE8+J0mU2zYRfW2SZs2DU7mtC6pG3ChiZ63xegUFxsBpxxF5oganQC933m5eANSbwz92bS3vgtu956gytu+lJY7ttTv82WE1tY3XCU0Y4XmBI9kebcOL619zA50U5W5nX/5ktA1OCI/wy96UpuHr3kgnyG+EQXuTWt+HGwt+lDxt62jLQagbexjTavjtA0EtJiyL9qBKmZsWTkJ3VYp7+cEEJYM3BnLLkJuX2+Tjd0vLqXFr2FFr0Fr+6lVW+lNdhKq96KV/fiC/o6HH7DT1uwDV/QR5vRRlOgCb/hJ2AE8Af96KZOm9FGwAigm/qF+9DdoAktbPDb05FlAmGdhehSLwjttEUL7Yi10u3PNtpl2geRdvluz92UAeGdsZ1lwztmIVzXOd1dXeS5887ZznKRbUTWd6aLfOf79TKA9rZDtqfre91d20eZvt5v9sjZLMhecFbtnS0DzrgDuPIS8R+o5alhw5hX7+WPi1cQ96ffMCwrh9ypls8yp83Jyjkruf2t2/ldXZCHpq7lF4dGU6cHeXN6HrGhdfZIvLqX72z8Du4UjdqGyfzlkypWzM7t176brTq1r5TQdqiBXTUbyFk2iynX5fd+4SDDYXOQaEsk0ZXYu/A5IKVEN3V0UydgBAgYAYIyiG7oBM0gATNA0AyGD93UMaRhnU2DoBnEkIZ1RORNaWJIK9+e7nI2rbNEYpiny4EOshJpnaUM59vTJpZfH5NQfXs+oi58PRLTtNxBhNvAjNiAFNqo1f4nvKGpUzq8IarTuZu6sJ47X9OLXOS/T4/1Z2j3zP/gnbM9t99TX7pvvn93QaVGpyrj3h3Rk1JpePMI0fvqeHpKNl8/UMaaJSuI/81/sOLH/0FSuuVuflzyOB4Z/wN+VPwT/kkUU1pfz28mjGVyXEyXNlv1Vr63+XuUNpTy9I1P88s1gqc3HeYrMzKJcfaPmtrKGql79SBGUxuftn5Ac2ozhddfmF8HQx0hRHh5xu3oGudWoRjsDMh32mxxTlx5SXh3n2TBsHjGndSpSMvgzaKbeO3nP6S1qTEsu6D2CibyNZr9VYw69S8U2Cu7tFfaUMo3N3yTbVXbeGz2YxRlFPHwkvGcbGrj+S1Hz7u/ZsCg8Z0yPM/uBU1QkXuMklPbWXjnt9C0rr8gFAqF4nwZkDN3gNi5mdT8zz5atlXzwLh0/nFXKZ+Nm4AIBHA98Ti3/uvjCJuLH9fXsyl7MfNwUnF8FV99+6tcnVHEtLRpGKZBSV0Jm49vJsYew5PXPcm8rHkAzMxNZtHE4fz3B0e4qXAkualnP/uTpsS310PjuqMYjQFipqVRl13P355czeT5N5CeN66/1aJQKBQAiLN2+NNPzJw5U+7ateucrtVNiUMTeJ7fR6C8mZQHprLkxR3UjXRxMt1FfukBbj+ym7evuY3dLiffiI3jpzNGsePT+3n16BZKyaKsuRKBYGTsSOZnz+fuyXeT5ErqcJ/KBh9Lfr2FrORo/nT/1UR1s07fHVI38O45RcvWEwQ9PhwZsSQuHU1V0xH+/IvHGZY7mmWP/ARndNflIYVCoegJIcRuKeXMXuUGmnHf2ejl/gNlPDJ6JIvtLmqf+hh7kos9s4dx3+t7KVyUy04ZILn+FNf9dT0zC5bwjbtuAEDXG9mx8yYMw0fexGdJjB9PtL1n72zv7K/mnt/v5uapI/nPZYXYz+DQS5qSQHkTrR+fonVvDdIXxJEZS9w1GURPHkbFgb288cTjJKWP5NZHV+KK7ZtDMYVCoYhk0Br3vc2tPFhcTrHXT5xN40stGvdtrccTa+P7E5wUJ9ixAzbDQAeu2vc3HsrPYtaiG7HZHbS2HmX3nq8ipcH0aS8TG9v7mypPbzrMv284yBempPOfywpxOawZvNESoK20Ef/n9fhL6jBbdIRDI3piCu4rR+AclYDe5uejV3/PnvVvkjwyk9seW0lMwoV5Q0ShUAx++tW4CyEWA7/GisT0nJTy553qo4CXsGKn1gK3SSnLemrzfJZlDCl5r7aJ92ubONTqJ7vKz73bm4jRTTYnaDiaA0zSHDx1TRxv2SXRPi+zjh3gnvGjmDN7DgHjBHs+/hrBYAvj8h8lPX1Zr+/QPrP5MCvXH2RUbBSPZQ5jfK1O0OOzPr/Ljis/keiCFFwTUtCibPhbWij+aDO73nyDJs9Jpi76Atcsv0MtxSgUivOi34y7EMIGfA5cjxUseyewXEp5IELmW8AUKeV9QojbgVuklLf11O75GPfu0Ov91K8+SOBoEwAnMdnqlLROSmJbcoAdmh2JJPtkBbOkn3lpMaRpf6BN7iAleQ6jRz9IQsJ0zICB0dBGsNZH0ONDP9mKXu1Fr/ay09BZiY9TSGa5XXx13AjmzRxJfE4iEpO6ExUcLzlAxf69lO7eQVAPMHz0WK69424yx0/st8+qUCiGLv1p3GcDP5RSLgrlHwaQUq6MkNkQkvmbEMIOVAPDZA+Nn6txN5raCFQ0Y/oNTK+O0dCGXu0lUNGM1E3sw6Jx5sRTd6wRh8dP+yPQ0hjB2+k2No+wcyzW2u0ZrRuMbmpjVEuAHJ9Bps9GepuDxIAkQZfEBEE4JUacxIgz0N0G9U4/b3p01lbbaQzacGKQadaS1FxJclsNsYaXNLedCYVTmLlgARlj8876MyoUCsWZ6Ktx78urkBlARUT+OHDVmWRCAbUbgRSgpm/d7Tu/+8mv8Z3J2aAdqA8d7fl2ApB5DL5+7MxttwCHOrdnAo2hI8RI4K7O7ac4gPRwtryiifIX3ujhkygUiqGKKwB3/+KfL+g9+rKJqbvF6M4z8r7IIIS4RwixSwixy+Px9KV/CoVCoTgH+jJzPw5kReQzgc7bPNtljoeWZRKAus4NSSmfBZ4Fa1nmXDp81wUe7RQKhWIw0JeZ+04gTwgxSgjhBG4H1nSSWQO0x6H7CrCxp/V2hUKhUFxYep25h9bQHwA2YL0KuUpKuV8I8TiwS0q5Bnge+L0Q4jDWjP32C9lphUKhUPRMn3zLSCnXAms7lT0akfYDy/q3awqFQqE4VwakV0iFQqFQ9Iwy7gqFQjEIUcZdoVAoBiHKuCsUCsUgRBl3hUKhGIRcMpe/QggP0IMzgB5J5QK4NhigKF1YKD1YKD1YDGY95Egph/UmdMmM+/kghNjVF8c5QwGlCwulBwulBwulB7Uso1AoFIMSZdwVCoViEDJQjfuzl7oDlxFKFxZKDxZKDxZDXg8Dcs1doVAoFD0zUGfuCoVCoeiBAWfchRCLhRAHhRCHhRA/uNT9uVgIIVYJIU4JIT6LKEsWQrwrhDgUOiddyj5eDIQQWUKITUKIYiHEfiHEg6HyoagLlxBihxDi05AufhQqHyWE2B7Sxf+FXHUPaoQQNiHEx0KIt0L5IaeDzgwo4x4K1v00sASYACwXQky4tL26aLwALO5U9gPgfSllHvB+KD/YCQL/JKUsAGYB3w79HxiKumgD5kspC4GpwGIhxCzgCeC/QrqoB+68hH28WDwIFEfkh6IOOjCgjDtwJXBYSlkqpQwArwI3X+I+XRSklB/SNbrVzcCLofSLwN9d1E5dAqSUVVLKPaF0M9YXOoOhqQsppWwJZR2hQwLzgddC5YNeF0KITOALwHOhvGCI6aA7Bppx7y5Yd8Yl6svlwHApZRVYRg9Iu8T9uagIIXKBacB2hqguQssRnwCngHeBI0CDlDIYEhkK35FfAf+MFc4eIIWhp4MuDDTj3qdA3IrBjxAiFvgT8F0pZdOl7s+lQkppSCmnYsU2vhIo6E7s4vbq4iGEWAqcklLujizuRnTQ6uBM9CkS02VEX4J1DyVOCiHSpZRVQoh0rNnboEcI4cAy7P8rpXw9VDwkddGOlLJBCLEZ6zlEohDCHpq5DvbvSBHwRSHEjYALiMeayQ8lHXTLQJu59yVY91AiMjD5HcBfLmFfLgqh9dTngWIp5S8jqoaiLoYJIRJD6WhgIdYziE1YgephkOtCSvmwlDJTSpmLZQ82Sim/xhDSwZkYcJuYQiP0rzgdrPunl7hLFwUhxCvAtVje7k4CjwF/BlYD2UA5sExK2fmh66BCCDEH2ALs4/Qa679grbsPNV1MwXpYaMOaqK2WUj4uhBiN9bJBMvAx8HUpZdul6+nFQQhxLfCQlHLpUNVBJAPOuCsUCoWidwbasoxCoVAo+oAy7gqFQjEIUcZdoVAoBiHKuCsUCsUgRBl3hUKhGIQo465QKBSDEGXcFQqFYhCijLtCoVAMQv4fei9eEYF3KtwAAAAASUVORK5CYII=\n",
=======
      "image/png": "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\n",
>>>>>>> d3b09d4a5b2d7cfe7d1bdbcdb350d11e9f215dd0
      "text/plain": [
       "<Figure size 432x288 with 1 Axes>"
      ]
     },
     "metadata": {},
     "output_type": "display_data"
    }
   ],
   "source": [
    "n_spec = solution1.y.shape[0]\n",
    "\n",
    "print(len(solution1.t))\n",
    "\n",
    "lim : int = round(len(solution1.t)*0.1)\n",
    "for k in range(n_spec):\n",
    "\n",
    "    plt.plot(solution1.t[0:lim], solution1.y[k,0:lim])"
   ]
  },
  {
   "cell_type": "markdown",
   "metadata": {},
   "source": [
    "## Second try"
   ]
  },
  {
   "cell_type": "code",
<<<<<<< HEAD
   "execution_count": 10,
=======
   "execution_count": 11,
>>>>>>> d3b09d4a5b2d7cfe7d1bdbcdb350d11e9f215dd0
   "metadata": {},
   "outputs": [
    {
     "name": "stdout",
     "output_type": "stream",
     "text": [
      "-1\n",
      "Required step size is less than spacing between numbers.\n",
      "-1\n",
      "Required step size is less than spacing between numbers.\n",
      "0\n",
      "The solver successfully reached the end of the integration interval.\n"
     ]
    }
   ],
   "source": [
    "T : int = 100\n",
    "sol_flag : int = 0\n",
    "    \n",
    "while sol_flag == 0:\n",
    "    initial_cond2 = Get_Random_Composition(nodes_number )\n",
    "    solution2 = solve_ivp(SystemDynamics, (0,T), initial_cond2, rtol = 1e-6, method='RK45'    )\n",
    "    \n",
    "    print(solution2.status)\n",
    "    print(solution2.message)\n",
    "    \n",
    "    if solution2.status != -1:\n",
    "        sol_flag = 1\n"
   ]
  },
  {
   "cell_type": "code",
<<<<<<< HEAD
   "execution_count": 11,
=======
   "execution_count": 12,
>>>>>>> d3b09d4a5b2d7cfe7d1bdbcdb350d11e9f215dd0
   "metadata": {},
   "outputs": [
    {
     "name": "stdout",
     "output_type": "stream",
     "text": [
<<<<<<< HEAD
      "321\n"
=======
      "280\n"
>>>>>>> d3b09d4a5b2d7cfe7d1bdbcdb350d11e9f215dd0
     ]
    },
    {
     "data": {
<<<<<<< HEAD
      "image/png": "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\n",
=======
      "image/png": "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\n",
>>>>>>> d3b09d4a5b2d7cfe7d1bdbcdb350d11e9f215dd0
      "text/plain": [
       "<Figure size 432x288 with 1 Axes>"
      ]
     },
     "metadata": {},
     "output_type": "display_data"
    }
   ],
   "source": [
    "n_spec = solution2.y.shape[0]\n",
    "\n",
    "print(len(solution2.t))\n",
    "\n",
    "lim : int = round(len(solution2.t))\n",
    "for k in range(n_spec):\n",
    "\n",
    "    plt.plot(solution2.t[0:lim], solution2.y[k,0:lim])"
<<<<<<< HEAD
=======
   ]
  },
  {
   "cell_type": "code",
   "execution_count": 13,
   "metadata": {},
   "outputs": [
    {
     "name": "stdout",
     "output_type": "stream",
     "text": [
      "['0.00', '0.44', '0.00', '0.00', '0.00', '0.00', '0.00', '0.00', '0.00', '0.00', '0.00', '0.00', '0.00', '0.21', '0.00', '4.50', '4.38', '0.00', '0.00', '1.57', '0.00', '0.00', '0.00', '0.00', '0.00', '0.00', '0.00', '0.00']\n"
     ]
    },
    {
     "data": {
      "text/plain": [
       "<matplotlib.image.AxesImage at 0x7fb3c200dcf8>"
      ]
     },
     "execution_count": 13,
     "metadata": {},
     "output_type": "execute_result"
    },
    {
     "data": {
      "image/png": "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\n",
      "text/plain": [
       "<Figure size 432x288 with 1 Axes>"
      ]
     },
     "metadata": {},
     "output_type": "display_data"
    }
   ],
   "source": [
    "line_sol = solution2.y[:, -1]\n",
    "two_decimals_sol = [\"{:.2f}\".format(value) for value in line_sol]\n",
    "print( two_decimals_sol )\n",
    "\n",
    "dummy_matrix = np.ones((28,28))*line_sol\n",
    "\n",
    "# cmap=\"gray_r\" shows 0 as white square\n",
    "# cmap=\"gray\" shows 0 as black square\n",
    "\n",
    "plt.imshow(dummy_matrix, cmap=\"gray_r\")"
   ]
  },
  {
   "cell_type": "markdown",
   "metadata": {},
   "source": [
    "# Images from equation solutions"
   ]
  },
  {
   "cell_type": "code",
   "execution_count": 14,
   "metadata": {},
   "outputs": [],
   "source": [
    "T   = 100\n",
    "my_image = GetImageMatrix(28, T)"
   ]
  },
  {
   "cell_type": "code",
   "execution_count": 15,
   "metadata": {},
   "outputs": [
    {
     "data": {
      "text/plain": [
       "(28, 28)"
      ]
     },
     "execution_count": 15,
     "metadata": {},
     "output_type": "execute_result"
    }
   ],
   "source": [
    "my_image.shape"
>>>>>>> d3b09d4a5b2d7cfe7d1bdbcdb350d11e9f215dd0
   ]
  },
  {
   "cell_type": "code",
<<<<<<< HEAD
   "execution_count": 12,
=======
   "execution_count": 16,
>>>>>>> d3b09d4a5b2d7cfe7d1bdbcdb350d11e9f215dd0
   "metadata": {},
   "outputs": [
    {
     "name": "stdout",
     "output_type": "stream",
     "text": [
      "['7.05', '1.60', '0.00', '0.00', '0.00', '0.00', '1.11', '4.04', '0.08', '0.00', '0.00', '3.61', '0.00', '0.00', '0.00', '3.38', '0.00', '0.00', '4.32', '0.00', '0.00', '0.00', '0.00', '0.00', '0.00', '1.48', '0.00', '0.00']\n"
     ]
    },
    {
     "data": {
      "text/plain": [
<<<<<<< HEAD
       "<matplotlib.image.AxesImage at 0x7f3e93a8a3c8>"
      ]
     },
     "execution_count": 12,
=======
       "<matplotlib.image.AxesImage at 0x7fb3c1f66a20>"
      ]
     },
     "execution_count": 16,
>>>>>>> d3b09d4a5b2d7cfe7d1bdbcdb350d11e9f215dd0
     "metadata": {},
     "output_type": "execute_result"
    },
    {
     "data": {
<<<<<<< HEAD
      "image/png": "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\n",
=======
      "image/png": "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\n",
>>>>>>> d3b09d4a5b2d7cfe7d1bdbcdb350d11e9f215dd0
      "text/plain": [
       "<Figure size 432x288 with 1 Axes>"
      ]
     },
     "metadata": {},
     "output_type": "display_data"
<<<<<<< HEAD
    }
   ],
   "source": [
    "line_sol = solution2.y[:, -1]\n",
    "two_decimals_sol = [\"{:.2f}\".format(value) for value in line_sol]\n",
    "print( two_decimals_sol )\n",
    "\n",
    "dummy_matrix = np.ones((28,28))*line_sol\n",
    "\n",
    "# cmap=\"gray_r\" shows 0 as white square\n",
    "# cmap=\"gray\" shows 0 as black square\n",
    "\n",
    "plt.imshow(dummy_matrix, cmap=\"gray_r\")"
   ]
  },
  {
   "cell_type": "markdown",
   "metadata": {},
   "source": [
    "# Images from equation solutions"
   ]
  },
  {
   "cell_type": "code",
   "execution_count": 13,
   "metadata": {},
   "outputs": [],
   "source": [
    "T   = 100\n",
    "my_image = GetImageMatrix(28, T)"
   ]
  },
  {
   "cell_type": "code",
   "execution_count": 14,
   "metadata": {},
   "outputs": [
    {
     "data": {
      "text/plain": [
       "(28, 28)"
      ]
     },
     "execution_count": 14,
     "metadata": {},
     "output_type": "execute_result"
    }
   ],
   "source": [
    "my_image.shape"
   ]
  },
  {
   "cell_type": "code",
   "execution_count": 15,
   "metadata": {},
   "outputs": [
    {
     "data": {
      "text/plain": [
       "<matplotlib.image.AxesImage at 0x7f3e93a60710>"
      ]
     },
     "execution_count": 15,
     "metadata": {},
     "output_type": "execute_result"
    },
    {
     "data": {
      "image/png": "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\n",
      "text/plain": [
       "<Figure size 432x288 with 1 Axes>"
      ]
     },
     "metadata": {},
     "output_type": "display_data"
    }
   ],
   "source": [
    "plt.imshow(my_image, cmap=\"gray_r\")"
   ]
  },
  {
   "cell_type": "code",
   "execution_count": 16,
   "metadata": {},
   "outputs": [],
   "source": [
    "T   = 100\n",
    "my_image2 = GetImageMatrix(28, T)\n"
   ]
  },
  {
   "cell_type": "code",
   "execution_count": 17,
   "metadata": {},
   "outputs": [
    {
     "data": {
      "text/plain": [
       "<matplotlib.image.AxesImage at 0x7f3e939db9e8>"
      ]
     },
     "execution_count": 17,
     "metadata": {},
     "output_type": "execute_result"
    },
    {
     "data": {
      "image/png": "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\n",
      "text/plain": [
       "<Figure size 432x288 with 1 Axes>"
      ]
     },
     "metadata": {},
     "output_type": "display_data"
    }
   ],
   "source": [
    "plt.imshow(my_image2, cmap=\"gray_r\")"
   ]
  },
  {
   "cell_type": "code",
   "execution_count": 19,
   "metadata": {},
   "outputs": [
    {
     "name": "stdout",
     "output_type": "stream",
     "text": [
      "[[-1.          0.48473537  0.43738013]\n",
      " [-1.07115162 -1.          0.67679653]\n",
      " [-0.99765304 -0.55536654 -1.        ]]\n"
     ]
    }
   ],
   "source": [
    "print(A_matrix[0:3,0:3])"
=======
    }
   ],
   "source": [
    "plt.imshow(my_image, cmap=\"gray_r\")"
>>>>>>> d3b09d4a5b2d7cfe7d1bdbcdb350d11e9f215dd0
   ]
  },
  {
   "cell_type": "code",
   "execution_count": null,
   "metadata": {},
   "outputs": [],
   "source": []
  }
 ],
 "metadata": {
  "kernelspec": {
   "display_name": "Python 3",
   "language": "python",
   "name": "python3"
  },
  "language_info": {
   "codemirror_mode": {
    "name": "ipython",
    "version": 3
   },
   "file_extension": ".py",
   "mimetype": "text/x-python",
   "name": "python",
   "nbconvert_exporter": "python",
   "pygments_lexer": "ipython3",
   "version": "3.6.5"
  }
 },
 "nbformat": 4,
 "nbformat_minor": 2
}
